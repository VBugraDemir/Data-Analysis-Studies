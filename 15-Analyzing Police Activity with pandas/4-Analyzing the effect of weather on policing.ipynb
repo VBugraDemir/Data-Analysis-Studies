{
 "cells": [
  {
   "cell_type": "markdown",
   "metadata": {},
   "source": [
    "# Analyzing the effect of weather on policing"
   ]
  },
  {
   "cell_type": "markdown",
   "metadata": {},
   "source": [
    "## Exploring the weather dataset"
   ]
  },
  {
   "cell_type": "markdown",
   "metadata": {},
   "source": [
    "Many natural phenomena have a normal distribution."
   ]
  },
  {
   "cell_type": "markdown",
   "metadata": {},
   "source": [
    "### Plotting the temperature"
   ]
  },
  {
   "cell_type": "code",
   "execution_count": 50,
   "metadata": {},
   "outputs": [],
   "source": [
    "from urllib.request import urlretrieve \n",
    "import pandas as pd\n",
    "url =\"https://assets.datacamp.com/production/repositories/1497/datasets/02f3fb2d4416d3f6626e1117688e0386784e8e55/weather.csv\"\n",
    "\n",
    "urlretrieve(url, \"weather.csv\")\n",
    "weather = pd.read_csv(\"weather.csv\")"
   ]
  },
  {
   "cell_type": "code",
   "execution_count": 51,
   "metadata": {},
   "outputs": [
    {
     "name": "stdout",
     "output_type": "stream",
     "text": [
      "              TMIN         TAVG         TMAX\n",
      "count  4017.000000  1217.000000  4017.000000\n",
      "mean     43.484441    52.493016    61.268608\n",
      "std      17.020298    17.830714    18.199517\n",
      "min      -5.000000     6.000000    15.000000\n",
      "25%      30.000000    39.000000    47.000000\n",
      "50%      44.000000    54.000000    62.000000\n",
      "75%      58.000000    68.000000    77.000000\n",
      "max      77.000000    86.000000   102.000000\n"
     ]
    },
    {
     "data": {
      "image/png": "[encoded data removed]",
      "text/plain": [
       "<Figure size 432x288 with 1 Axes>"
      ]
     },
     "metadata": {
      "needs_background": "light"
     },
     "output_type": "display_data"
    }
   ],
   "source": [
    "import matplotlib.pyplot as plt\n",
    "print(weather[[\"TMIN\", \"TAVG\", \"TMAX\"]].describe())\n",
    "weather[[\"TMIN\", \"TAVG\", \"TMAX\"]].plot(kind=\"box\")\n",
    "plt.show()"
   ]
  },
  {
   "cell_type": "markdown",
   "metadata": {},
   "source": [
    "### Plotting the temperature difference\n"
   ]
  },
  {
   "cell_type": "code",
   "execution_count": 52,
   "metadata": {},
   "outputs": [
    {
     "name": "stdout",
     "output_type": "stream",
     "text": [
      "count    4017.000000\n",
      "mean       17.784167\n",
      "std         6.350720\n",
      "min         2.000000\n",
      "25%        14.000000\n",
      "50%        18.000000\n",
      "75%        22.000000\n",
      "max        43.000000\n",
      "Name: TDIFF, dtype: float64\n"
     ]
    },
    {
     "data": {
      "image/png": "[encoded data removed]",
      "text/plain": [
       "<Figure size 432x288 with 1 Axes>"
      ]
     },
     "metadata": {
      "needs_background": "light"
     },
     "output_type": "display_data"
    }
   ],
   "source": [
    "weather[\"TDIFF\"] = weather[\"TMAX\"] - weather[\"TMIN\"]\n",
    "print(weather.TDIFF.describe())\n",
    "weather.TDIFF.plot(kind=\"hist\", bins=20)\n",
    "plt.show()"
   ]
  },
  {
   "cell_type": "markdown",
   "metadata": {},
   "source": [
    "The TDIFF column has no negative values and its distribution is approximately normal, both of which are signs that the data is trustworthy."
   ]
  },
  {
   "cell_type": "markdown",
   "metadata": {},
   "source": [
    "## Categorizing the weather"
   ]
  },
  {
   "cell_type": "markdown",
   "metadata": {},
   "source": [
    "### Counting bad weather conditions\n"
   ]
  },
  {
   "cell_type": "code",
   "execution_count": 53,
   "metadata": {},
   "outputs": [
    {
     "data": {
      "image/png": "[encoded data removed]",
      "text/plain": [
       "<Figure size 432x288 with 1 Axes>"
      ]
     },
     "metadata": {
      "needs_background": "light"
     },
     "output_type": "display_data"
    }
   ],
   "source": [
    "WT = weather.loc[:,\"WT01\":\"WT22\"]\n",
    "weather[\"bad_conditions\"] = WT.sum(axis = \"columns\")\n",
    "weather[\"bad_conditions\"] = weather.bad_conditions.fillna(0).astype(\"int\")\n",
    "weather.bad_conditions.plot(kind=\"hist\")\n",
    "plt.show()"
   ]
  },
  {
   "cell_type": "markdown",
   "metadata": {},
   "source": [
    "### Rating the weather conditions"
   ]
  },
  {
   "cell_type": "code",
   "execution_count": 54,
   "metadata": {},
   "outputs": [
    {
     "name": "stdout",
     "output_type": "stream",
     "text": [
      "0    1749\n",
      "1     613\n",
      "2     367\n",
      "3     380\n",
      "4     476\n",
      "5     282\n",
      "6     101\n",
      "7      41\n",
      "8       4\n",
      "9       4\n",
      "Name: bad_conditions, dtype: int64\n",
      "bad      1836\n",
      "good     1749\n",
      "worse     432\n",
      "Name: rating, dtype: int64\n"
     ]
    }
   ],
   "source": [
    "print(weather.bad_conditions.value_counts().sort_index())\n",
    "mapping = {0:'good', 1:'bad', 2:'bad', 3:\"bad\", 4:\"bad\", 5:\"worse\",\n",
    "6:\"worse\", 7:\"worse\", 8:\"worse\", 9:\"worse\"}\n",
    "weather[\"rating\"] = weather.bad_conditions.map(mapping)\n",
    "print(weather[\"rating\"].value_counts())"
   ]
  },
  {
   "cell_type": "markdown",
   "metadata": {},
   "source": [
    "### Changing the data type to category"
   ]
  },
  {
   "cell_type": "markdown",
   "metadata": {},
   "source": [
    "The new way of creating ordered catergorical variables."
   ]
  },
  {
   "cell_type": "code",
   "execution_count": 56,
   "metadata": {},
   "outputs": [
    {
     "data": {
      "text/plain": [
       "0    bad\n",
       "1    bad\n",
       "2    bad\n",
       "3    bad\n",
       "4    bad\n",
       "Name: rating, dtype: category\n",
       "Categories (3, object): [good < bad < worse]"
      ]
     },
     "execution_count": 56,
     "metadata": {},
     "output_type": "execute_result"
    }
   ],
   "source": [
    "from pandas.api.types import CategoricalDtype\n",
    "cats = [\"good\", \"bad\", \"worse\"]\n",
    "weather['rating'] = weather.rating.astype(CategoricalDtype(categories=cats, ordered=True))\n",
    "weather.rating.head()"
   ]
  },
  {
   "cell_type": "markdown",
   "metadata": {},
   "source": [
    "## Merging datasets"
   ]
  },
  {
   "cell_type": "markdown",
   "metadata": {},
   "source": [
    "### Preparing the DataFrames"
   ]
  },
  {
   "cell_type": "code",
   "execution_count": 78,
   "metadata": {},
   "outputs": [
    {
     "name": "stdout",
     "output_type": "stream",
     "text": [
      "   index   stop_date stop_time driver_gender driver_race  \\\n",
      "0      0  2005-01-04     12:55             M       White   \n",
      "1      1  2005-01-23     23:15             M       White   \n",
      "2      2  2005-02-17     04:15             M       White   \n",
      "3      3  2005-02-20     17:15             M       White   \n",
      "4      4  2005-02-24     01:20             F       White   \n",
      "\n",
      "                    violation_raw  violation  search_conducted search_type  \\\n",
      "0  Equipment/Inspection Violation  Equipment             False         NaN   \n",
      "1                        Speeding   Speeding             False         NaN   \n",
      "2                        Speeding   Speeding             False         NaN   \n",
      "3                Call for Service      Other             False         NaN   \n",
      "4                        Speeding   Speeding             False         NaN   \n",
      "\n",
      "    stop_outcome  is_arrested stop_duration  drugs_related_stop district  \\\n",
      "0       Citation        False      0-15 Min               False  Zone X4   \n",
      "1       Citation        False      0-15 Min               False  Zone K3   \n",
      "2       Citation        False      0-15 Min               False  Zone X4   \n",
      "3  Arrest Driver         True     16-30 Min               False  Zone X1   \n",
      "4       Citation        False      0-15 Min               False  Zone X3   \n",
      "\n",
      "        stop_datetime  stop_minutes  \n",
      "0 2005-01-04 12:55:00             8  \n",
      "1 2005-01-23 23:15:00             8  \n",
      "2 2005-02-17 04:15:00             8  \n",
      "3 2005-02-20 17:15:00            23  \n",
      "4 2005-02-24 01:20:00             8  \n",
      "         DATE rating\n",
      "0  2005-01-01    bad\n",
      "1  2005-01-02    bad\n",
      "2  2005-01-03    bad\n",
      "3  2005-01-04    bad\n",
      "4  2005-01-05    bad\n"
     ]
    }
   ],
   "source": [
    "ri = pd.read_csv(\"police.csv\")\n",
    "ri[\"is_arrested\"] = ri.is_arrested.astype(\"bool\")\n",
    "ri.dropna(subset=[\"driver_gender\"], inplace=True)\n",
    "ri.drop([\"county_name\", \"state\"], axis=\"columns\", inplace=True)\n",
    "combined = ri.stop_date.str.cat(ri.stop_time, sep=\" \")\n",
    "ri[\"stop_datetime\"] = pd.to_datetime(combined)\n",
    "mapping = {\"0-15 Min\":8, \"16-30 Min\":23, \"30+ Min\":45}\n",
    "ri[\"stop_minutes\"] = ri.stop_duration.map(mapping)\n",
    "ri.reset_index(inplace=True)\n",
    "print(ri.head())\n",
    "weather_rating = weather[[\"DATE\", \"rating\"]]\n",
    "print(weather_rating.head())"
   ]
  },
  {
   "cell_type": "markdown",
   "metadata": {},
   "source": [
    "### Merging the DataFrames"
   ]
  },
  {
   "cell_type": "code",
   "execution_count": 86,
   "metadata": {},
   "outputs": [
    {
     "name": "stdout",
     "output_type": "stream",
     "text": [
      "(86536, 16)\n",
      "(86536, 18)\n"
     ]
    },
    {
     "data": {
      "text/html": [
       "<div>\n",
       "<style scoped>\n",
       "    .dataframe tbody tr th:only-of-type {\n",
       "        vertical-align: middle;\n",
       "    }\n",
       "\n",
       "    .dataframe tbody tr th {\n",
       "        vertical-align: top;\n",
       "    }\n",
       "\n",
       "    .dataframe thead th {\n",
       "        text-align: right;\n",
       "    }\n",
       "</style>\n",
       "<table border=\"1\" class=\"dataframe\">\n",
       "  <thead>\n",
       "    <tr style=\"text-align: right;\">\n",
       "      <th></th>\n",
       "      <th>index</th>\n",
       "      <th>stop_date</th>\n",
       "      <th>stop_time</th>\n",
       "      <th>driver_gender</th>\n",
       "      <th>driver_race</th>\n",
       "      <th>violation_raw</th>\n",
       "      <th>violation</th>\n",
       "      <th>search_conducted</th>\n",
       "      <th>search_type</th>\n",
       "      <th>stop_outcome</th>\n",
       "      <th>is_arrested</th>\n",
       "      <th>stop_duration</th>\n",
       "      <th>drugs_related_stop</th>\n",
       "      <th>district</th>\n",
       "      <th>stop_minutes</th>\n",
       "      <th>DATE</th>\n",
       "      <th>rating</th>\n",
       "    </tr>\n",
       "    <tr>\n",
       "      <th>stop_datetime</th>\n",
       "      <th></th>\n",
       "      <th></th>\n",
       "      <th></th>\n",
       "      <th></th>\n",
       "      <th></th>\n",
       "      <th></th>\n",
       "      <th></th>\n",
       "      <th></th>\n",
       "      <th></th>\n",
       "      <th></th>\n",
       "      <th></th>\n",
       "      <th></th>\n",
       "      <th></th>\n",
       "      <th></th>\n",
       "      <th></th>\n",
       "      <th></th>\n",
       "      <th></th>\n",
       "    </tr>\n",
       "  </thead>\n",
       "  <tbody>\n",
       "    <tr>\n",
       "      <th>2005-01-04 12:55:00</th>\n",
       "      <td>0</td>\n",
       "      <td>2005-01-04</td>\n",
       "      <td>12:55</td>\n",
       "      <td>M</td>\n",
       "      <td>White</td>\n",
       "      <td>Equipment/Inspection Violation</td>\n",
       "      <td>Equipment</td>\n",
       "      <td>False</td>\n",
       "      <td>NaN</td>\n",
       "      <td>Citation</td>\n",
       "      <td>False</td>\n",
       "      <td>0-15 Min</td>\n",
       "      <td>False</td>\n",
       "      <td>Zone X4</td>\n",
       "      <td>8</td>\n",
       "      <td>2005-01-04</td>\n",
       "      <td>bad</td>\n",
       "    </tr>\n",
       "    <tr>\n",
       "      <th>2005-01-23 23:15:00</th>\n",
       "      <td>1</td>\n",
       "      <td>2005-01-23</td>\n",
       "      <td>23:15</td>\n",
       "      <td>M</td>\n",
       "      <td>White</td>\n",
       "      <td>Speeding</td>\n",
       "      <td>Speeding</td>\n",
       "      <td>False</td>\n",
       "      <td>NaN</td>\n",
       "      <td>Citation</td>\n",
       "      <td>False</td>\n",
       "      <td>0-15 Min</td>\n",
       "      <td>False</td>\n",
       "      <td>Zone K3</td>\n",
       "      <td>8</td>\n",
       "      <td>2005-01-23</td>\n",
       "      <td>worse</td>\n",
       "    </tr>\n",
       "    <tr>\n",
       "      <th>2005-02-17 04:15:00</th>\n",
       "      <td>2</td>\n",
       "      <td>2005-02-17</td>\n",
       "      <td>04:15</td>\n",
       "      <td>M</td>\n",
       "      <td>White</td>\n",
       "      <td>Speeding</td>\n",
       "      <td>Speeding</td>\n",
       "      <td>False</td>\n",
       "      <td>NaN</td>\n",
       "      <td>Citation</td>\n",
       "      <td>False</td>\n",
       "      <td>0-15 Min</td>\n",
       "      <td>False</td>\n",
       "      <td>Zone X4</td>\n",
       "      <td>8</td>\n",
       "      <td>2005-02-17</td>\n",
       "      <td>good</td>\n",
       "    </tr>\n",
       "    <tr>\n",
       "      <th>2005-02-20 17:15:00</th>\n",
       "      <td>3</td>\n",
       "      <td>2005-02-20</td>\n",
       "      <td>17:15</td>\n",
       "      <td>M</td>\n",
       "      <td>White</td>\n",
       "      <td>Call for Service</td>\n",
       "      <td>Other</td>\n",
       "      <td>False</td>\n",
       "      <td>NaN</td>\n",
       "      <td>Arrest Driver</td>\n",
       "      <td>True</td>\n",
       "      <td>16-30 Min</td>\n",
       "      <td>False</td>\n",
       "      <td>Zone X1</td>\n",
       "      <td>23</td>\n",
       "      <td>2005-02-20</td>\n",
       "      <td>bad</td>\n",
       "    </tr>\n",
       "    <tr>\n",
       "      <th>2005-02-24 01:20:00</th>\n",
       "      <td>4</td>\n",
       "      <td>2005-02-24</td>\n",
       "      <td>01:20</td>\n",
       "      <td>F</td>\n",
       "      <td>White</td>\n",
       "      <td>Speeding</td>\n",
       "      <td>Speeding</td>\n",
       "      <td>False</td>\n",
       "      <td>NaN</td>\n",
       "      <td>Citation</td>\n",
       "      <td>False</td>\n",
       "      <td>0-15 Min</td>\n",
       "      <td>False</td>\n",
       "      <td>Zone X3</td>\n",
       "      <td>8</td>\n",
       "      <td>2005-02-24</td>\n",
       "      <td>bad</td>\n",
       "    </tr>\n",
       "    <tr>\n",
       "      <th>...</th>\n",
       "      <td>...</td>\n",
       "      <td>...</td>\n",
       "      <td>...</td>\n",
       "      <td>...</td>\n",
       "      <td>...</td>\n",
       "      <td>...</td>\n",
       "      <td>...</td>\n",
       "      <td>...</td>\n",
       "      <td>...</td>\n",
       "      <td>...</td>\n",
       "      <td>...</td>\n",
       "      <td>...</td>\n",
       "      <td>...</td>\n",
       "      <td>...</td>\n",
       "      <td>...</td>\n",
       "      <td>...</td>\n",
       "      <td>...</td>\n",
       "    </tr>\n",
       "    <tr>\n",
       "      <th>2015-12-31 21:21:00</th>\n",
       "      <td>91736</td>\n",
       "      <td>2015-12-31</td>\n",
       "      <td>21:21</td>\n",
       "      <td>F</td>\n",
       "      <td>Black</td>\n",
       "      <td>Other Traffic Violation</td>\n",
       "      <td>Moving violation</td>\n",
       "      <td>False</td>\n",
       "      <td>NaN</td>\n",
       "      <td>Citation</td>\n",
       "      <td>False</td>\n",
       "      <td>0-15 Min</td>\n",
       "      <td>False</td>\n",
       "      <td>Zone K2</td>\n",
       "      <td>8</td>\n",
       "      <td>2015-12-31</td>\n",
       "      <td>bad</td>\n",
       "    </tr>\n",
       "    <tr>\n",
       "      <th>2015-12-31 21:59:00</th>\n",
       "      <td>91737</td>\n",
       "      <td>2015-12-31</td>\n",
       "      <td>21:59</td>\n",
       "      <td>F</td>\n",
       "      <td>White</td>\n",
       "      <td>Speeding</td>\n",
       "      <td>Speeding</td>\n",
       "      <td>False</td>\n",
       "      <td>NaN</td>\n",
       "      <td>Citation</td>\n",
       "      <td>False</td>\n",
       "      <td>0-15 Min</td>\n",
       "      <td>False</td>\n",
       "      <td>Zone K3</td>\n",
       "      <td>8</td>\n",
       "      <td>2015-12-31</td>\n",
       "      <td>bad</td>\n",
       "    </tr>\n",
       "    <tr>\n",
       "      <th>2015-12-31 22:04:00</th>\n",
       "      <td>91738</td>\n",
       "      <td>2015-12-31</td>\n",
       "      <td>22:04</td>\n",
       "      <td>M</td>\n",
       "      <td>White</td>\n",
       "      <td>Other Traffic Violation</td>\n",
       "      <td>Moving violation</td>\n",
       "      <td>False</td>\n",
       "      <td>NaN</td>\n",
       "      <td>Citation</td>\n",
       "      <td>False</td>\n",
       "      <td>0-15 Min</td>\n",
       "      <td>False</td>\n",
       "      <td>Zone X3</td>\n",
       "      <td>8</td>\n",
       "      <td>2015-12-31</td>\n",
       "      <td>bad</td>\n",
       "    </tr>\n",
       "    <tr>\n",
       "      <th>2015-12-31 22:09:00</th>\n",
       "      <td>91739</td>\n",
       "      <td>2015-12-31</td>\n",
       "      <td>22:09</td>\n",
       "      <td>F</td>\n",
       "      <td>Hispanic</td>\n",
       "      <td>Equipment/Inspection Violation</td>\n",
       "      <td>Equipment</td>\n",
       "      <td>False</td>\n",
       "      <td>NaN</td>\n",
       "      <td>Warning</td>\n",
       "      <td>False</td>\n",
       "      <td>0-15 Min</td>\n",
       "      <td>False</td>\n",
       "      <td>Zone K3</td>\n",
       "      <td>8</td>\n",
       "      <td>2015-12-31</td>\n",
       "      <td>bad</td>\n",
       "    </tr>\n",
       "    <tr>\n",
       "      <th>2015-12-31 22:47:00</th>\n",
       "      <td>91740</td>\n",
       "      <td>2015-12-31</td>\n",
       "      <td>22:47</td>\n",
       "      <td>M</td>\n",
       "      <td>White</td>\n",
       "      <td>Registration Violation</td>\n",
       "      <td>Registration/plates</td>\n",
       "      <td>False</td>\n",
       "      <td>NaN</td>\n",
       "      <td>Citation</td>\n",
       "      <td>False</td>\n",
       "      <td>0-15 Min</td>\n",
       "      <td>False</td>\n",
       "      <td>Zone X4</td>\n",
       "      <td>8</td>\n",
       "      <td>2015-12-31</td>\n",
       "      <td>bad</td>\n",
       "    </tr>\n",
       "  </tbody>\n",
       "</table>\n",
       "<p>86536 rows × 17 columns</p>\n",
       "</div>"
      ],
      "text/plain": [
       "                     index   stop_date stop_time driver_gender driver_race  \\\n",
       "stop_datetime                                                                \n",
       "2005-01-04 12:55:00      0  2005-01-04     12:55             M       White   \n",
       "2005-01-23 23:15:00      1  2005-01-23     23:15             M       White   \n",
       "2005-02-17 04:15:00      2  2005-02-17     04:15             M       White   \n",
       "2005-02-20 17:15:00      3  2005-02-20     17:15             M       White   \n",
       "2005-02-24 01:20:00      4  2005-02-24     01:20             F       White   \n",
       "...                    ...         ...       ...           ...         ...   \n",
       "2015-12-31 21:21:00  91736  2015-12-31     21:21             F       Black   \n",
       "2015-12-31 21:59:00  91737  2015-12-31     21:59             F       White   \n",
       "2015-12-31 22:04:00  91738  2015-12-31     22:04             M       White   \n",
       "2015-12-31 22:09:00  91739  2015-12-31     22:09             F    Hispanic   \n",
       "2015-12-31 22:47:00  91740  2015-12-31     22:47             M       White   \n",
       "\n",
       "                                      violation_raw            violation  \\\n",
       "stop_datetime                                                              \n",
       "2005-01-04 12:55:00  Equipment/Inspection Violation            Equipment   \n",
       "2005-01-23 23:15:00                        Speeding             Speeding   \n",
       "2005-02-17 04:15:00                        Speeding             Speeding   \n",
       "2005-02-20 17:15:00                Call for Service                Other   \n",
       "2005-02-24 01:20:00                        Speeding             Speeding   \n",
       "...                                             ...                  ...   \n",
       "2015-12-31 21:21:00         Other Traffic Violation     Moving violation   \n",
       "2015-12-31 21:59:00                        Speeding             Speeding   \n",
       "2015-12-31 22:04:00         Other Traffic Violation     Moving violation   \n",
       "2015-12-31 22:09:00  Equipment/Inspection Violation            Equipment   \n",
       "2015-12-31 22:47:00          Registration Violation  Registration/plates   \n",
       "\n",
       "                     search_conducted search_type   stop_outcome  is_arrested  \\\n",
       "stop_datetime                                                                   \n",
       "2005-01-04 12:55:00             False         NaN       Citation        False   \n",
       "2005-01-23 23:15:00             False         NaN       Citation        False   \n",
       "2005-02-17 04:15:00             False         NaN       Citation        False   \n",
       "2005-02-20 17:15:00             False         NaN  Arrest Driver         True   \n",
       "2005-02-24 01:20:00             False         NaN       Citation        False   \n",
       "...                               ...         ...            ...          ...   \n",
       "2015-12-31 21:21:00             False         NaN       Citation        False   \n",
       "2015-12-31 21:59:00             False         NaN       Citation        False   \n",
       "2015-12-31 22:04:00             False         NaN       Citation        False   \n",
       "2015-12-31 22:09:00             False         NaN        Warning        False   \n",
       "2015-12-31 22:47:00             False         NaN       Citation        False   \n",
       "\n",
       "                    stop_duration  drugs_related_stop district  stop_minutes  \\\n",
       "stop_datetime                                                                  \n",
       "2005-01-04 12:55:00      0-15 Min               False  Zone X4             8   \n",
       "2005-01-23 23:15:00      0-15 Min               False  Zone K3             8   \n",
       "2005-02-17 04:15:00      0-15 Min               False  Zone X4             8   \n",
       "2005-02-20 17:15:00     16-30 Min               False  Zone X1            23   \n",
       "2005-02-24 01:20:00      0-15 Min               False  Zone X3             8   \n",
       "...                           ...                 ...      ...           ...   \n",
       "2015-12-31 21:21:00      0-15 Min               False  Zone K2             8   \n",
       "2015-12-31 21:59:00      0-15 Min               False  Zone K3             8   \n",
       "2015-12-31 22:04:00      0-15 Min               False  Zone X3             8   \n",
       "2015-12-31 22:09:00      0-15 Min               False  Zone K3             8   \n",
       "2015-12-31 22:47:00      0-15 Min               False  Zone X4             8   \n",
       "\n",
       "                           DATE rating  \n",
       "stop_datetime                           \n",
       "2005-01-04 12:55:00  2005-01-04    bad  \n",
       "2005-01-23 23:15:00  2005-01-23  worse  \n",
       "2005-02-17 04:15:00  2005-02-17   good  \n",
       "2005-02-20 17:15:00  2005-02-20    bad  \n",
       "2005-02-24 01:20:00  2005-02-24    bad  \n",
       "...                         ...    ...  \n",
       "2015-12-31 21:21:00  2015-12-31    bad  \n",
       "2015-12-31 21:59:00  2015-12-31    bad  \n",
       "2015-12-31 22:04:00  2015-12-31    bad  \n",
       "2015-12-31 22:09:00  2015-12-31    bad  \n",
       "2015-12-31 22:47:00  2015-12-31    bad  \n",
       "\n",
       "[86536 rows x 17 columns]"
      ]
     },
     "execution_count": 86,
     "metadata": {},
     "output_type": "execute_result"
    }
   ],
   "source": [
    "print(ri.shape)\n",
    "ri_weather = pd.merge(left=ri, right=weather_rating, left_on=\"stop_date\",\n",
    "                    right_on=\"DATE\", how=\"left\")\n",
    "print(ri_weather.shape)\n",
    "ri_weather.set_index(\"stop_datetime\", inplace=True)\n",
    "ri_weather"
   ]
  },
  {
   "cell_type": "markdown",
   "metadata": {},
   "source": [
    "## Does weather affect the arrest rate?"
   ]
  },
  {
   "cell_type": "markdown",
   "metadata": {},
   "source": [
    "Mean is the default aggregation function for a pivot table but another function can be chosen."
   ]
  },
  {
   "cell_type": "code",
   "execution_count": 87,
   "metadata": {},
   "outputs": [
    {
     "name": "stdout",
     "output_type": "stream",
     "text": [
      "0.0355690117407784\n",
      "rating\n",
      "good     0.033715\n",
      "bad      0.036261\n",
      "worse    0.041667\n",
      "Name: is_arrested, dtype: float64\n",
      "violation            rating\n",
      "Equipment            good      0.059007\n",
      "                     bad       0.066311\n",
      "                     worse     0.097357\n",
      "Moving violation     good      0.056227\n",
      "                     bad       0.058050\n",
      "                     worse     0.065860\n",
      "Other                good      0.076966\n",
      "                     bad       0.087443\n",
      "                     worse     0.062893\n",
      "Registration/plates  good      0.081574\n",
      "                     bad       0.098160\n",
      "                     worse     0.115625\n",
      "Seat belt            good      0.028587\n",
      "                     bad       0.022493\n",
      "                     worse     0.000000\n",
      "Speeding             good      0.013405\n",
      "                     bad       0.013314\n",
      "                     worse     0.016886\n",
      "Name: is_arrested, dtype: float64\n"
     ]
    }
   ],
   "source": [
    "print(ri_weather.is_arrested.mean())\n",
    "print(ri_weather.groupby(\"rating\").is_arrested.mean())\n",
    "print(ri_weather.groupby([\"violation\", \"rating\"]).is_arrested.mean())"
   ]
  },
  {
   "cell_type": "markdown",
   "metadata": {},
   "source": [
    "The arrest rate increases as the weather gets worse, and that trend persists across many of the violation types."
   ]
  },
  {
   "cell_type": "markdown",
   "metadata": {},
   "source": [
    "### Selecting from a multi-indexed Series"
   ]
  },
  {
   "cell_type": "markdown",
   "metadata": {},
   "source": [
    "The output of a single .groupby() operation on multiple columns is a Series with a MultiIndex. Working with this type of object is similar to working with a DataFrame."
   ]
  },
  {
   "cell_type": "code",
   "execution_count": 90,
   "metadata": {},
   "outputs": [
    {
     "name": "stdout",
     "output_type": "stream",
     "text": [
      "violation            rating\n",
      "Equipment            good      0.059007\n",
      "                     bad       0.066311\n",
      "                     worse     0.097357\n",
      "Moving violation     good      0.056227\n",
      "                     bad       0.058050\n",
      "                     worse     0.065860\n",
      "Other                good      0.076966\n",
      "                     bad       0.087443\n",
      "                     worse     0.062893\n",
      "Registration/plates  good      0.081574\n",
      "                     bad       0.098160\n",
      "                     worse     0.115625\n",
      "Seat belt            good      0.028587\n",
      "                     bad       0.022493\n",
      "                     worse     0.000000\n",
      "Speeding             good      0.013405\n",
      "                     bad       0.013314\n",
      "                     worse     0.016886\n",
      "Name: is_arrested, dtype: float64\n",
      "\n",
      "\n",
      "0.05804964058049641\n",
      "rating\n",
      "good     0.013405\n",
      "bad      0.013314\n",
      "worse    0.016886\n",
      "Name: is_arrested, dtype: float64\n"
     ]
    }
   ],
   "source": [
    "arrest_rate = ri_weather.groupby([\"violation\", \"rating\"]).is_arrested.mean()\n",
    "print(arrest_rate)\n",
    "print(\"\\n\")\n",
    "print(arrest_rate.loc[\"Moving violation\", \"bad\"])\n",
    "print(arrest_rate.loc[\"Speeding\"])"
   ]
  },
  {
   "cell_type": "markdown",
   "metadata": {},
   "source": [
    "### Reshaping the arrest rate data"
   ]
  },
  {
   "cell_type": "code",
   "execution_count": 93,
   "metadata": {},
   "outputs": [
    {
     "name": "stdout",
     "output_type": "stream",
     "text": [
      "rating                   good       bad     worse\n",
      "violation                                        \n",
      "Equipment            0.059007  0.066311  0.097357\n",
      "Moving violation     0.056227  0.058050  0.065860\n",
      "Other                0.076966  0.087443  0.062893\n",
      "Registration/plates  0.081574  0.098160  0.115625\n",
      "Seat belt            0.028587  0.022493  0.000000\n",
      "Speeding             0.013405  0.013314  0.016886\n",
      "rating                   good       bad     worse\n",
      "violation                                        \n",
      "Equipment            0.059007  0.066311  0.097357\n",
      "Moving violation     0.056227  0.058050  0.065860\n",
      "Other                0.076966  0.087443  0.062893\n",
      "Registration/plates  0.081574  0.098160  0.115625\n",
      "Seat belt            0.028587  0.022493  0.000000\n",
      "Speeding             0.013405  0.013314  0.016886\n"
     ]
    }
   ],
   "source": [
    "print(arrest_rate.unstack())\n",
    "print(ri_weather.pivot_table(index=\"violation\", columns=\"rating\", values=\"is_arrested\"))"
   ]
  },
  {
   "cell_type": "code",
   "execution_count": null,
   "metadata": {},
   "outputs": [],
   "source": []
  }
 ],
 "metadata": {
  "kernelspec": {
   "display_name": "Python 3",
   "language": "python",
   "name": "python3"
  },
  "language_info": {
   "codemirror_mode": {
    "name": "ipython",
    "version": 3
   },
   "file_extension": ".py",
   "mimetype": "text/x-python",
   "name": "python",
   "nbconvert_exporter": "python",
   "pygments_lexer": "ipython3",
   "version": "3.8.3"
  }
 },
 "nbformat": 4,
 "nbformat_minor": 4
}
