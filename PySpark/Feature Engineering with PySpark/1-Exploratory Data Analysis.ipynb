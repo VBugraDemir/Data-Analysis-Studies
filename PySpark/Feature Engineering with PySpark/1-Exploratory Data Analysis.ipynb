{
 "cells": [
  {
   "cell_type": "code",
   "execution_count": 4,
   "metadata": {},
   "outputs": [],
   "source": [
    "import findspark\n",
    "findspark.init()\n",
    "\n",
    "from pyspark import SparkContext\n",
    "sc = SparkContext(\"local\", \"pyspark-shell\")\n",
    "\n",
    "from pyspark.sql import SparkSession\n",
    "spark = SparkSession.builder.getOrCreate()"
   ]
  },
  {
   "cell_type": "markdown",
   "metadata": {},
   "source": [
    "# Exploratory Data Analysis"
   ]
  },
  {
   "cell_type": "markdown",
   "metadata": {},
   "source": [
    "## Where to Begin"
   ]
  },
  {
   "cell_type": "markdown",
   "metadata": {},
   "source": [
    "One of the most important aspects of applied machine learning is feature engineering. It is the process of using domain knowledge to create new features to help our models perform better.\n",
    "\n",
    "Parquet data is columnar so it is organized by columns. It is fast to read in only the data you need. CSVs, on the other hand, have to read and parse the whole data set to read a single field. Parquet fields are defined and typed. Since it is not delimited by character, it is great for messy text data."
   ]
  },
  {
   "cell_type": "markdown",
   "metadata": {},
   "source": [
    "### Check Version"
   ]
  },
  {
   "cell_type": "code",
   "execution_count": 5,
   "metadata": {},
   "outputs": [
    {
     "name": "stdout",
     "output_type": "stream",
     "text": [
      "3.1.2\n",
      "sys.version_info(major=3, minor=8, micro=3, releaselevel='final', serial=0)\n"
     ]
    }
   ],
   "source": [
    "print(spark.version)\n",
    "\n",
    "import sys\n",
    "print(sys.version_info)"
   ]
  },
  {
   "cell_type": "markdown",
   "metadata": {},
   "source": [
    "### Load in the data"
   ]
  },
  {
   "cell_type": "markdown",
   "metadata": {},
   "source": [
    "Since the parquet data was not provided, csv file and schema of the data were used. I tried to write a parquet file with the schema provided, but failed somehow."
   ]
  },
  {
   "cell_type": "code",
   "execution_count": null,
   "metadata": {},
   "outputs": [],
   "source": [
    "# from urllib.request import urlretrieve\n",
    "# url = \"https://assets.datacamp.com/production/repositories/1704/datasets/d26c25f46746882d0a0f474cc6709c629f69872c/2017_StPaul_MN_Real_Estate.csv\"\n",
    "# data = urlretrieve(url, \"Real_Estate.csv\")"
   ]
  },
  {
   "cell_type": "code",
   "execution_count": 6,
   "metadata": {},
   "outputs": [],
   "source": [
    "from pyspark.sql.types import StructField, StructType, LongType, StringType, DoubleType\n",
    "a = StructType([StructField(\"NO\",LongType(),True),StructField(\"MLSID\",StringType(),True),StructField(\"STREETNUMBERNUMERIC\",LongType(),True),StructField(\"STREETADDRESS\",StringType(),True),StructField(\"STREETNAME\",StringType(),True),StructField(\"POSTALCODE\",LongType(),True),StructField(\"STATEORPROVINCE\",StringType(),True),StructField(\"CITY\",StringType(),True),StructField(\"SALESCLOSEPRICE\",LongType(),True),StructField(\"LISTDATE\",StringType(),True),StructField(\"LISTPRICE\",LongType(),True),StructField(\"LISTTYPE\",StringType(),True),StructField(\"ORIGINALLISTPRICE\",LongType(),True),StructField(\"PRICEPERTSFT\",DoubleType(),True),StructField(\"FOUNDATIONSIZE\",LongType(),True),StructField(\"FENCE\",StringType(),True),StructField(\"MAPLETTER\",StringType(),True),StructField(\"LOTSIZEDIMENSIONS\",StringType(),True),StructField(\"SCHOOLDISTRICTNUMBER\",StringType(),True),StructField(\"DAYSONMARKET\",LongType(),True),StructField(\"OFFMARKETDATE\",StringType(),True),StructField(\"FIREPLACES\",LongType(),True),StructField(\"ROOMAREA4\",StringType(),True),StructField(\"ROOMTYPE\",StringType(),True),StructField(\"ROOF\",StringType(),True),StructField(\"ROOMFLOOR4\",StringType(),True),StructField(\"POTENTIALSHORTSALE\",StringType(),True),StructField(\"POOLDESCRIPTION\",StringType(),True),StructField(\"PDOM\",LongType(),True),StructField(\"GARAGEDESCRIPTION\",StringType(),True),StructField(\"SQFTABOVEGROUND\",LongType(),True),StructField(\"TAXES\",LongType(),True),StructField(\"ROOMFLOOR1\",StringType(),True),StructField(\"ROOMAREA1\",StringType(),True),StructField(\"TAXWITHASSESSMENTS\",DoubleType(),True),StructField(\"TAXYEAR\",LongType(),True),StructField(\"LIVINGAREA\",LongType(),True),StructField(\"UNITNUMBER\",StringType(),True),StructField(\"YEARBUILT\",LongType(),True),StructField(\"ZONING\",StringType(),True),StructField(\"STYLE\",StringType(),True),StructField(\"ACRES\",DoubleType(),True),StructField(\"COOLINGDESCRIPTION\",StringType(),True),StructField(\"APPLIANCES\",StringType(),True),StructField(\"BACKONMARKETDATE\",DoubleType(),True),StructField(\"ROOMFAMILYCHAR\",StringType(),True),StructField(\"ROOMAREA3\",StringType(),True),StructField(\"EXTERIOR\",StringType(),True),StructField(\"ROOMFLOOR3\",StringType(),True),StructField(\"ROOMFLOOR2\",StringType(),True),StructField(\"ROOMAREA2\",StringType(),True),StructField(\"DININGROOMDESCRIPTION\",StringType(),True),StructField(\"BASEMENT\",StringType(),True),StructField(\"BATHSFULL\",LongType(),True),StructField(\"BATHSHALF\",LongType(),True),StructField(\"BATHQUARTER\",LongType(),True),StructField(\"BATHSTHREEQUARTER\",DoubleType(),True),StructField(\"CLASS\",StringType(),True),StructField(\"BATHSTOTAL\",LongType(),True),StructField(\"BATHDESC\",StringType(),True),StructField(\"ROOMAREA5\",StringType(),True),StructField(\"ROOMFLOOR5\",StringType(),True),StructField(\"ROOMAREA6\",StringType(),True),StructField(\"ROOMFLOOR6\",StringType(),True),StructField(\"ROOMAREA7\",StringType(),True),StructField(\"ROOMFLOOR7\",StringType(),True),StructField(\"ROOMAREA8\",StringType(),True),StructField(\"ROOMFLOOR8\",StringType(),True),StructField(\"BEDROOMS\",LongType(),True),StructField(\"SQFTBELOWGROUND\",LongType(),True),StructField(\"ASSUMABLEMORTGAGE\",StringType(),True),StructField(\"ASSOCIATIONFEE\",LongType(),True),StructField(\"ASSESSMENTPENDING\",StringType(),True),StructField(\"ASSESSEDVALUATION\",DoubleType(),True)])"
   ]
  },
  {
   "cell_type": "code",
   "execution_count": 10,
   "metadata": {},
   "outputs": [
    {
     "name": "stdout",
     "output_type": "stream",
     "text": [
      "['NO', 'MLSID', 'STREETNUMBERNUMERIC', 'STREETADDRESS', 'STREETNAME', 'POSTALCODE', 'STATEORPROVINCE', 'CITY', 'SALESCLOSEPRICE', 'LISTDATE', 'LISTPRICE', 'LISTTYPE', 'ORIGINALLISTPRICE', 'PRICEPERTSFT', 'FOUNDATIONSIZE', 'FENCE', 'MAPLETTER', 'LOTSIZEDIMENSIONS', 'SCHOOLDISTRICTNUMBER', 'DAYSONMARKET', 'OFFMARKETDATE', 'FIREPLACES', 'ROOMAREA4', 'ROOMTYPE', 'ROOF', 'ROOMFLOOR4', 'POTENTIALSHORTSALE', 'POOLDESCRIPTION', 'PDOM', 'GARAGEDESCRIPTION', 'SQFTABOVEGROUND', 'TAXES', 'ROOMFLOOR1', 'ROOMAREA1', 'TAXWITHASSESSMENTS', 'TAXYEAR', 'LIVINGAREA', 'UNITNUMBER', 'YEARBUILT', 'ZONING', 'STYLE', 'ACRES', 'COOLINGDESCRIPTION', 'APPLIANCES', 'BACKONMARKETDATE', 'ROOMFAMILYCHAR', 'ROOMAREA3', 'EXTERIOR', 'ROOMFLOOR3', 'ROOMFLOOR2', 'ROOMAREA2', 'DININGROOMDESCRIPTION', 'BASEMENT', 'BATHSFULL', 'BATHSHALF', 'BATHQUARTER', 'BATHSTHREEQUARTER', 'CLASS', 'BATHSTOTAL', 'BATHDESC', 'ROOMAREA5', 'ROOMFLOOR5', 'ROOMAREA6', 'ROOMFLOOR6', 'ROOMAREA7', 'ROOMFLOOR7', 'ROOMAREA8', 'ROOMFLOOR8', 'BEDROOMS', 'SQFTBELOWGROUND', 'ASSUMABLEMORTGAGE', 'ASSOCIATIONFEE', 'ASSESSMENTPENDING', 'ASSESSEDVALUATION']\n"
     ]
    }
   ],
   "source": [
    "df = spark.read.csv(\"Real_Estate.csv\", header=True, schema=a)\n",
    "print(df.columns)"
   ]
  },
  {
   "cell_type": "markdown",
   "metadata": {},
   "source": [
    "## Defining A Problem"
   ]
  },
  {
   "cell_type": "markdown",
   "metadata": {},
   "source": [
    "The selling price of a house will be predicted. Given is listed price and features how much to buy the house for? \n",
    "\n",
    "First you need to know limitaions of the data. Since the data have a small geographical area, applying the models to new areas poses serious risk. It only contains residential data, so can not predict how much a business location is worth. Since it is one year's worth of data it is hard to draw strong conclustions about seasonality in this dataset. \n",
    "\n",
    "When Parquet is used, it set the data types for all of the fieds which is a huge advantage over CSV."
   ]
  },
  {
   "cell_type": "markdown",
   "metadata": {},
   "source": [
    "### What are we predicting?"
   ]
  },
  {
   "cell_type": "code",
   "execution_count": 19,
   "metadata": {},
   "outputs": [
    {
     "name": "stdout",
     "output_type": "stream",
     "text": [
      "+-------+------------------+\n",
      "|summary|   SALESCLOSEPRICE|\n",
      "+-------+------------------+\n",
      "|  count|              5000|\n",
      "|   mean|       262804.4668|\n",
      "| stddev|140559.82591998563|\n",
      "|    min|             48000|\n",
      "|    max|           1700000|\n",
      "+-------+------------------+\n",
      "\n"
     ]
    }
   ],
   "source": [
    "Y_df = df.select(\"SALESCLOSEPRICE\")\n",
    "Y_df.describe().show()"
   ]
  },
  {
   "cell_type": "markdown",
   "metadata": {},
   "source": [
    "### Verifying Data Load"
   ]
  },
  {
   "cell_type": "code",
   "execution_count": 20,
   "metadata": {},
   "outputs": [
    {
     "name": "stdout",
     "output_type": "stream",
     "text": [
      "Validation Passed\n"
     ]
    }
   ],
   "source": [
    "def check_load(df, num_records, num_columns):\n",
    "    message = \"Validation Failed\"\n",
    "    if num_records == df.count():\n",
    "        if num_columns == len(df.columns):\n",
    "            message = \"Validation Passed\"\n",
    "    return message\n",
    "\n",
    "print(check_load(df, 5000, 74))"
   ]
  },
  {
   "cell_type": "markdown",
   "metadata": {},
   "source": [
    "### Verifying DataTypes"
   ]
  },
  {
   "cell_type": "code",
   "execution_count": 24,
   "metadata": {},
   "outputs": [
    {
     "name": "stdout",
     "output_type": "stream",
     "text": [
      "[('NO', 'bigint'), ('MLSID', 'string'), ('STREETNUMBERNUMERIC', 'bigint'), ('STREETADDRESS', 'string'), ('STREETNAME', 'string'), ('POSTALCODE', 'bigint'), ('STATEORPROVINCE', 'string'), ('CITY', 'string'), ('SALESCLOSEPRICE', 'bigint'), ('LISTDATE', 'string'), ('LISTPRICE', 'bigint'), ('LISTTYPE', 'string'), ('ORIGINALLISTPRICE', 'bigint'), ('PRICEPERTSFT', 'double'), ('FOUNDATIONSIZE', 'bigint'), ('FENCE', 'string'), ('MAPLETTER', 'string'), ('LOTSIZEDIMENSIONS', 'string'), ('SCHOOLDISTRICTNUMBER', 'string'), ('DAYSONMARKET', 'bigint'), ('OFFMARKETDATE', 'string'), ('FIREPLACES', 'bigint'), ('ROOMAREA4', 'string'), ('ROOMTYPE', 'string'), ('ROOF', 'string'), ('ROOMFLOOR4', 'string'), ('POTENTIALSHORTSALE', 'string'), ('POOLDESCRIPTION', 'string'), ('PDOM', 'bigint'), ('GARAGEDESCRIPTION', 'string'), ('SQFTABOVEGROUND', 'bigint'), ('TAXES', 'bigint'), ('ROOMFLOOR1', 'string'), ('ROOMAREA1', 'string'), ('TAXWITHASSESSMENTS', 'double'), ('TAXYEAR', 'bigint'), ('LIVINGAREA', 'bigint'), ('UNITNUMBER', 'string'), ('YEARBUILT', 'bigint'), ('ZONING', 'string'), ('STYLE', 'string'), ('ACRES', 'double'), ('COOLINGDESCRIPTION', 'string'), ('APPLIANCES', 'string'), ('BACKONMARKETDATE', 'double'), ('ROOMFAMILYCHAR', 'string'), ('ROOMAREA3', 'string'), ('EXTERIOR', 'string'), ('ROOMFLOOR3', 'string'), ('ROOMFLOOR2', 'string'), ('ROOMAREA2', 'string'), ('DININGROOMDESCRIPTION', 'string'), ('BASEMENT', 'string'), ('BATHSFULL', 'bigint'), ('BATHSHALF', 'bigint'), ('BATHQUARTER', 'bigint'), ('BATHSTHREEQUARTER', 'double'), ('CLASS', 'string'), ('BATHSTOTAL', 'bigint'), ('BATHDESC', 'string'), ('ROOMAREA5', 'string'), ('ROOMFLOOR5', 'string'), ('ROOMAREA6', 'string'), ('ROOMFLOOR6', 'string'), ('ROOMAREA7', 'string'), ('ROOMFLOOR7', 'string'), ('ROOMAREA8', 'string'), ('ROOMFLOOR8', 'string'), ('BEDROOMS', 'bigint'), ('SQFTBELOWGROUND', 'bigint'), ('ASSUMABLEMORTGAGE', 'string'), ('ASSOCIATIONFEE', 'bigint'), ('ASSESSMENTPENDING', 'string'), ('ASSESSEDVALUATION', 'double')]\n",
      "\n",
      "SQFTBELOWGROUND has expected dtype.\n",
      "ASSUMABLEMORTGAGE has expected dtype.\n",
      "ASSOCIATIONFEE has expected dtype.\n",
      "ASSESSMENTPENDING has expected dtype.\n",
      "ASSESSEDVALUATION has expected dtype.\n"
     ]
    }
   ],
   "source": [
    "validation_dict = {'ASSESSMENTPENDING': 'string',\n",
    " 'ASSESSEDVALUATION': 'double',\n",
    " 'ASSOCIATIONFEE': 'bigint',\n",
    " 'ASSUMABLEMORTGAGE': 'string',\n",
    " 'SQFTBELOWGROUND': 'bigint'}\n",
    "\n",
    "actual_dtypes_list = df.dtypes\n",
    "print(actual_dtypes_list)\n",
    "print()\n",
    "for attribute_tuple in actual_dtypes_list:\n",
    "    col_name = attribute_tuple[0]\n",
    "    \n",
    "    if col_name in validation_dict:\n",
    "        col_type = attribute_tuple[1]\n",
    "        if col_type == validation_dict[col_name]:\n",
    "            print(col_name + \" has expected dtype.\")\n",
    "    "
   ]
  },
  {
   "cell_type": "markdown",
   "metadata": {},
   "source": [
    "## Visually Inspecting Data / EDA"
   ]
  },
  {
   "cell_type": "markdown",
   "metadata": {},
   "source": [
    "Mean function is considered an aggregate function and it needs to be passed to the agg method along with the column to ru it on as a dictionary.\n",
    "\n",
    "Covariance is a function that shows variables vary together. It takes to numeric columns and returns a value. \n",
    "\n",
    "An excellent way to explore a data is through statistical plotting. We can plot data using non-Spark libraries like Seaborn but they require converting pySpark DataFrame to a Pandas DataFrame. Large datasets can cause Pandas to crash. The sample funtion can help us get a smaller dataset to plot.\n",
    "\n",
    "You can use Seaborn's distplot to show distribution of variables.\n",
    "\n",
    "lmplot can show if there is a linear relationship between two variables."
   ]
  },
  {
   "cell_type": "markdown",
   "metadata": {},
   "source": [
    "### Using Corr()"
   ]
  },
  {
   "cell_type": "code",
   "execution_count": 32,
   "metadata": {},
   "outputs": [],
   "source": [
    "columns = ['FOUNDATIONSIZE',\n",
    " 'DAYSONMARKET',\n",
    " 'FIREPLACES',\n",
    " 'PDOM',\n",
    " 'SQFTABOVEGROUND',\n",
    " 'TAXES',\n",
    " 'TAXWITHASSESSMENTS',\n",
    " 'TAXYEAR',\n",
    " 'LIVINGAREA',\n",
    " 'YEARBUILT',\n",
    " 'ACRES',\n",
    " 'BACKONMARKETDATE',\n",
    " 'BATHSFULL',\n",
    " 'BATHSHALF',\n",
    " 'BATHQUARTER',\n",
    " 'BATHSTHREEQUARTER',\n",
    " 'BATHSTOTAL',\n",
    " 'BEDROOMS',\n",
    " 'SQFTBELOWGROUND',\n",
    " 'ASSOCIATIONFEE',\n",
    " 'ASSESSEDVALUATION']"
   ]
  },
  {
   "cell_type": "code",
   "execution_count": 35,
   "metadata": {},
   "outputs": [
    {
     "name": "stdout",
     "output_type": "stream",
     "text": [
      "LIVINGAREA\n"
     ]
    }
   ],
   "source": [
    "corr_max = 0\n",
    "corr_max_col = columns[0]\n",
    "\n",
    "for col in columns:\n",
    "    corr_val = df.corr(col, \"SALESCLOSEPRICE\")\n",
    "    \n",
    "    if corr_val > corr_max:\n",
    "        corr_max = corr_val\n",
    "        corr_max_col = col\n",
    "        \n",
    "print(corr_max_col)"
   ]
  },
  {
   "cell_type": "markdown",
   "metadata": {},
   "source": [
    "### Using Visualizations: distplot"
   ]
  },
  {
   "cell_type": "code",
   "execution_count": 37,
   "metadata": {},
   "outputs": [
    {
     "data": {
      "image/png": "[encoded data removed]",
      "text/plain": [
       "<Figure size 432x288 with 1 Axes>"
      ]
     },
     "metadata": {
      "needs_background": "light"
     },
     "output_type": "display_data"
    },
    {
     "name": "stdout",
     "output_type": "stream",
     "text": [
      "[Row(skewness(LISTPRICE)=2.790448093916559)]\n"
     ]
    }
   ],
   "source": [
    "import matplotlib.pyplot as plt\n",
    "import seaborn as sns\n",
    "\n",
    "sample_df = df.select(\"LISTPRICE\").sample(False, 0.5, 42)\n",
    "pandas_df = sample_df.toPandas()\n",
    "\n",
    "sns.distplot(pandas_df)\n",
    "plt.show()\n",
    "\n",
    "from pyspark.sql.functions import skewness\n",
    "\n",
    "print(df.agg({\"LISTPRICE\": \"skewness\"}).collect())"
   ]
  },
  {
   "cell_type": "markdown",
   "metadata": {},
   "source": [
    "Checking the distribution visually is a great way to get an idea of what steps will need to be taken before applying a model. We can see the 'ListPrice' is mostly pushed to the left, which means its skewed. We can use the skewness function to verify this numerically rather than visually."
   ]
  },
  {
   "cell_type": "markdown",
   "metadata": {},
   "source": [
    "### Using Visualizations: lmplot"
   ]
  },
  {
   "cell_type": "markdown",
   "metadata": {},
   "source": [
    "Creating linear model plots helps us visualize if variables have relationships with the dependent variable. If they do they are good candidates to include in our analysis. If they don't it doesn't mean that we should throw them out, it means we may have to process or wrangle them before they can be used."
   ]
  },
  {
   "cell_type": "code",
   "execution_count": 38,
   "metadata": {},
   "outputs": [
    {
     "data": {
      "image/png": "[encoded data removed]",
      "text/plain": [
       "<Figure size 360x360 with 1 Axes>"
      ]
     },
     "metadata": {
      "needs_background": "light"
     },
     "output_type": "display_data"
    }
   ],
   "source": [
    "sample_df = df.select([\"SALESCLOSEPRICE\", \"LIVINGAREA\"]).sample(False, 0.5, 42)\n",
    "\n",
    "pandas_df = sample_df.toPandas()\n",
    "sns.lmplot(x=\"LIVINGAREA\", y=\"SALESCLOSEPRICE\", data=pandas_df)\n",
    "plt.show()"
   ]
  },
  {
   "cell_type": "markdown",
   "metadata": {},
   "source": [
    "LivingArea increases, the price of the home increases at a relatively steady rate.\n",
    "\n"
   ]
  }
 ],
 "metadata": {
  "kernelspec": {
   "display_name": "Python 3",
   "language": "python",
   "name": "python3"
  },
  "language_info": {
   "codemirror_mode": {
    "name": "ipython",
    "version": 3
   },
   "file_extension": ".py",
   "mimetype": "text/x-python",
   "name": "python",
   "nbconvert_exporter": "python",
   "pygments_lexer": "ipython3",
   "version": "3.8.3"
  }
 },
 "nbformat": 4,
 "nbformat_minor": 4
}
