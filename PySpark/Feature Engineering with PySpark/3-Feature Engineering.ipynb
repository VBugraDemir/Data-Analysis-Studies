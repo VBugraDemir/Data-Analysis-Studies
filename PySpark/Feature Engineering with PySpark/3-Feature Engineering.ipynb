{
 "cells": [
  {
   "cell_type": "code",
   "execution_count": 1,
   "metadata": {},
   "outputs": [],
   "source": [
    "import findspark\n",
    "findspark.init()\n",
    "\n",
    "from pyspark import SparkContext\n",
    "sc = SparkContext(\"local\", \"pyspark-shell\")\n",
    "\n",
    "from pyspark.sql import SparkSession\n",
    "spark = SparkSession.builder.getOrCreate()\n",
    "\n",
    "from pyspark.sql.types import StructField, StructType, LongType, StringType, DoubleType\n",
    "a = StructType([StructField(\"NO\",LongType(),True),StructField(\"MLSID\",StringType(),True),StructField(\"STREETNUMBERNUMERIC\",LongType(),True),StructField(\"STREETADDRESS\",StringType(),True),StructField(\"STREETNAME\",StringType(),True),StructField(\"POSTALCODE\",LongType(),True),StructField(\"STATEORPROVINCE\",StringType(),True),StructField(\"CITY\",StringType(),True),StructField(\"SALESCLOSEPRICE\",LongType(),True),StructField(\"LISTDATE\",StringType(),True),StructField(\"LISTPRICE\",LongType(),True),StructField(\"LISTTYPE\",StringType(),True),StructField(\"ORIGINALLISTPRICE\",LongType(),True),StructField(\"PRICEPERTSFT\",DoubleType(),True),StructField(\"FOUNDATIONSIZE\",LongType(),True),StructField(\"FENCE\",StringType(),True),StructField(\"MAPLETTER\",StringType(),True),StructField(\"LOTSIZEDIMENSIONS\",StringType(),True),StructField(\"SCHOOLDISTRICTNUMBER\",StringType(),True),StructField(\"DAYSONMARKET\",LongType(),True),StructField(\"OFFMARKETDATE\",StringType(),True),StructField(\"FIREPLACES\",LongType(),True),StructField(\"ROOMAREA4\",StringType(),True),StructField(\"ROOMTYPE\",StringType(),True),StructField(\"ROOF\",StringType(),True),StructField(\"ROOMFLOOR4\",StringType(),True),StructField(\"POTENTIALSHORTSALE\",StringType(),True),StructField(\"POOLDESCRIPTION\",StringType(),True),StructField(\"PDOM\",LongType(),True),StructField(\"GARAGEDESCRIPTION\",StringType(),True),StructField(\"SQFTABOVEGROUND\",LongType(),True),StructField(\"TAXES\",LongType(),True),StructField(\"ROOMFLOOR1\",StringType(),True),StructField(\"ROOMAREA1\",StringType(),True),StructField(\"TAXWITHASSESSMENTS\",DoubleType(),True),StructField(\"TAXYEAR\",LongType(),True),StructField(\"LIVINGAREA\",LongType(),True),StructField(\"UNITNUMBER\",StringType(),True),StructField(\"YEARBUILT\",LongType(),True),StructField(\"ZONING\",StringType(),True),StructField(\"STYLE\",StringType(),True),StructField(\"ACRES\",DoubleType(),True),StructField(\"COOLINGDESCRIPTION\",StringType(),True),StructField(\"APPLIANCES\",StringType(),True),StructField(\"BACKONMARKETDATE\",DoubleType(),True),StructField(\"ROOMFAMILYCHAR\",StringType(),True),StructField(\"ROOMAREA3\",StringType(),True),StructField(\"EXTERIOR\",StringType(),True),StructField(\"ROOMFLOOR3\",StringType(),True),StructField(\"ROOMFLOOR2\",StringType(),True),StructField(\"ROOMAREA2\",StringType(),True),StructField(\"DININGROOMDESCRIPTION\",StringType(),True),StructField(\"BASEMENT\",StringType(),True),StructField(\"BATHSFULL\",LongType(),True),StructField(\"BATHSHALF\",LongType(),True),StructField(\"BATHQUARTER\",LongType(),True),StructField(\"BATHSTHREEQUARTER\",DoubleType(),True),StructField(\"CLASS\",StringType(),True),StructField(\"BATHSTOTAL\",LongType(),True),StructField(\"BATHDESC\",StringType(),True),StructField(\"ROOMAREA5\",StringType(),True),StructField(\"ROOMFLOOR5\",StringType(),True),StructField(\"ROOMAREA6\",StringType(),True),StructField(\"ROOMFLOOR6\",StringType(),True),StructField(\"ROOMAREA7\",StringType(),True),StructField(\"ROOMFLOOR7\",StringType(),True),StructField(\"ROOMAREA8\",StringType(),True),StructField(\"ROOMFLOOR8\",StringType(),True),StructField(\"BEDROOMS\",LongType(),True),StructField(\"SQFTBELOWGROUND\",LongType(),True),StructField(\"ASSUMABLEMORTGAGE\",StringType(),True),StructField(\"ASSOCIATIONFEE\",LongType(),True),StructField(\"ASSESSMENTPENDING\",StringType(),True),StructField(\"ASSESSEDVALUATION\",DoubleType(),True)])\n",
    "df = spark.read.csv(\"Real_Estate.csv\", header=True, schema=a)"
   ]
  },
  {
   "cell_type": "markdown",
   "metadata": {},
   "source": [
    "# Feature Engineering"
   ]
  },
  {
   "cell_type": "markdown",
   "metadata": {},
   "source": [
    "## Feature Generation"
   ]
  },
  {
   "cell_type": "markdown",
   "metadata": {},
   "source": [
    "Creating new features can better capture patterns in the data. Combining features together can capture subtle dependent effects between them that impact the outcome variable. These can be represented by multiplying, summing, differencing or dividing two or more variables (multiplying width and length for example). Applying your reasoning and understanding of the problem can help you build powerful predictors.\n",
    "\n",
    "There is no limit how many features you can combine but the interpretability certainly takes a steep dive after three. Beyond this is the realm of deep feature generation. "
   ]
  },
  {
   "cell_type": "markdown",
   "metadata": {},
   "source": [
    "### Differences"
   ]
  },
  {
   "cell_type": "code",
   "execution_count": 2,
   "metadata": {},
   "outputs": [
    {
     "name": "stdout",
     "output_type": "stream",
     "text": [
      "Corr of ACRES vs SALESCLOSEPRICE0.22060612588935333\n",
      "Corr of FOUNDATIONSIZE vs SALESCLOSEPRICE: 0.6152231695664402\n",
      "Corr of YARD_SIZE vs SALESCLOSEPRICE: 0.20714585430854263\n"
     ]
    }
   ],
   "source": [
    "acres_to_sqfeet = 43560\n",
    "\n",
    "df = df.withColumn(\"LOT_SIZE_SQFT\", df[\"ACRES\"] * acres_to_sqfeet)\n",
    "df = df.withColumn(\"YARD_SIZE\", df[\"LOT_SIZE_SQFT\"] - df[\"FOUNDATIONSIZE\"])\n",
    "\n",
    "print(\"Corr of ACRES vs SALESCLOSEPRICE\" + str(df.corr(\"SALESCLOSEPRICE\", \"ACRES\")))\n",
    "print(\"Corr of FOUNDATIONSIZE vs SALESCLOSEPRICE: \" + str(df.corr(\"SALESCLOSEPRICE\", \"FOUNDATIONSIZE\")))\n",
    "print(\"Corr of YARD_SIZE vs SALESCLOSEPRICE: \" + str(df.corr(\"SALESCLOSEPRICE\", \"YARD_SIZE\")))"
   ]
  },
  {
   "cell_type": "markdown",
   "metadata": {},
   "source": [
    "Not all generated features are worthwhile, many are not but its still worth doing! Most likely this is because there isn't a lot of variation in lot sizes in the neighborhoods we are looking at to create a strong feature. In addition if we look at our data, some of the homes have 0 ACRES if we really wanted to handle this correctly we could have to set the minimum YARD_SIZE to 0."
   ]
  },
  {
   "cell_type": "markdown",
   "metadata": {},
   "source": [
    "### Ratios"
   ]
  },
  {
   "cell_type": "code",
   "execution_count": 3,
   "metadata": {},
   "outputs": [
    {
     "name": "stdout",
     "output_type": "stream",
     "text": [
      "+-----------------+---------+----------------+\n",
      "|ASSESSEDVALUATION|LISTPRICE|ASSESSED_TO_LIST|\n",
      "+-----------------+---------+----------------+\n",
      "|              0.0|   139900|             0.0|\n",
      "|              0.0|   210000|             0.0|\n",
      "|              0.0|   225000|             0.0|\n",
      "|              0.0|   230000|             0.0|\n",
      "|              0.0|   239900|             0.0|\n",
      "+-----------------+---------+----------------+\n",
      "only showing top 5 rows\n",
      "\n",
      "+--------------------+-----+---------+\n",
      "|         TAX_TO_LIST|TAXES|LISTPRICE|\n",
      "+--------------------+-----+---------+\n",
      "|0.013280914939242315| 1858|   139900|\n",
      "| 0.00780952380952381| 1640|   210000|\n",
      "|0.010622222222222222| 2390|   225000|\n",
      "|0.009330434782608695| 2146|   230000|\n",
      "|0.008378491037932471| 2010|   239900|\n",
      "+--------------------+-----+---------+\n",
      "only showing top 5 rows\n",
      "\n",
      "+------------------+--------+----------+\n",
      "|      BED_TO_BATHS|BEDROOMS|BATHSTOTAL|\n",
      "+------------------+--------+----------+\n",
      "|               1.5|       3|         2|\n",
      "|1.3333333333333333|       4|         3|\n",
      "|               2.0|       2|         1|\n",
      "|               1.0|       2|         2|\n",
      "|               1.5|       3|         2|\n",
      "+------------------+--------+----------+\n",
      "only showing top 5 rows\n",
      "\n"
     ]
    }
   ],
   "source": [
    "df = df.withColumn(\"ASSESSED_TO_LIST\", df[\"ASSESSEDVALUATION\"] / df[\"LISTPRICE\"])\n",
    "df[['ASSESSEDVALUATION', 'LISTPRICE', 'ASSESSED_TO_LIST']].show(5)\n",
    "\n",
    "df = df.withColumn(\"TAX_TO_LIST\", df[\"TAXES\"] / df[\"LISTPRICE\"])\n",
    "df[['TAX_TO_LIST', 'TAXES', 'LISTPRICE']].show(5)\n",
    "\n",
    "df = df.withColumn(\"BED_TO_BATHS\", df[\"BEDROOMS\"] / df[\"BATHSTOTAL\"])\n",
    "df[['BED_TO_BATHS', 'BEDROOMS', 'BATHSTOTAL']].show(5)"
   ]
  },
  {
   "cell_type": "markdown",
   "metadata": {},
   "source": [
    "### Deeper Features\n"
   ]
  },
  {
   "cell_type": "code",
   "execution_count": 4,
   "metadata": {},
   "outputs": [
    {
     "name": "stdout",
     "output_type": "stream",
     "text": [
      "+-------+-------------------+\n",
      "|summary| BATHS_PER_1000SQFT|\n",
      "+-------+-------------------+\n",
      "|  count|               5000|\n",
      "|   mean| 1.4302617483739894|\n",
      "| stddev|  14.12890410245937|\n",
      "|    min|0.39123630672926446|\n",
      "|    max|             1000.0|\n",
      "+-------+-------------------+\n",
      "\n"
     ]
    },
    {
     "name": "stderr",
     "output_type": "stream",
     "text": [
      "C:\\anaconda3\\lib\\site-packages\\seaborn\\axisgrid.py:1840: UserWarning: JointGrid annotation is deprecated and will be removed in a future release.\n",
      "  warnings.warn(UserWarning(msg))\n",
      "C:\\anaconda3\\lib\\site-packages\\seaborn\\axisgrid.py:1840: UserWarning: JointGrid annotation is deprecated and will be removed in a future release.\n",
      "  warnings.warn(UserWarning(msg))\n"
     ]
    },
    {
     "data": {
      "image/png": "[encoded data removed]",
      "text/plain": [
       "<Figure size 432x432 with 3 Axes>"
      ]
     },
     "metadata": {
      "needs_background": "light"
     },
     "output_type": "display_data"
    },
    {
     "data": {
      "image/png": "[encoded data removed]",
      "text/plain": [
       "<Figure size 432x432 with 3 Axes>"
      ]
     },
     "metadata": {
      "needs_background": "light"
     },
     "output_type": "display_data"
    }
   ],
   "source": [
    "import matplotlib.pyplot as plt\n",
    "import seaborn as sns\n",
    "\n",
    "\n",
    "df = df.withColumn(\"Total_SQFT\", df[\"SQFTBELOWGROUND\"] + df[\"SQFTABOVEGROUND\"])\n",
    "df = df.withColumn(\"BATHS_PER_1000SQFT\", df[\"BATHSTOTAL\"] / (df[\"Total_SQFT\"] / 1000))\n",
    "df[[\"BATHS_PER_1000SQFT\"]].describe().show()\n",
    "\n",
    "pandas_df = df.sample(False, 0.5, 0).toPandas()\n",
    "\n",
    "from scipy import stats\n",
    "\n",
    "def r2(x, y):\n",
    "    return stats.pearsonr(x, y)[0] ** 2\n",
    "\n",
    "sns.jointplot(x=\"Total_SQFT\", y=\"SALESCLOSEPRICE\", data = pandas_df, kind=\"reg\", stat_func=r2)\n",
    "sns.jointplot(x=\"BATHS_PER_1000SQFT\", y=\"SALESCLOSEPRICE\", data = pandas_df, kind=\"reg\", stat_func=r2)\n",
    "plt.show()"
   ]
  },
  {
   "cell_type": "markdown",
   "metadata": {},
   "source": [
    "Using the describe() function you could have seen there was a max of 1000 bathrooms per 1000sqft, which is almost for sure an issue with our data. If you really wanted to use this feature you'd have to filter that outlier out or overwrite it to NULL with when(). After plotting the jointplots()s you should have seen that the less complicated feature Total_SQFT had a much better R2 of 0.67 vs BATHS_PER_1000SQFT's 0.02. Often simplier is better!"
   ]
  },
  {
   "cell_type": "markdown",
   "metadata": {},
   "source": [
    "## Time Features"
   ]
  },
  {
   "cell_type": "markdown",
   "metadata": {},
   "source": [
    "Usin time in our models is not as easy as throwing it into our model as a continuous variable.\n",
    "\n",
    "The high variation in the daily number of homes sold makes this pattern hard for us to see and the model to understand. If we change the aggregation to look at grouping by month we can see the pattern much more clearly. Choosing the right level to build out time-related features is important. If it is too granular they are too noisy for our model, too broad and our model misses trends.\n",
    "\n",
    "To work with dates we need them to be of Spark date type. Conversion can be done by using to_data function. If you need the time component use to_timestamp instead. You can convert them into ordinal features like year or month using the functions year and month respectively. dayofmonth(), weekofyear()...\n",
    "\n",
    "You can use lag function with window funtion to compate the current record. Window allows you to return the value for each record based on some calculation against a group of records such as rank or moving average."
   ]
  },
  {
   "cell_type": "markdown",
   "metadata": {},
   "source": [
    "### Time Components"
   ]
  },
  {
   "cell_type": "markdown",
   "metadata": {},
   "source": [
    "Since the \"LISTDATE\" column was not provided accurately, some conversions has been done. The values of the column converted into required shape to be recognized by to_timestamp function."
   ]
  },
  {
   "cell_type": "code",
   "execution_count": 8,
   "metadata": {},
   "outputs": [],
   "source": [
    "a = StructType([StructField(\"NO\",LongType(),True),StructField(\"MLSID\",StringType(),True),StructField(\"STREETNUMBERNUMERIC\",LongType(),True),StructField(\"STREETADDRESS\",StringType(),True),StructField(\"STREETNAME\",StringType(),True),StructField(\"POSTALCODE\",LongType(),True),StructField(\"STATEORPROVINCE\",StringType(),True),StructField(\"CITY\",StringType(),True),StructField(\"SALESCLOSEPRICE\",LongType(),True),StructField(\"LISTDATE\",StringType(),True),StructField(\"LISTPRICE\",LongType(),True),StructField(\"LISTTYPE\",StringType(),True),StructField(\"ORIGINALLISTPRICE\",LongType(),True),StructField(\"PRICEPERTSFT\",DoubleType(),True),StructField(\"FOUNDATIONSIZE\",LongType(),True),StructField(\"FENCE\",StringType(),True),StructField(\"MAPLETTER\",StringType(),True),StructField(\"LOTSIZEDIMENSIONS\",StringType(),True),StructField(\"SCHOOLDISTRICTNUMBER\",StringType(),True),StructField(\"DAYSONMARKET\",LongType(),True),StructField(\"OFFMARKETDATE\",StringType(),True),StructField(\"FIREPLACES\",LongType(),True),StructField(\"ROOMAREA4\",StringType(),True),StructField(\"ROOMTYPE\",StringType(),True),StructField(\"ROOF\",StringType(),True),StructField(\"ROOMFLOOR4\",StringType(),True),StructField(\"POTENTIALSHORTSALE\",StringType(),True),StructField(\"POOLDESCRIPTION\",StringType(),True),StructField(\"PDOM\",LongType(),True),StructField(\"GARAGEDESCRIPTION\",StringType(),True),StructField(\"SQFTABOVEGROUND\",LongType(),True),StructField(\"TAXES\",LongType(),True),StructField(\"ROOMFLOOR1\",StringType(),True),StructField(\"ROOMAREA1\",StringType(),True),StructField(\"TAXWITHASSESSMENTS\",DoubleType(),True),StructField(\"TAXYEAR\",LongType(),True),StructField(\"LIVINGAREA\",LongType(),True),StructField(\"UNITNUMBER\",StringType(),True),StructField(\"YEARBUILT\",LongType(),True),StructField(\"ZONING\",StringType(),True),StructField(\"STYLE\",StringType(),True),StructField(\"ACRES\",DoubleType(),True),StructField(\"COOLINGDESCRIPTION\",StringType(),True),StructField(\"APPLIANCES\",StringType(),True),StructField(\"BACKONMARKETDATE\",DoubleType(),True),StructField(\"ROOMFAMILYCHAR\",StringType(),True),StructField(\"ROOMAREA3\",StringType(),True),StructField(\"EXTERIOR\",StringType(),True),StructField(\"ROOMFLOOR3\",StringType(),True),StructField(\"ROOMFLOOR2\",StringType(),True),StructField(\"ROOMAREA2\",StringType(),True),StructField(\"DININGROOMDESCRIPTION\",StringType(),True),StructField(\"BASEMENT\",StringType(),True),StructField(\"BATHSFULL\",LongType(),True),StructField(\"BATHSHALF\",LongType(),True),StructField(\"BATHQUARTER\",LongType(),True),StructField(\"BATHSTHREEQUARTER\",DoubleType(),True),StructField(\"CLASS\",StringType(),True),StructField(\"BATHSTOTAL\",LongType(),True),StructField(\"BATHDESC\",StringType(),True),StructField(\"ROOMAREA5\",StringType(),True),StructField(\"ROOMFLOOR5\",StringType(),True),StructField(\"ROOMAREA6\",StringType(),True),StructField(\"ROOMFLOOR6\",StringType(),True),StructField(\"ROOMAREA7\",StringType(),True),StructField(\"ROOMFLOOR7\",StringType(),True),StructField(\"ROOMAREA8\",StringType(),True),StructField(\"ROOMFLOOR8\",StringType(),True),StructField(\"BEDROOMS\",LongType(),True),StructField(\"SQFTBELOWGROUND\",LongType(),True),StructField(\"ASSUMABLEMORTGAGE\",StringType(),True),StructField(\"ASSOCIATIONFEE\",LongType(),True),StructField(\"ASSESSMENTPENDING\",StringType(),True),StructField(\"ASSESSEDVALUATION\",DoubleType(),True)])\n",
    "df = spark.read.csv(\"Real_Estate.csv\", header=True, schema=a)\n",
    "from pyspark.sql.functions import split, format_string, concat_ws, to_timestamp\n",
    "\n",
    "\n",
    "df = df.withColumn(\"LISTDATE1\", split(df.LISTDATE, \" \")[0])\n",
    "\n",
    "df = df.withColumn(\"day\", split(df.LISTDATE1, \"/\")[0])\n",
    "df = df.withColumn(\"month\", split(df.LISTDATE1, \"/\")[1])\n",
    "df = df.withColumn(\"year\", split(df.LISTDATE1, \"/\")[2])\n",
    "\n",
    "df = df.withColumn(\"day\", df.day.cast(\"int\"))\n",
    "df = df.withColumn(\"month\", df.month.cast(\"int\"))\n",
    "df = df.withColumn(\"day\",format_string(\"%02d\", \"day\"))\n",
    "df = df.withColumn(\"month\",format_string(\"%02d\", \"month\"))\n",
    "\n",
    "df = df.withColumn(\"day\", df.day.cast(\"string\"))\n",
    "df = df.withColumn(\"month\", df.month.cast(\"string\"))\n",
    "df = df.withColumn( \"a\",concat_ws('/',df.day,df.month,df.year))\n",
    "df = df.withColumn( \"a\",concat_ws('/',df.month,df.day,df.year))\n",
    "df = df.withColumn(\"LISTDATE\", to_timestamp(\"a\",\"dd/MM/yyyy\"))\n",
    "\n",
    "df = df.drop(\"a\")\n",
    "df = df.drop(\"day\")\n",
    "df = df.drop(\"year\")\n",
    "df = df.drop(\"a\")"
   ]
  },
  {
   "cell_type": "code",
   "execution_count": 9,
   "metadata": {
    "scrolled": true
   },
   "outputs": [
    {
     "data": {
      "image/png": "[encoded data removed]",
      "text/plain": [
       "<Figure size 432x288 with 1 Axes>"
      ]
     },
     "metadata": {
      "needs_background": "light"
     },
     "output_type": "display_data"
    }
   ],
   "source": [
    "from pyspark.sql.functions import to_date, dayofweek\n",
    "\n",
    "df = df.withColumn(\"LISTDATE\", to_date(\"LISTDATE\"))\n",
    "df = df.withColumn(\"List_Day_of_Week\", dayofweek(\"LISTDATE\"))\n",
    "sample_df = df.sample(False, 0.5, 42).toPandas()\n",
    "sns.countplot(x=\"List_Day_of_Week\", data=sample_df)\n",
    "plt.show()"
   ]
  },
  {
   "cell_type": "markdown",
   "metadata": {},
   "source": [
    "### Joining On Time Components"
   ]
  },
  {
   "cell_type": "code",
   "execution_count": 21,
   "metadata": {},
   "outputs": [
    {
     "name": "stdout",
     "output_type": "stream",
     "text": [
      "+---------------+\n",
      "|MedianHomeValue|\n",
      "+---------------+\n",
      "|         401000|\n",
      "|         401000|\n",
      "|         401000|\n",
      "|         401000|\n",
      "|         401000|\n",
      "|         401000|\n",
      "|         401000|\n",
      "|         401000|\n",
      "|         401000|\n",
      "|         401000|\n",
      "|         401000|\n",
      "|         401000|\n",
      "|         401000|\n",
      "|         401000|\n",
      "|         401000|\n",
      "|         401000|\n",
      "|         401000|\n",
      "|         401000|\n",
      "|         401000|\n",
      "|         401000|\n",
      "+---------------+\n",
      "only showing top 20 rows\n",
      "\n"
     ]
    }
   ],
   "source": [
    "from pyspark.sql.functions import year\n",
    "\n",
    "median_prices_df = spark.read.csv(\"median_prices.csv\", header=True)\n",
    "\n",
    "df = df.withColumn(\"list_year\", year(\"LISTDATE\"))\n",
    "df = df.withColumn(\"report_year\", df.list_year-1)\n",
    "\n",
    "condition = [df[\"CITY\"] == median_prices_df[\"City\"], df[\"report_year\"] == median_prices_df[\"Year\"]]\n",
    "\n",
    "df = df.join(median_prices_df, on=condition, how=\"left\")\n",
    "df[[\"MedianHomeValue\"]].show()"
   ]
  },
  {
   "cell_type": "markdown",
   "metadata": {},
   "source": [
    "### Date Math"
   ]
  },
  {
   "cell_type": "code",
   "execution_count": 43,
   "metadata": {},
   "outputs": [
    {
     "name": "stdout",
     "output_type": "stream",
     "text": [
      "+----------+----------+-------------------+\n",
      "|      DATE|    DATE-1|Days_Between_Report|\n",
      "+----------+----------+-------------------+\n",
      "|2013-10-10|      null|               null|\n",
      "|2013-10-17|2013-10-10|                  7|\n",
      "|2013-10-24|2013-10-17|                  7|\n",
      "|2013-10-31|2013-10-24|                  7|\n",
      "|2013-11-07|2013-10-31|                  7|\n",
      "|2013-11-14|2013-11-07|                  7|\n",
      "|2013-11-21|2013-11-14|                  7|\n",
      "|2013-11-27|2013-11-21|                  6|\n",
      "|2013-12-05|2013-11-27|                  8|\n",
      "|2013-12-12|2013-12-05|                  7|\n",
      "|2013-12-19|2013-12-12|                  7|\n",
      "|2013-12-26|2013-12-19|                  7|\n",
      "|2014-01-02|2013-12-26|                  7|\n",
      "|2014-01-09|2014-01-02|                  7|\n",
      "|2014-01-16|2014-01-09|                  7|\n",
      "|2014-01-23|2014-01-16|                  7|\n",
      "|2014-01-30|2014-01-23|                  7|\n",
      "|2014-02-06|2014-01-30|                  7|\n",
      "|2014-02-13|2014-02-06|                  7|\n",
      "|2014-02-20|2014-02-13|                  7|\n",
      "+----------+----------+-------------------+\n",
      "only showing top 20 rows\n",
      "\n",
      "+-------------------+\n",
      "|Days_Between_Report|\n",
      "+-------------------+\n",
      "|               null|\n",
      "|                  7|\n",
      "|                  6|\n",
      "|                  8|\n",
      "+-------------------+\n",
      "\n"
     ]
    }
   ],
   "source": [
    "from pyspark.sql.functions import lag, datediff, to_date\n",
    "from pyspark.sql.window import Window\n",
    "\n",
    "mort_df = spark.read.csv(\"mort.csv\",header=True)\n",
    "mort_df = mort_df.withColumn(\"DATE\", to_date(\"DATE\",\"yyyy-MM-dd\"))\n",
    "\n",
    "w = Window().orderBy(mort_df[\"DATE\"])\n",
    "mort_df = mort_df.withColumn(\"DATE-1\", lag(\"DATE\", 1).over(w))\n",
    "\n",
    "mort_df = mort_df.withColumn(\"Days_Between_Report\", datediff(\"DATE\", \"DATE-1\"))\n",
    "\n",
    "mort_df.select(\"DATE\", \"DATE-1\", \"Days_Between_Report\").show()\n",
    "\n",
    "mort_df.select(\"Days_Between_Report\").distinct().show()"
   ]
  },
  {
   "cell_type": "markdown",
   "metadata": {},
   "source": [
    "## Extracting Features"
   ]
  },
  {
   "cell_type": "markdown",
   "metadata": {},
   "source": [
    "Wrangle columns into useful information for machine learning. You can extract features by using split and when functions. If the order of the listed values in a column is not guaranteed you can use explode so that each value has a separate record, with everything else repeated. Then you can pivot those repeated field into columns. For this you need split, explod, lit, coalesce and first functions. "
   ]
  },
  {
   "cell_type": "markdown",
   "metadata": {},
   "source": [
    "### Extracting Text to New Features"
   ]
  },
  {
   "cell_type": "code",
   "execution_count": 53,
   "metadata": {},
   "outputs": [
    {
     "name": "stdout",
     "output_type": "stream",
     "text": [
      "+------------------------------------------------------------------+-------------------+\n",
      "|GARAGEDESCRIPTION                                                 |has_attached_garage|\n",
      "+------------------------------------------------------------------+-------------------+\n",
      "|Attached Garage                                                   |1                  |\n",
      "|Attached Garage, Driveway - Asphalt, Garage Door Opener           |1                  |\n",
      "|Attached Garage                                                   |1                  |\n",
      "|Attached Garage, Detached Garage, Tuckunder, Driveway - Gravel    |1                  |\n",
      "|Attached Garage, Driveway - Asphalt, Garage Door Opener           |1                  |\n",
      "|Attached Garage, Driveway - Asphalt                               |1                  |\n",
      "|Attached Garage, Driveway - Asphalt, Garage Door Opener           |1                  |\n",
      "|Attached Garage                                                   |1                  |\n",
      "|Attached Garage                                                   |1                  |\n",
      "|Attached Garage                                                   |1                  |\n",
      "|Attached Garage                                                   |1                  |\n",
      "|Attached Garage                                                   |1                  |\n",
      "|Attached Garage                                                   |1                  |\n",
      "|Attached Garage, Driveway - Asphalt, Garage Door Opener           |1                  |\n",
      "|Attached Garage, Tuckunder, Driveway - Asphalt, Garage Door Opener|1                  |\n",
      "|Attached Garage, Driveway - Asphalt, Garage Door Opener           |1                  |\n",
      "|Attached Garage, Driveway - Asphalt, Garage Door Opener           |1                  |\n",
      "|Attached Garage, Driveway - Asphalt, Garage Door Opener           |1                  |\n",
      "|Attached Garage, Driveway - Asphalt, Garage Door Opener           |1                  |\n",
      "|Attached Garage, Driveway - Asphalt, Garage Door Opener           |1                  |\n",
      "+------------------------------------------------------------------+-------------------+\n",
      "only showing top 20 rows\n",
      "\n"
     ]
    }
   ],
   "source": [
    "from pyspark.sql.functions import when\n",
    "\n",
    "has_attached_garage = df[\"GARAGEDESCRIPTION\"].like(\"%Attached Garage%\")\n",
    "has_detached_garage = df[\"GARAGEDESCRIPTION\"].like(\"%Detached Garage%\")\n",
    "\n",
    "df = df.withColumn(\"has_attached_garage\", (when(has_attached_garage, 1)\n",
    "                                          .when(has_detached_garage, 0)\n",
    "                                          .otherwise(None)))\n",
    "\n",
    "df[[\"GARAGEDESCRIPTION\", \"has_attached_garage\"]].show(truncate=False)"
   ]
  },
  {
   "cell_type": "markdown",
   "metadata": {},
   "source": [
    "### Splitting & Exploding\n"
   ]
  },
  {
   "cell_type": "code",
   "execution_count": 54,
   "metadata": {},
   "outputs": [
    {
     "name": "stdout",
     "output_type": "stream",
     "text": [
      "+----------------------------+\n",
      "|              ex_garage_list|\n",
      "+----------------------------+\n",
      "|             Attached Garage|\n",
      "|      On-Street Parking Only|\n",
      "|                        None|\n",
      "| More Parking Onsite for Fee|\n",
      "|          Garage Door Opener|\n",
      "|   No Int Access to Dwelling|\n",
      "|           Driveway - Gravel|\n",
      "|       Valet Parking for Fee|\n",
      "|              Uncovered/Open|\n",
      "|               Heated Garage|\n",
      "|          Underground Garage|\n",
      "|                       Other|\n",
      "|                  Unassigned|\n",
      "|More Parking Offsite for Fee|\n",
      "|    Driveway - Other Surface|\n",
      "|       Contract Pkg Required|\n",
      "|                     Carport|\n",
      "|                     Secured|\n",
      "|             Detached Garage|\n",
      "|          Driveway - Asphalt|\n",
      "|                  Units Vary|\n",
      "|                    Assigned|\n",
      "|                   Tuckunder|\n",
      "|                     Covered|\n",
      "|            Insulated Garage|\n",
      "|         Driveway - Concrete|\n",
      "|                      Tandem|\n",
      "|           Driveway - Shared|\n",
      "+----------------------------+\n",
      "\n"
     ]
    }
   ],
   "source": [
    "from pyspark.sql.functions import explode\n",
    "\n",
    "df = df.withColumn(\"garage_list\", split(\"GARAGEDESCRIPTION\", \", \"))\n",
    "ex_df = df.withColumn(\"ex_garage_list\", explode(\"garage_list\"))\n",
    "ex_df[[\"ex_garage_list\"]].distinct().show(100, truncate=50)"
   ]
  },
  {
   "cell_type": "markdown",
   "metadata": {},
   "source": [
    "It looks like there is a decent amount of values here but not hundreds. If you have too many, when you pivot them it can make your dataset a mess."
   ]
  },
  {
   "cell_type": "markdown",
   "metadata": {},
   "source": [
    "### Pivot & Join\n"
   ]
  },
  {
   "cell_type": "code",
   "execution_count": 79,
   "metadata": {},
   "outputs": [
    {
     "name": "stdout",
     "output_type": "stream",
     "text": [
      "+----+---------------+---------------+-------+\n",
      "|  NO|Attached Garage|Detached Garage|Carport|\n",
      "+----+---------------+---------------+-------+\n",
      "|  26|              1|              0|      0|\n",
      "|  29|              1|              1|      0|\n",
      "| 474|              1|              0|      0|\n",
      "| 964|              1|              0|      0|\n",
      "|1677|              1|              0|      0|\n",
      "|1697|              0|              1|      0|\n",
      "|1806|              0|              1|      0|\n",
      "|1950|              0|              1|      0|\n",
      "|2040|              0|              1|      0|\n",
      "|2214|              0|              0|      0|\n",
      "|2250|              0|              1|      0|\n",
      "|2453|              1|              0|      0|\n",
      "|2509|              0|              1|      0|\n",
      "|2529|              0|              1|      0|\n",
      "|2927|              0|              1|      0|\n",
      "|3091|              0|              1|      0|\n",
      "|3506|              0|              1|      0|\n",
      "|3764|              0|              1|      0|\n",
      "|4590|              1|              0|      0|\n",
      "|4823|              1|              0|      0|\n",
      "+----+---------------+---------------+-------+\n",
      "only showing top 20 rows\n",
      "\n"
     ]
    }
   ],
   "source": [
    "from pyspark.sql.functions import coalesce, first, lit\n",
    "\n",
    "ex_df = ex_df.withColumn(\"constant_val\", lit(1))\n",
    "piv_df = ex_df.groupBy(\"NO\").pivot(\"ex_garage_list\").agg(coalesce(first(\"constant_val\")))\n",
    "\n",
    "joined_df = df.join(piv_df,on=\"NO\", how=\"left\")\n",
    "\n",
    "zfill_cols = piv_df.columns\n",
    "zfilled_df = joined_df.fillna(0,subset=zfill_cols)\n",
    "zfilled_df.select(\"NO\", \"Attached Garage\", \"Detached Garage\", \"Carport\").show()"
   ]
  },
  {
   "cell_type": "code",
   "execution_count": 80,
   "metadata": {},
   "outputs": [
    {
     "name": "stdout",
     "output_type": "stream",
     "text": [
      "+---+---------------+---------------+-------+\n",
      "| NO|Attached Garage|Detached Garage|Carport|\n",
      "+---+---------------+---------------+-------+\n",
      "|  1|              1|              0|      0|\n",
      "|  2|              1|              0|      0|\n",
      "|  3|              1|              0|      0|\n",
      "|  4|              1|              1|      0|\n",
      "|  5|              1|              0|      0|\n",
      "|  6|              1|              0|      0|\n",
      "|  7|              1|              0|      0|\n",
      "|  8|              1|              0|      0|\n",
      "|  9|              1|              0|      0|\n",
      "| 10|              1|              0|      0|\n",
      "| 11|              1|              0|      0|\n",
      "| 12|              1|              0|      0|\n",
      "| 13|              1|              0|      0|\n",
      "| 14|              1|              0|      0|\n",
      "| 15|              1|              0|      0|\n",
      "| 16|              1|              0|      0|\n",
      "| 17|              1|              0|      0|\n",
      "| 18|              1|              0|      0|\n",
      "| 19|              1|              0|      0|\n",
      "| 20|              1|              0|      0|\n",
      "+---+---------------+---------------+-------+\n",
      "only showing top 20 rows\n",
      "\n"
     ]
    }
   ],
   "source": [
    "zfilled_df.orderBy(\"NO\").select(\"NO\", \"Attached Garage\", \"Detached Garage\", \"Carport\").show()"
   ]
  },
  {
   "cell_type": "markdown",
   "metadata": {},
   "source": [
    "## Binarizing, Bucketing & Encoding\n"
   ]
  },
  {
   "cell_type": "markdown",
   "metadata": {},
   "source": [
    "Binarization of data is a helpful way to collapse some nuance in your model to just a yes/no. Bucketing, also known as binning is a way to create ordinal variables. ML algorithms connat handle categorical data like a text field. It must be converted to a numberic format to be evaluated correctly. For that StringIndexer and onehatencoder to output all the encoded indexes to a single column of type vector which is more efficient than storing them all individual columns."
   ]
  },
  {
   "cell_type": "markdown",
   "metadata": {},
   "source": [
    "### Binarizing Day of Week"
   ]
  },
  {
   "cell_type": "code",
   "execution_count": 85,
   "metadata": {},
   "outputs": [
    {
     "name": "stdout",
     "output_type": "stream",
     "text": [
      "+----------------+-----------------+\n",
      "|List_Day_of_Week|Listed_On_Weekend|\n",
      "+----------------+-----------------+\n",
      "|             7.0|              1.0|\n",
      "|             2.0|              0.0|\n",
      "|             2.0|              0.0|\n",
      "|             6.0|              1.0|\n",
      "|             3.0|              0.0|\n",
      "|             2.0|              0.0|\n",
      "|             5.0|              0.0|\n",
      "|             1.0|              0.0|\n",
      "|             5.0|              0.0|\n",
      "|             7.0|              1.0|\n",
      "|             6.0|              1.0|\n",
      "|             5.0|              0.0|\n",
      "|             1.0|              0.0|\n",
      "|             2.0|              0.0|\n",
      "|             5.0|              0.0|\n",
      "|             1.0|              0.0|\n",
      "|             1.0|              0.0|\n",
      "|             6.0|              1.0|\n",
      "|             7.0|              1.0|\n",
      "|             6.0|              1.0|\n",
      "+----------------+-----------------+\n",
      "only showing top 20 rows\n",
      "\n"
     ]
    }
   ],
   "source": [
    "from pyspark.ml.feature import Binarizer\n",
    "\n",
    "binarizer = Binarizer(threshold=5, inputCol=\"List_Day_of_Week\", outputCol=\"Listed_On_Weekend\")\n",
    "df = df.withColumn(\"List_Day_of_Week\", df[\"List_Day_of_Week\"].cast(\"double\"))\n",
    "df = binarizer.transform(df)\n",
    "df[[\"List_Day_of_Week\", \"Listed_On_Weekend\"]].show()"
   ]
  },
  {
   "cell_type": "markdown",
   "metadata": {},
   "source": [
    "### Bucketing"
   ]
  },
  {
   "cell_type": "code",
   "execution_count": 93,
   "metadata": {},
   "outputs": [
    {
     "data": {
      "image/png": "[encoded data removed]",
      "text/plain": [
       "<Figure size 432x288 with 1 Axes>"
      ]
     },
     "metadata": {
      "needs_background": "light"
     },
     "output_type": "display_data"
    },
    {
     "name": "stdout",
     "output_type": "stream",
     "text": [
      "+--------+--------+\n",
      "|BEDROOMS|bedrooms|\n",
      "+--------+--------+\n",
      "|     3.0|     3.0|\n",
      "|     4.0|     4.0|\n",
      "|     2.0|     2.0|\n",
      "|     2.0|     2.0|\n",
      "|     3.0|     3.0|\n",
      "|     3.0|     3.0|\n",
      "|     3.0|     3.0|\n",
      "|     3.0|     3.0|\n",
      "|     3.0|     3.0|\n",
      "|     3.0|     3.0|\n",
      "|     3.0|     3.0|\n",
      "|     3.0|     3.0|\n",
      "|     3.0|     3.0|\n",
      "|     3.0|     3.0|\n",
      "|     2.0|     2.0|\n",
      "|     3.0|     3.0|\n",
      "|     3.0|     3.0|\n",
      "|     3.0|     3.0|\n",
      "|     3.0|     3.0|\n",
      "|     3.0|     3.0|\n",
      "+--------+--------+\n",
      "only showing top 20 rows\n",
      "\n"
     ]
    }
   ],
   "source": [
    "from pyspark.ml.feature import Bucketizer\n",
    "\n",
    "sample_df = df.select(\"BEDROOMS\").sample(False, 0.5).toPandas()\n",
    "sns.distplot(sample_df, axlabel=\"BEDROOMS\")\n",
    "plt.show()\n",
    "\n",
    "splits = [0, 1, 2, 3, 4, 5, float(\"Inf\")]\n",
    "buck = Bucketizer(splits=splits, inputCol=\"BEDROOMS\", outputCol=\"bedrooms\")\n",
    "df_bucket = buck.transform(df)\n",
    "df_bucket[[\"BEDROOMS\", \"bedrooms\"]].show()"
   ]
  },
  {
   "cell_type": "markdown",
   "metadata": {},
   "source": [
    "Being able to inspect a distribution plot is important if you are considering bucketing feature values together."
   ]
  },
  {
   "cell_type": "markdown",
   "metadata": {},
   "source": [
    "### One Hot Encoding"
   ]
  },
  {
   "cell_type": "markdown",
   "metadata": {},
   "source": [
    "Convert SCHOOLDISTRICTNUMBER from a categorial variable into a numeric vector"
   ]
  },
  {
   "cell_type": "code",
   "execution_count": 96,
   "metadata": {},
   "outputs": [
    {
     "name": "stdout",
     "output_type": "stream",
     "text": [
      "+-----------------------------+------------+-------------+\n",
      "|SCHOOLDISTRICTNUMBER         |School_Index|School_Vec   |\n",
      "+-----------------------------+------------+-------------+\n",
      "|834 - Stillwater             |3.0         |(7,[3],[1.0])|\n",
      "|834 - Stillwater             |3.0         |(7,[3],[1.0])|\n",
      "|622 - North St Paul-Maplewood|1.0         |(7,[1],[1.0])|\n",
      "|834 - Stillwater             |3.0         |(7,[3],[1.0])|\n",
      "|622 - North St Paul-Maplewood|1.0         |(7,[1],[1.0])|\n",
      "|834 - Stillwater             |3.0         |(7,[3],[1.0])|\n",
      "|834 - Stillwater             |3.0         |(7,[3],[1.0])|\n",
      "|834 - Stillwater             |3.0         |(7,[3],[1.0])|\n",
      "|834 - Stillwater             |3.0         |(7,[3],[1.0])|\n",
      "|834 - Stillwater             |3.0         |(7,[3],[1.0])|\n",
      "|834 - Stillwater             |3.0         |(7,[3],[1.0])|\n",
      "|834 - Stillwater             |3.0         |(7,[3],[1.0])|\n",
      "|834 - Stillwater             |3.0         |(7,[3],[1.0])|\n",
      "|834 - Stillwater             |3.0         |(7,[3],[1.0])|\n",
      "|834 - Stillwater             |3.0         |(7,[3],[1.0])|\n",
      "|834 - Stillwater             |3.0         |(7,[3],[1.0])|\n",
      "|834 - Stillwater             |3.0         |(7,[3],[1.0])|\n",
      "|834 - Stillwater             |3.0         |(7,[3],[1.0])|\n",
      "|834 - Stillwater             |3.0         |(7,[3],[1.0])|\n",
      "|834 - Stillwater             |3.0         |(7,[3],[1.0])|\n",
      "+-----------------------------+------------+-------------+\n",
      "only showing top 20 rows\n",
      "\n"
     ]
    }
   ],
   "source": [
    "from pyspark.ml.feature import OneHotEncoder, StringIndexer\n",
    "\n",
    "string_indexer = StringIndexer(inputCol=\"SCHOOLDISTRICTNUMBER\", outputCol=\"School_Index\")\n",
    "indexed_df = string_indexer.fit(df).transform(df)\n",
    "\n",
    "encoder = OneHotEncoder(inputCol=\"School_Index\", outputCol=\"School_Vec\")\n",
    "encoded_df = encoder.fit(indexed_df).transform(indexed_df)\n",
    "\n",
    "encoded_df[[\"SCHOOLDISTRICTNUMBER\", \"School_Index\", \"School_Vec\"]].show(truncate=False)"
   ]
  }
 ],
 "metadata": {
  "kernelspec": {
   "display_name": "Python 3",
   "language": "python",
   "name": "python3"
  },
  "language_info": {
   "codemirror_mode": {
    "name": "ipython",
    "version": 3
   },
   "file_extension": ".py",
   "mimetype": "text/x-python",
   "name": "python",
   "nbconvert_exporter": "python",
   "pygments_lexer": "ipython3",
   "version": "3.8.3"
  }
 },
 "nbformat": 4,
 "nbformat_minor": 4
}
