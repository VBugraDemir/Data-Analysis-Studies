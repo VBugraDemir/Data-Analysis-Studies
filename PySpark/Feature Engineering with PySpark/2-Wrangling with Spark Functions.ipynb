{
 "cells": [
  {
   "cell_type": "code",
   "execution_count": 1,
   "metadata": {},
   "outputs": [],
   "source": [
    "import findspark\n",
    "findspark.init()\n",
    "\n",
    "from pyspark import SparkContext\n",
    "sc = SparkContext(\"local\", \"pyspark-shell\")\n",
    "\n",
    "from pyspark.sql import SparkSession\n",
    "spark = SparkSession.builder.getOrCreate()\n",
    "\n",
    "from pyspark.sql.types import StructField, StructType, LongType, StringType, DoubleType\n",
    "a = StructType([StructField(\"NO\",LongType(),True),StructField(\"MLSID\",StringType(),True),StructField(\"STREETNUMBERNUMERIC\",LongType(),True),StructField(\"STREETADDRESS\",StringType(),True),StructField(\"STREETNAME\",StringType(),True),StructField(\"POSTALCODE\",LongType(),True),StructField(\"STATEORPROVINCE\",StringType(),True),StructField(\"CITY\",StringType(),True),StructField(\"SALESCLOSEPRICE\",LongType(),True),StructField(\"LISTDATE\",StringType(),True),StructField(\"LISTPRICE\",LongType(),True),StructField(\"LISTTYPE\",StringType(),True),StructField(\"ORIGINALLISTPRICE\",LongType(),True),StructField(\"PRICEPERTSFT\",DoubleType(),True),StructField(\"FOUNDATIONSIZE\",LongType(),True),StructField(\"FENCE\",StringType(),True),StructField(\"MAPLETTER\",StringType(),True),StructField(\"LOTSIZEDIMENSIONS\",StringType(),True),StructField(\"SCHOOLDISTRICTNUMBER\",StringType(),True),StructField(\"DAYSONMARKET\",LongType(),True),StructField(\"OFFMARKETDATE\",StringType(),True),StructField(\"FIREPLACES\",LongType(),True),StructField(\"ROOMAREA4\",StringType(),True),StructField(\"ROOMTYPE\",StringType(),True),StructField(\"ROOF\",StringType(),True),StructField(\"ROOMFLOOR4\",StringType(),True),StructField(\"POTENTIALSHORTSALE\",StringType(),True),StructField(\"POOLDESCRIPTION\",StringType(),True),StructField(\"PDOM\",LongType(),True),StructField(\"GARAGEDESCRIPTION\",StringType(),True),StructField(\"SQFTABOVEGROUND\",LongType(),True),StructField(\"TAXES\",LongType(),True),StructField(\"ROOMFLOOR1\",StringType(),True),StructField(\"ROOMAREA1\",StringType(),True),StructField(\"TAXWITHASSESSMENTS\",DoubleType(),True),StructField(\"TAXYEAR\",LongType(),True),StructField(\"LIVINGAREA\",LongType(),True),StructField(\"UNITNUMBER\",StringType(),True),StructField(\"YEARBUILT\",LongType(),True),StructField(\"ZONING\",StringType(),True),StructField(\"STYLE\",StringType(),True),StructField(\"ACRES\",DoubleType(),True),StructField(\"COOLINGDESCRIPTION\",StringType(),True),StructField(\"APPLIANCES\",StringType(),True),StructField(\"BACKONMARKETDATE\",DoubleType(),True),StructField(\"ROOMFAMILYCHAR\",StringType(),True),StructField(\"ROOMAREA3\",StringType(),True),StructField(\"EXTERIOR\",StringType(),True),StructField(\"ROOMFLOOR3\",StringType(),True),StructField(\"ROOMFLOOR2\",StringType(),True),StructField(\"ROOMAREA2\",StringType(),True),StructField(\"DININGROOMDESCRIPTION\",StringType(),True),StructField(\"BASEMENT\",StringType(),True),StructField(\"BATHSFULL\",LongType(),True),StructField(\"BATHSHALF\",LongType(),True),StructField(\"BATHQUARTER\",LongType(),True),StructField(\"BATHSTHREEQUARTER\",DoubleType(),True),StructField(\"CLASS\",StringType(),True),StructField(\"BATHSTOTAL\",LongType(),True),StructField(\"BATHDESC\",StringType(),True),StructField(\"ROOMAREA5\",StringType(),True),StructField(\"ROOMFLOOR5\",StringType(),True),StructField(\"ROOMAREA6\",StringType(),True),StructField(\"ROOMFLOOR6\",StringType(),True),StructField(\"ROOMAREA7\",StringType(),True),StructField(\"ROOMFLOOR7\",StringType(),True),StructField(\"ROOMAREA8\",StringType(),True),StructField(\"ROOMFLOOR8\",StringType(),True),StructField(\"BEDROOMS\",LongType(),True),StructField(\"SQFTBELOWGROUND\",LongType(),True),StructField(\"ASSUMABLEMORTGAGE\",StringType(),True),StructField(\"ASSOCIATIONFEE\",LongType(),True),StructField(\"ASSESSMENTPENDING\",StringType(),True),StructField(\"ASSESSEDVALUATION\",DoubleType(),True)])\n",
    "df = spark.read.csv(\"Real_Estate.csv\", header=True, schema=a)"
   ]
  },
  {
   "cell_type": "markdown",
   "metadata": {},
   "source": [
    "# Wrangling with Spark Functions"
   ]
  },
  {
   "cell_type": "markdown",
   "metadata": {},
   "source": [
    "Failure to account for bad data can set your analysis up to fail.\n",
    "\n",
    "Dropping the columns requires entering a single column name or passing a list of columns to drop (use * to unpack the list).\n",
    "\n",
    "Where applies the filter to the dataframe. Like creates a True/False condition for the records. ~ is the not condtion.\n",
    "\n",
    "For initial pass at the model, it might be helpful to remove large outliers. One definition of an outlier for near normally distributed data is that occurs more than 3 standard deviations from the mean, only 0.3% of data should be filtered. \n",
    "\n",
    "Dropna drops missing values. How, thresh, subset...\n",
    "\n",
    "dropDuplicates() will drop the first duplicate it finds."
   ]
  },
  {
   "cell_type": "markdown",
   "metadata": {},
   "source": [
    "### Dropping a list of columns"
   ]
  },
  {
   "cell_type": "code",
   "execution_count": 2,
   "metadata": {},
   "outputs": [
    {
     "name": "stdout",
     "output_type": "stream",
     "text": [
      "+-------------------+----------+--------------------+---------------+-----+\n",
      "|STREETNUMBERNUMERIC|FIREPLACES|   LOTSIZEDIMENSIONS|       LISTTYPE|ACRES|\n",
      "+-------------------+----------+--------------------+---------------+-----+\n",
      "|              11511|         0|             279X200|Exclusive Right| 1.28|\n",
      "|              11200|         0|             100x140|Exclusive Right| 0.32|\n",
      "|               8583|         0|             120x296|Exclusive Right|0.822|\n",
      "|               9350|         1|             208X208|Exclusive Right| 0.94|\n",
      "|               2915|         1|             116x200|Exclusive Right|  0.0|\n",
      "|               3604|         1|              50x150|Exclusive Right|0.172|\n",
      "|               9957|         0|              common|Exclusive Right| 0.05|\n",
      "|               9934|         0|              common|Exclusive Right| 0.05|\n",
      "|               9926|         0|              common|Exclusive Right| 0.05|\n",
      "|               9928|         0|              common|Exclusive Right| 0.05|\n",
      "|               9902|         0|              common|Exclusive Right| 0.05|\n",
      "|               9904|         0|              common|Exclusive Right| 0.05|\n",
      "|               9894|         0|              common|Exclusive Right| 0.05|\n",
      "|               9892|         0|              COMMON|Exclusive Right| 0.05|\n",
      "|               9295|         1|261 x 293 x 287 x...|Exclusive Right|1.661|\n",
      "|               9930|         0|               36X32|Exclusive Right| 0.05|\n",
      "|               9898|         0|               36X32|Exclusive Right| 0.05|\n",
      "|               9924|         0|              COMMON|Exclusive Right| 0.05|\n",
      "|               9906|         0|              COMMON|Exclusive Right| 0.05|\n",
      "|               9938|         0|              COMMON|Exclusive Right| 0.05|\n",
      "|               9795|         1|               32X60|Exclusive Right| 0.04|\n",
      "|               9797|         1|               32X60|Exclusive Right| 0.04|\n",
      "|               8909|         2|             125x150|Exclusive Right| 0.43|\n",
      "|               3597|         2|             100x250|Exclusive Right|0.574|\n",
      "|               8656|         1|     151x158x130x151|Exclusive Right|0.498|\n",
      "|               9775|         1|               36X32|Exclusive Right| 0.04|\n",
      "|               8687|         2|                   -|Exclusive Right| 1.03|\n",
      "|               8367|         0|             285x305|Exclusive Right|1.995|\n",
      "|               2866|         0|           Irregular|Exclusive Right| 0.72|\n",
      "|               9793|         1|               42x60|Exclusive Right| 0.06|\n",
      "+-------------------+----------+--------------------+---------------+-----+\n",
      "only showing top 30 rows\n",
      "\n"
     ]
    }
   ],
   "source": [
    "df.select(\"STREETNUMBERNUMERIC\", \"FIREPLACES\",\"LOTSIZEDIMENSIONS\",\"LISTTYPE\",\"ACRES\").show(30)\n",
    "\n",
    "cols_to_drop = [\"STREETNUMBERNUMERIC\", \"LOTSIZEDIMENSIONS\"]\n",
    "\n",
    "df_drop = df.drop(*cols_to_drop)"
   ]
  },
  {
   "cell_type": "markdown",
   "metadata": {},
   "source": [
    "### Using text filters to remove records\n"
   ]
  },
  {
   "cell_type": "markdown",
   "metadata": {},
   "source": [
    "isin() is similar to like() but allows us to pass a list of values to use as a filter rather than a single one."
   ]
  },
  {
   "cell_type": "code",
   "execution_count": 3,
   "metadata": {},
   "outputs": [
    {
     "name": "stdout",
     "output_type": "stream",
     "text": [
      "+-------------------+\n",
      "|  ASSUMABLEMORTGAGE|\n",
      "+-------------------+\n",
      "|  Yes w/ Qualifying|\n",
      "| Information Coming|\n",
      "|               null|\n",
      "|Yes w/No Qualifying|\n",
      "|      Not Assumable|\n",
      "+-------------------+\n",
      "\n",
      "+------------------+\n",
      "| ASSUMABLEMORTGAGE|\n",
      "+------------------+\n",
      "|Information Coming|\n",
      "|              null|\n",
      "|     Not Assumable|\n",
      "+------------------+\n",
      "\n",
      "4976\n"
     ]
    }
   ],
   "source": [
    "df_drop.select(\"ASSUMABLEMORTGAGE\").distinct().show()\n",
    "\n",
    "yes_values = [\"Yes w/ Qualifying\", \"Yes w/No Qualifying\"]\n",
    "\n",
    "text_filter = ~df[\"ASSUMABLEMORTGAGE\"].isin(yes_values) | df[\"ASSUMABLEMORTGAGE\"].isNull()\n",
    "\n",
    "df_drop = df_drop.filter(text_filter)\n",
    "df_drop.select(\"ASSUMABLEMORTGAGE\").distinct().show()\n",
    "print(df_drop.count())"
   ]
  },
  {
   "cell_type": "markdown",
   "metadata": {},
   "source": [
    "### Filtering numeric fields conditionally\n"
   ]
  },
  {
   "cell_type": "markdown",
   "metadata": {},
   "source": [
    "Exclude any outlier homes that have sold for significantly more or less than the average. Here we will calculate the mean and standard deviation and use them to filer the near normal field log_SalesClosePrice."
   ]
  },
  {
   "cell_type": "code",
   "execution_count": 4,
   "metadata": {},
   "outputs": [],
   "source": [
    "from pyspark.sql.functions import mean, stddev, log\n",
    "\n",
    "df_drop = df_drop.withColumn(\"log_SalesClosePrice\", log(\"SALESCLOSEPRICE\"))\n",
    "\n",
    "mean_val = df_drop.agg({\"log_SalesClosePrice\": \"mean\"}).collect()[0][0]\n",
    "stddev_val = df_drop.agg({\"log_SalesClosePrice\": \"stddev\"}).collect()[0][0]\n",
    "\n",
    "low_bound = mean_val - (3 * stddev_val)\n",
    "hi_bound = mean_val + (3 * stddev_val)\n",
    "\n",
    "df_drop = df_drop.where((df_drop[\"log_SalesClosePrice\"] < hi_bound) & (df_drop[\"log_SalesClosePrice\"] > low_bound))"
   ]
  },
  {
   "cell_type": "markdown",
   "metadata": {},
   "source": [
    "## Adjusting Data"
   ]
  },
  {
   "cell_type": "markdown",
   "metadata": {},
   "source": [
    "Real data is ugly and rarely comes ready to be analyzed. Many algorithms and statistical methods have assumptions that a variable conforms to. Mathematical operations can be used to adjust the data. \n",
    "\n",
    "One common transformation is scaling. For many algorithms like KNN or regression you need to ensure all your variables are on the same scale. One variable can't be from -1000 to 5000 and another between 0.01 and 0.02. Algorithms will try to reduce the errors in the first variable much more than the second. This can be avoided by scaling each feature between 0 and 1 and this is called **MinMax Scaling**. It doesn't change the shape of the distribution only its range.\n",
    "\n",
    "To Minmax scale, take the variable subtract the minimum value and divide by the difference between the max and min.\n",
    "\n",
    "Another common restriction is that the data must closely follow the **standard normal distribution**. Standardization or z-transforming is the process of shifting and scaling your data to better resemble a standard normal distribution which has **mean of 0** and **standard deviation 1**.\n",
    "\n",
    "To z transform our data, we calculate the aggregate functions mean and std deviation, take the variable subtract the mean value and divide by the std deviation. After these calculations the column would have approximate mean 0 and std deviation of 1.\n",
    "\n",
    "**Apply log transformation on the data to treat skewed data so data look more like a normal distribution.**"
   ]
  },
  {
   "cell_type": "markdown",
   "metadata": {},
   "source": [
    "### Custom Percentage Scaling"
   ]
  },
  {
   "cell_type": "code",
   "execution_count": 2,
   "metadata": {},
   "outputs": [
    {
     "name": "stdout",
     "output_type": "stream",
     "text": [
      "[Row(max(percentagescaleddays)=100.0)]\n",
      "[Row(min(percentagescaleddays)=0.0)]\n"
     ]
    }
   ],
   "source": [
    "from pyspark.sql.functions import round\n",
    "\n",
    "max_days = df.agg({\"DAYSONMARKET\": \"max\"}).collect()[0][0]\n",
    "min_days = df.agg({\"DAYSONMARKET\": \"min\"}).collect()[0][0]\n",
    "\n",
    "df_scaled = df.withColumn(\"percentagescaleddays\", round((df[\"DAYSONMARKET\"] - min_days) / (max_days - min_days))*100)\n",
    "print(df_scaled.agg({\"percentagescaleddays\": \"max\"}).collect())\n",
    "print(df_scaled.agg({\"percentagescaleddays\": \"min\"}).collect())\n"
   ]
  },
  {
   "cell_type": "markdown",
   "metadata": {},
   "source": [
    "### Scaling your scalers"
   ]
  },
  {
   "cell_type": "code",
   "execution_count": 6,
   "metadata": {},
   "outputs": [
    {
     "name": "stdout",
     "output_type": "stream",
     "text": [
      "+------------+--------------------+\n",
      "|DAYSONMARKET| scaled_DAYSONMARKET|\n",
      "+------------+--------------------+\n",
      "|          10|0.044444444444444446|\n",
      "|           4|0.017777777777777778|\n",
      "|          28| 0.12444444444444444|\n",
      "|          19| 0.08444444444444445|\n",
      "|          21| 0.09333333333333334|\n",
      "|          17| 0.07555555555555556|\n",
      "|          32| 0.14222222222222222|\n",
      "|           5|0.022222222222222223|\n",
      "|          23| 0.10222222222222223|\n",
      "|          73|  0.3244444444444444|\n",
      "|          80| 0.35555555555555557|\n",
      "|          79|  0.3511111111111111|\n",
      "|          12| 0.05333333333333334|\n",
      "|           1|0.004444444444444...|\n",
      "|          18|                0.08|\n",
      "|           2|0.008888888888888889|\n",
      "|          12| 0.05333333333333334|\n",
      "|          45|                 0.2|\n",
      "|          31| 0.13777777777777778|\n",
      "|          16| 0.07111111111111111|\n",
      "+------------+--------------------+\n",
      "only showing top 20 rows\n",
      "\n"
     ]
    }
   ],
   "source": [
    "def min_max_scaler(df, cols_to_scale):\n",
    "    for col in cols_to_scale:\n",
    "        max_days = df.agg({col:\"max\"}).collect()[0][0]\n",
    "        min_days = df.agg({col:\"min\"}).collect()[0][0]\n",
    "        new_column_name = \"scaled_\" + col\n",
    "        df = df.withColumn(new_column_name, (df[col] - min_days) / (max_days - min_days))\n",
    "    return df\n",
    "\n",
    "cols_to_scale = ['FOUNDATIONSIZE', 'DAYSONMARKET', 'FIREPLACES']\n",
    "\n",
    "df = min_max_scaler(df, cols_to_scale)\n",
    "\n",
    "df[\"DAYSONMARKET\", \"scaled_DAYSONMARKET\"].show()"
   ]
  },
  {
   "cell_type": "markdown",
   "metadata": {},
   "source": [
    "### Correcting Right Skew Data\n"
   ]
  },
  {
   "cell_type": "markdown",
   "metadata": {},
   "source": [
    "Use log transforms to fix positively skewed data (data whose distribution is mostly to the left). To correct negative skew (data mostly to the right) you need to take an extra step called \"reflecting\" before you can apply the inverse of **log**, written as (1/log) to make the data look more like normal a normal distribution. Reflecting data uses the following formula to reflect each value: (x_max +1)-x."
   ]
  },
  {
   "cell_type": "code",
   "execution_count": 7,
   "metadata": {},
   "outputs": [
    {
     "data": {
      "image/png": "[encoded data removed]",
      "text/plain": [
       "<Figure size 432x288 with 1 Axes>"
      ]
     },
     "metadata": {
      "needs_background": "light"
     },
     "output_type": "display_data"
    },
    {
     "name": "stdout",
     "output_type": "stream",
     "text": [
      "[Row(skewness(YEARBUILT)=-0.2455425013492729)]\n",
      "+---------+-----------------+\n",
      "|YEARBUILT|Reflect_YearBuilt|\n",
      "+---------+-----------------+\n",
      "|     1950|               69|\n",
      "|     1971|               48|\n",
      "|     1949|               70|\n",
      "|     1960|               59|\n",
      "|     1978|               41|\n",
      "|     1965|               54|\n",
      "|     2015|                4|\n",
      "|     2017|                2|\n",
      "|     2017|                2|\n",
      "|     2017|                2|\n",
      "|     2017|                2|\n",
      "|     2017|                2|\n",
      "|     2017|                2|\n",
      "|     2016|                3|\n",
      "|     1977|               42|\n",
      "|     2017|                2|\n",
      "|     2017|                2|\n",
      "|     2017|                2|\n",
      "|     2017|                2|\n",
      "|     2017|                2|\n",
      "+---------+-----------------+\n",
      "only showing top 20 rows\n",
      "\n",
      "+---------+-----------------+-------------------+\n",
      "|YEARBUILT|Reflect_YearBuilt|      adj_yearbuilt|\n",
      "+---------+-----------------+-------------------+\n",
      "|     1950|               69|0.23617733727628992|\n",
      "|     1971|               48| 0.2583177668073288|\n",
      "|     1949|               70|0.23537745555238682|\n",
      "|     1960|               59| 0.2452460618098304|\n",
      "|     1978|               41|  0.269282508064391|\n",
      "|     1965|               54| 0.2506903984389969|\n",
      "|     2015|                4| 0.7213475204444817|\n",
      "|     2017|                2| 1.4426950408889634|\n",
      "|     2017|                2| 1.4426950408889634|\n",
      "|     2017|                2| 1.4426950408889634|\n",
      "|     2017|                2| 1.4426950408889634|\n",
      "|     2017|                2| 1.4426950408889634|\n",
      "|     2017|                2| 1.4426950408889634|\n",
      "|     2016|                3| 0.9102392266268375|\n",
      "|     1977|               42|  0.267546386419054|\n",
      "|     2017|                2| 1.4426950408889634|\n",
      "|     2017|                2| 1.4426950408889634|\n",
      "|     2017|                2| 1.4426950408889634|\n",
      "|     2017|                2| 1.4426950408889634|\n",
      "|     2017|                2| 1.4426950408889634|\n",
      "+---------+-----------------+-------------------+\n",
      "only showing top 20 rows\n",
      "\n"
     ]
    },
    {
     "data": {
      "image/png": "[encoded data removed]",
      "text/plain": [
       "<Figure size 432x288 with 1 Axes>"
      ]
     },
     "metadata": {
      "needs_background": "light"
     },
     "output_type": "display_data"
    }
   ],
   "source": [
    "import matplotlib.pyplot as plt\n",
    "import seaborn as sns\n",
    "\n",
    "sample_df = df.select(\"YEARBUILT\").sample(False, 0.5, 42)\n",
    "pandas_df = sample_df.toPandas()\n",
    "\n",
    "sns.distplot(pandas_df)\n",
    "plt.show()\n",
    "\n",
    "from pyspark.sql.functions import skewness\n",
    "print(df.agg({\"YEARBUILT\": \"skewness\"}).collect())\n",
    "\n",
    "max_year = df.agg({\"YEARBUILT\": \"max\"}).collect()[0][0]\n",
    "df_reflect = df.withColumn(\"Reflect_YearBuilt\", (max_year + 1) - df[\"YEARBUILT\"])\n",
    "\n",
    "df_reflect.select(\"YEARBUILT\", \"Reflect_YearBuilt\").show()\n",
    "\n",
    "df_reflect = df_reflect.withColumn(\"adj_yearbuilt\", 1 / log(df_reflect[\"Reflect_YearBuilt\"]))\n",
    "\n",
    "df_reflect.select(\"YEARBUILT\", \"Reflect_YearBuilt\", \"adj_yearbuilt\").show()\n",
    "\n",
    "sample_df = df_reflect.select(\"adj_yearbuilt\").sample(False, 0.5, 42)\n",
    "pandas_df = sample_df.toPandas()\n",
    "sns.distplot(pandas_df)\n",
    "plt.show()\n"
   ]
  },
  {
   "cell_type": "markdown",
   "metadata": {},
   "source": [
    "## Working with Missing Data"
   ]
  },
  {
   "cell_type": "markdown",
   "metadata": {},
   "source": [
    "Understanding why your data is missing is important. If data has a few missing values and they are missing completely at random it may be fine to removo the rows. You can use isNull() and count the missing values. Also you can use heatmap function to visualize missing values. \n",
    "\n",
    "Another way to handle them is to replace them. Use logic to replace with 0, mean or median. Replacing values shouldn't be done without some serious considerations.\n",
    "\n",
    "To replace missing values use PySpark's fillna."
   ]
  },
  {
   "cell_type": "markdown",
   "metadata": {},
   "source": [
    "### Visualizing Missing Data"
   ]
  },
  {
   "cell_type": "code",
   "execution_count": 8,
   "metadata": {},
   "outputs": [
    {
     "data": {
      "image/png": "[encoded data removed]",
      "text/plain": [
       "<Figure size 432x288 with 2 Axes>"
      ]
     },
     "metadata": {
      "needs_background": "light"
     },
     "output_type": "display_data"
    }
   ],
   "source": [
    "columns = ['APPLIANCES',\n",
    " 'BACKONMARKETDATE',\n",
    " 'ROOMFAMILYCHAR',\n",
    " 'BASEMENT',\n",
    " 'DININGROOMDESCRIPTION']\n",
    "\n",
    "df_sample = df.select(columns).sample(False, 0.1, 42)\n",
    "sample_df = df_sample.toPandas()\n",
    "tf_df = sample_df.isnull()\n",
    "\n",
    "sns.heatmap(data=tf_df)\n",
    "plt.show()\n"
   ]
  },
  {
   "cell_type": "markdown",
   "metadata": {},
   "source": [
    "### Imputing Missing Data"
   ]
  },
  {
   "cell_type": "code",
   "execution_count": 9,
   "metadata": {},
   "outputs": [
    {
     "name": "stdout",
     "output_type": "stream",
     "text": [
      "9\n",
      "0\n"
     ]
    }
   ],
   "source": [
    "from pyspark.sql.functions import when, col\n",
    "from pyspark.sql.types import NullType\n",
    "\n",
    "df_miss = df.withColumn(\"PDOM\",\n",
    "    when(col(\"NO\") == 26,\n",
    "        None\n",
    "    ).when(col(\"NO\") == 27,\n",
    "        None\n",
    "    ).when(col(\"NO\") == 28,\n",
    "        None\n",
    "    ).when(col(\"NO\") == 29,\n",
    "        None\n",
    "    ).when(col(\"NO\") == 30,\n",
    "        None\n",
    "    ).when(col(\"NO\") == 31,\n",
    "        None\n",
    "    ).when(col(\"NO\") == 32,\n",
    "        None\n",
    "    ).when(col(\"NO\") == 33,\n",
    "        None\n",
    "    ).when(col(\"NO\") == 34,\n",
    "        None\n",
    "    ).otherwise(col(\"PDOM\")))\n",
    "\n",
    "missing = df_miss.where(df_miss[\"PDOM\"].isNull()).count()\n",
    "print(missing)\n",
    "col_mean = df_miss.agg({\"PDOM\": \"mean\"}).collect()[0][0]\n",
    "df_miss = df_miss.fillna(col_mean, subset=[\"PDOM\"])\n",
    "missing = df_miss.where(df_miss[\"PDOM\"].isNull()).count()\n",
    "print(missing)"
   ]
  },
  {
   "cell_type": "markdown",
   "metadata": {},
   "source": [
    "### Calculate Missing Percents"
   ]
  },
  {
   "cell_type": "code",
   "execution_count": 10,
   "metadata": {},
   "outputs": [
    {
     "name": "stdout",
     "output_type": "stream",
     "text": [
      "77\n",
      "POOLDESCRIPTION\n",
      "UNITNUMBER\n",
      "BACKONMARKETDATE\n",
      "ROOMAREA8\n",
      "ROOMFLOOR8\n",
      "ASSUMABLEMORTGAGE\n",
      "71\n"
     ]
    }
   ],
   "source": [
    "def column_dropper(df, threshold):\n",
    "    total_records = df.count()\n",
    "    for col in df.columns:\n",
    "        missing = df.where(df[col].isNull()).count()\n",
    "        missing_percent = missing / total_records\n",
    "        if missing_percent > threshold:\n",
    "            print(col)\n",
    "            df = df.drop(col)\n",
    "    return df\n",
    "\n",
    "print(len(df.columns))\n",
    "\n",
    "df = column_dropper(df, 0.6)\n",
    "\n",
    "print(len(df.columns))"
   ]
  },
  {
   "cell_type": "markdown",
   "metadata": {},
   "source": [
    "### Getting More Data"
   ]
  },
  {
   "cell_type": "markdown",
   "metadata": {},
   "source": [
    "Adding external data may add excellent predictors for a model but adding too many features may impact the performance of the model. External data can be a great way to replace missing or aggregated values with a better feature but it is easy to induce data leakage.\n",
    "\n",
    "There are many ways to join data together. The most commonly the inner or left joins depending on your goals. \n",
    "\n",
    "With SparkSQL you can apply SQL statements directly to dataframes and join tables."
   ]
  },
  {
   "cell_type": "markdown",
   "metadata": {},
   "source": [
    "### A Dangerous Join\n"
   ]
  },
  {
   "cell_type": "markdown",
   "metadata": {},
   "source": [
    "Original data had no latitude and longitude columns these are added. Also, walk_df was not provided. So, a csv file was created for that and datatypes were handled."
   ]
  },
  {
   "cell_type": "code",
   "execution_count": 3,
   "metadata": {},
   "outputs": [
    {
     "name": "stdout",
     "output_type": "stream",
     "text": [
      "+--------+---------+---------+---------+------------+\n",
      "|latitude|longitude|walkscore|bikescore|transitscore|\n",
      "+--------+---------+---------+---------+------------+\n",
      "|44.92635|-93.18928|       61|       72|        None|\n",
      "| 44.9581|-93.17982|       74|       83|        None|\n",
      "|44.93788|-93.12767|       84|       73|        None|\n",
      "|44.93071|-93.09431|       48|       60|        None|\n",
      "|44.97547| -93.0679|       83|       53|        None|\n",
      "|44.98683|-93.03703|       37|       48|        None|\n",
      "|44.97599| -93.0087|        6|       48|        None|\n",
      "|45.02617|-92.97972|       30|     null|        None|\n",
      "|44.89481|-92.93888|        4|     null|        None|\n",
      "|44.90495|-92.91649|        3|     null|        None|\n",
      "|44.87344|-92.91489|        0|     null|        None|\n",
      "|44.98808|-93.14601|       63|       66|        None|\n",
      "|44.97113| -93.1278|       50|       69|        None|\n",
      "|44.94951|-93.12778|       81|       63|        None|\n",
      "|44.92445|-93.09533|       53|       40|        None|\n",
      "|44.93154|-93.09249|       54|       56|        None|\n",
      "| 44.9294|-93.08834|       66|       41|        None|\n",
      "|44.95413|-93.05891|       56|       55|        None|\n",
      "|45.01304|-93.03868|       24|     null|        None|\n",
      "|44.98997|-93.02857|       70|       58|        None|\n",
      "+--------+---------+---------+---------+------------+\n",
      "only showing top 20 rows\n",
      "\n",
      "[('latitude', 'double'), ('longitude', 'double'), ('walkscore', 'int'), ('bikescore', 'int'), ('transitscore', 'string')]\n",
      "4243\n"
     ]
    }
   ],
   "source": [
    "from pyspark.sql.functions import when, col\n",
    "\n",
    "walk_df = spark.read.csv(\"walk.csv\", header=True)\n",
    "walk_df = walk_df.withColumn(\"bikescore\", when(walk_df.bikescore == \"NaN\", None).otherwise(col(\"bikescore\")))\n",
    "walk_df = walk_df.withColumn(\"transitscore\", when(walk_df.transitscore == \"NaN\", None).otherwise(col(\"transitscore\")))\n",
    "\n",
    "walk_df = walk_df.withColumn(\"bikescore\", walk_df.bikescore.cast(\"int\"))\n",
    "walk_df = walk_df.withColumn(\"walkscore\", walk_df.walkscore.cast(\"int\"))\n",
    "walk_df = walk_df.withColumn(\"longitude\", walk_df.longitude.cast(\"double\"))\n",
    "walk_df = walk_df.withColumn(\"latitude\", walk_df.latitude.cast(\"double\"))\n",
    "walk_df.show()\n",
    "\n",
    "print(walk_df.dtypes)\n",
    "print(walk_df.count())"
   ]
  },
  {
   "cell_type": "code",
   "execution_count": 35,
   "metadata": {},
   "outputs": [],
   "source": [
    "from pyspark.sql.functions import monotonically_increasing_id\n",
    "ll = spark.read.csv(\"latitude_longitude.csv\", header = True)\n",
    "ll = ll.withColumn(\"NO\",monotonically_increasing_id()+1)\n",
    "df_ll = df.join(ll, on=\"NO\")\n",
    "df_ll = df_ll.withColumn(\"latitude\", df_ll.latitude.cast(\"double\"))\n",
    "df_ll = df_ll.withColumn(\"longitude\", df_ll.longitude.cast(\"double\"))\n",
    "df_ll = df_ll.withColumn(\"latitude\", round(df_ll.latitude,5))\n",
    "df_ll = df_ll.withColumn(\"longitude\", round(df_ll.longitude,5))"
   ]
  },
  {
   "cell_type": "code",
   "execution_count": 18,
   "metadata": {},
   "outputs": [
    {
     "name": "stdout",
     "output_type": "stream",
     "text": [
      "4448\n"
     ]
    }
   ],
   "source": [
    "condition =  [walk_df[\"longitude\"] == df_ll[\"longitude\"], walk_df[\"latitude\"] == df_ll[\"latitude\"]]\n",
    "join_df = df_ll.join(walk_df, on = condition, how=\"left\")\n",
    "print(join_df.where(~join_df[\"walkscore\"].isNull()).count())"
   ]
  },
  {
   "cell_type": "markdown",
   "metadata": {},
   "source": [
    "### Spark SQL Join\n"
   ]
  },
  {
   "cell_type": "code",
   "execution_count": 22,
   "metadata": {},
   "outputs": [],
   "source": [
    "df_ll.createOrReplaceTempView(\"df\")\n",
    "walk_df.createOrReplaceTempView(\"walk_df\")\n",
    "\n",
    "join_sql = \"\"\"SELECT *\n",
    "              FROM df\n",
    "              LEFT JOIN walk_df\n",
    "              ON df.longitude = walk_df.longitude AND df.latitude = walk_df.latitude\"\"\"\n",
    "joined_df = spark.sql(join_sql)"
   ]
  },
  {
   "cell_type": "code",
   "execution_count": 23,
   "metadata": {},
   "outputs": [
    {
     "name": "stdout",
     "output_type": "stream",
     "text": [
      "4448\n"
     ]
    }
   ],
   "source": [
    "print(joined_df.where(~joined_df[\"walkscore\"].isNull()).count())"
   ]
  },
  {
   "cell_type": "markdown",
   "metadata": {},
   "source": [
    "### Checking for Bad Joins\n"
   ]
  },
  {
   "cell_type": "code",
   "execution_count": 37,
   "metadata": {},
   "outputs": [],
   "source": [
    "from pyspark.sql.functions import monotonically_increasing_id\n",
    "ll = spark.read.csv(\"latitude_longitude.csv\", header = True)\n",
    "ll = ll.withColumn(\"NO\",monotonically_increasing_id()+1)\n",
    "df_orig = df.join(ll, on=\"NO\")\n",
    "df_orig = df_orig.withColumn(\"latitude\", df_orig.latitude.cast(\"double\"))\n",
    "df_orig = df_orig.withColumn(\"longitude\", df_orig.longitude.cast(\"double\"))"
   ]
  },
  {
   "cell_type": "code",
   "execution_count": 46,
   "metadata": {},
   "outputs": [
    {
     "name": "stdout",
     "output_type": "stream",
     "text": [
      "4958\n",
      "552\n",
      "Record Count of the Too Few Keys Join Example: 6104\n",
      "Record Count of the Correct Join Example: 5000\n"
     ]
    }
   ],
   "source": [
    "wrong_prec_cond = [walk_df[\"longitude\"] == df_orig[\"longitude\"],walk_df[\"latitude\"] == df_orig[\"latitude\"]]\n",
    "wrong_prec_df = df_orig.join(walk_df, on=wrong_prec_cond, how=\"left\")\n",
    "\n",
    "print(wrong_prec_df.where(wrong_prec_df[\"walkscore\"].isNull()).count())\n",
    "print(joined_df.where(joined_df[\"walkscore\"].isNull()).count())\n",
    "\n",
    "few_keys_cond = [walk_df[\"longitude\"] == df_ll[\"longitude\"]]\n",
    "few_keys_df = df_ll.join(walk_df, on=few_keys_cond, how=\"left\")\n",
    "\n",
    "print(\"Record Count of the Too Few Keys Join Example: \" + str(few_keys_df.count()))\n",
    "print(\"Record Count of the Correct Join Example: \" + str(joined_df.count()))"
   ]
  }
 ],
 "metadata": {
  "kernelspec": {
   "display_name": "Python 3",
   "language": "python",
   "name": "python3"
  },
  "language_info": {
   "codemirror_mode": {
    "name": "ipython",
    "version": 3
   },
   "file_extension": ".py",
   "mimetype": "text/x-python",
   "name": "python",
   "nbconvert_exporter": "python",
   "pygments_lexer": "ipython3",
   "version": "3.8.3"
  }
 },
 "nbformat": 4,
 "nbformat_minor": 4
}
