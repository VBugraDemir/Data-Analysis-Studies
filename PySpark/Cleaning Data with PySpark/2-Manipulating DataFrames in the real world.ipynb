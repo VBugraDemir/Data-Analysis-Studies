{
 "cells": [
  {
   "cell_type": "markdown",
   "metadata": {},
   "source": [
    "# Manipulating DataFrames in the real world\n"
   ]
  },
  {
   "cell_type": "code",
   "execution_count": 1,
   "metadata": {},
   "outputs": [],
   "source": [
    "import findspark\n",
    "findspark.init()\n",
    "\n",
    "from pyspark import SparkContext\n",
    "sc = SparkContext(\"local\", \"pyspark-shell\")\n",
    "\n",
    "from pyspark.sql import SparkSession\n",
    "spark = SparkSession.builder.getOrCreate()"
   ]
  },
  {
   "cell_type": "markdown",
   "metadata": {},
   "source": [
    "## DataFrame column operations"
   ]
  },
  {
   "cell_type": "markdown",
   "metadata": {},
   "source": [
    "Dataframes are modified through the use of transformations.\n",
    "\n",
    "voter_df.filter(voter_df.name.like(\"M%\")) Returns rows where name starts with \"M\"\n",
    "\n",
    "filter() is analogous to the WHERE calause in SQL. Spark includes a where which can be used instead of filter.\n",
    "\n",
    "Select() returns the columns requested from the DataFrame.\n",
    "\n",
    "withColumn method creates a new column in the DataFrame.\n",
    "\n",
    "drop() method to remove a column from a DataFrame.\n",
    "\n",
    "Filtering lets us use only the data matching our desired result. We can remove null values, remove odd entries, split a dataframe containing combined data. You can negate results using ~ character.\n",
    "\n",
    "To convert data type use the cast() function in the withColumn method to perform the conversion to an IntegerType().\n",
    "\n",
    "ArrayType() columns are analogous to lists in python. You can use .size() to return length of arrayType() column, .getItem(index) to retrieve a specific item at index."
   ]
  },
  {
   "cell_type": "markdown",
   "metadata": {},
   "source": [
    "### Filtering column content with Python"
   ]
  },
  {
   "cell_type": "code",
   "execution_count": 61,
   "metadata": {},
   "outputs": [
    {
     "name": "stdout",
     "output_type": "stream",
     "text": [
      "+-------------------------------------------------------------------------------------------------------------------------------------------------------------------------------------------------------------------------------------------------------------------------------------------------------------------------------------------------------------------------------------------------------------+\n",
      "|VOTER_NAME                                                                                                                                                                                                                                                                                                                                                                                                   |\n",
      "+-------------------------------------------------------------------------------------------------------------------------------------------------------------------------------------------------------------------------------------------------------------------------------------------------------------------------------------------------------------------------------------------------------------+\n",
      "|Tennell Atkins                                                                                                                                                                                                                                                                                                                                                                                               |\n",
      "|  the  final   2018 Assessment Plan and the 2018 Assessment  Roll  (to  be  kept  on  file  with  the  City  Secretary);  establishing  classifications  for   the   apportionment   of   costs and the methods of assessing special assessments for the services and improvements to property in the District;  closing  the  hearing  and  levying  a  special  assessment  on  property  in  the  District|\n",
      "|Scott Griggs                                                                                                                                                                                                                                                                                                                                                                                                 |\n",
      "|Scott  Griggs                                                                                                                                                                                                                                                                                                                                                                                                |\n",
      "|Sandy Greyson                                                                                                                                                                                                                                                                                                                                                                                                |\n",
      "+-------------------------------------------------------------------------------------------------------------------------------------------------------------------------------------------------------------------------------------------------------------------------------------------------------------------------------------------------------------------------------------------------------------+\n",
      "only showing top 5 rows\n",
      "\n",
      "None\n",
      "+-------------------+\n",
      "|VOTER_NAME         |\n",
      "+-------------------+\n",
      "|Tennell Atkins     |\n",
      "|Scott Griggs       |\n",
      "|Scott  Griggs      |\n",
      "|Sandy Greyson      |\n",
      "|Michael S. Rawlings|\n",
      "|Kevin Felder       |\n",
      "|Adam Medrano       |\n",
      "|Casey  Thomas      |\n",
      "|Mark  Clayton      |\n",
      "|Casey Thomas       |\n",
      "|Sandy  Greyson     |\n",
      "|Mark Clayton       |\n",
      "|Jennifer S.  Gates |\n",
      "|Tiffinni A. Young  |\n",
      "|B. Adam  McGough   |\n",
      "|Omar Narvaez       |\n",
      "|Philip T. Kingston |\n",
      "|Rickey D. Callahan |\n",
      "|Dwaine R. Caraway  |\n",
      "|Philip T.  Kingston|\n",
      "|Jennifer S. Gates  |\n",
      "|Lee M. Kleinman    |\n",
      "|Monica R. Alonzo   |\n",
      "|Rickey D.  Callahan|\n",
      "|Carolyn King Arnold|\n",
      "|Erik Wilson        |\n",
      "|Lee Kleinman       |\n",
      "+-------------------+\n",
      "\n"
     ]
    }
   ],
   "source": [
    "import pyspark.sql.functions as F\n",
    "\n",
    "voter_df = spark.read.csv(\"DallasCouncilVoters.csv\", header = True)\n",
    "print(voter_df.select(\"VOTER_NAME\").distinct().show(5, truncate=False))\n",
    "\n",
    "voter_df = voter_df.filter(\"length(VOTER_NAME) > 0 and length(VOTER_NAME) < 20\")\n",
    "voter_df = voter_df.filter(~F.col(\"VOTER_NAME\").contains(\"_\")) # or ~voter_df.VOTER_NAME.contains(\"_\")\n",
    "voter_df.select(\"VOTER_NAME\").distinct().show(40, truncate=False)"
   ]
  },
  {
   "cell_type": "markdown",
   "metadata": {},
   "source": [
    "### Modifying DataFrame columns"
   ]
  },
  {
   "cell_type": "code",
   "execution_count": 70,
   "metadata": {},
   "outputs": [
    {
     "name": "stdout",
     "output_type": "stream",
     "text": [
      "+----------+-------------+-------------------+----------+---------+\n",
      "|      DATE|        TITLE|         VOTER_NAME|first_name|last_name|\n",
      "+----------+-------------+-------------------+----------+---------+\n",
      "|02/08/2017|Councilmember|  Jennifer S. Gates|  Jennifer|    Gates|\n",
      "|02/08/2017|Councilmember| Philip T. Kingston|    Philip| Kingston|\n",
      "|02/08/2017|        Mayor|Michael S. Rawlings|   Michael| Rawlings|\n",
      "|02/08/2017|Councilmember|       Adam Medrano|      Adam|  Medrano|\n",
      "|02/08/2017|Councilmember|       Casey Thomas|     Casey|   Thomas|\n",
      "|02/08/2017|Councilmember|Carolyn King Arnold|   Carolyn|   Arnold|\n",
      "|02/08/2017|Councilmember|       Scott Griggs|     Scott|   Griggs|\n",
      "|02/08/2017|Councilmember|   B. Adam  McGough|        B.|  McGough|\n",
      "|02/08/2017|Councilmember|       Lee Kleinman|       Lee| Kleinman|\n",
      "|02/08/2017|Councilmember|      Sandy Greyson|     Sandy|  Greyson|\n",
      "|02/08/2017|Councilmember|  Jennifer S. Gates|  Jennifer|    Gates|\n",
      "|02/08/2017|Councilmember| Philip T. Kingston|    Philip| Kingston|\n",
      "|02/08/2017|        Mayor|Michael S. Rawlings|   Michael| Rawlings|\n",
      "|02/08/2017|Councilmember|       Adam Medrano|      Adam|  Medrano|\n",
      "|02/08/2017|Councilmember|       Casey Thomas|     Casey|   Thomas|\n",
      "|02/08/2017|Councilmember|Carolyn King Arnold|   Carolyn|   Arnold|\n",
      "|02/08/2017|Councilmember| Rickey D. Callahan|    Rickey| Callahan|\n",
      "|01/11/2017|Councilmember|  Jennifer S. Gates|  Jennifer|    Gates|\n",
      "|04/25/2018|Councilmember|     Sandy  Greyson|     Sandy|  Greyson|\n",
      "|04/25/2018|Councilmember| Jennifer S.  Gates|  Jennifer|    Gates|\n",
      "+----------+-------------+-------------------+----------+---------+\n",
      "only showing top 20 rows\n",
      "\n"
     ]
    }
   ],
   "source": [
    "voter_df = voter_df.withColumn(\"splits\", F.split(voter_df.VOTER_NAME, \"\\s+\"))\n",
    "voter_df = voter_df.withColumn(\"first_name\", voter_df.splits.getItem(0))\n",
    "voter_df = voter_df.withColumn(\"last_name\", voter_df.splits.getItem(F.size(\"splits\")-1))\n",
    "voter_df = voter_df.drop(\"splits\")\n",
    "voter_df.show()"
   ]
  },
  {
   "cell_type": "markdown",
   "metadata": {},
   "source": [
    "## Conditional DataFrame column operations"
   ]
  },
  {
   "cell_type": "markdown",
   "metadata": {},
   "source": [
    "Using when and otherwise while doing changes. We can actually add an extra argument to select select() method using the when() clause. You can chain multiple when statements together. Otherwise is analogous to the else statement."
   ]
  },
  {
   "cell_type": "markdown",
   "metadata": {},
   "source": [
    "### when() example"
   ]
  },
  {
   "cell_type": "code",
   "execution_count": 73,
   "metadata": {},
   "outputs": [
    {
     "name": "stdout",
     "output_type": "stream",
     "text": [
      "+----------+-------------+-------------------+-------------------+\n",
      "|      DATE|        TITLE|         VOTER_NAME|         random_val|\n",
      "+----------+-------------+-------------------+-------------------+\n",
      "|02/08/2017|Councilmember|  Jennifer S. Gates| 0.6607567044188334|\n",
      "|02/08/2017|Councilmember| Philip T. Kingston|0.24255626131383023|\n",
      "|02/08/2017|        Mayor|Michael S. Rawlings|               null|\n",
      "|02/08/2017|Councilmember|       Adam Medrano|0.39685642401523313|\n",
      "|02/08/2017|Councilmember|       Casey Thomas|  0.701103007433525|\n",
      "|02/08/2017|Councilmember|Carolyn King Arnold|  0.932568022920098|\n",
      "|02/08/2017|Councilmember|       Scott Griggs| 0.5618972722455521|\n",
      "|02/08/2017|Councilmember|   B. Adam  McGough| 0.4391268430174863|\n",
      "|02/08/2017|Councilmember|       Lee Kleinman|0.20606861682352284|\n",
      "|02/08/2017|Councilmember|      Sandy Greyson|0.27350620949942717|\n",
      "|02/08/2017|Councilmember|  Jennifer S. Gates| 0.6611069475539054|\n",
      "|02/08/2017|Councilmember| Philip T. Kingston| 0.9245051629882131|\n",
      "|02/08/2017|        Mayor|Michael S. Rawlings|               null|\n",
      "|02/08/2017|Councilmember|       Adam Medrano| 0.4887790062945503|\n",
      "|02/08/2017|Councilmember|       Casey Thomas| 0.5534465088864056|\n",
      "|02/08/2017|Councilmember|Carolyn King Arnold| 0.5664257393727941|\n",
      "|02/08/2017|Councilmember| Rickey D. Callahan| 0.5858875160003735|\n",
      "|01/11/2017|Councilmember|  Jennifer S. Gates|0.31287140252391366|\n",
      "|04/25/2018|Councilmember|     Sandy  Greyson|0.06614893942131372|\n",
      "|04/25/2018|Councilmember| Jennifer S.  Gates| 0.7461500761492381|\n",
      "+----------+-------------+-------------------+-------------------+\n",
      "only showing top 20 rows\n",
      "\n"
     ]
    }
   ],
   "source": [
    "voter_df = spark.read.csv(\"DallasCouncilVoters.csv\", header = True)\n",
    "\n",
    "voter_df = voter_df.withColumn(\"random_val\", F.when(voter_df.TITLE == \"Councilmember\", F.rand()))\n",
    "voter_df.show()"
   ]
  },
  {
   "cell_type": "markdown",
   "metadata": {},
   "source": [
    "### When / Otherwise\n"
   ]
  },
  {
   "cell_type": "code",
   "execution_count": 75,
   "metadata": {},
   "outputs": [
    {
     "name": "stdout",
     "output_type": "stream",
     "text": [
      "+----------+-------------+-------------------+-------------------+\n",
      "|      DATE|        TITLE|         VOTER_NAME|         random_val|\n",
      "+----------+-------------+-------------------+-------------------+\n",
      "|02/08/2017|Councilmember|  Jennifer S. Gates|0.09477909415548469|\n",
      "|02/08/2017|Councilmember| Philip T. Kingston| 0.9330434703312289|\n",
      "|02/08/2017|        Mayor|Michael S. Rawlings|                2.0|\n",
      "|02/08/2017|Councilmember|       Adam Medrano|  0.617847477143871|\n",
      "|02/08/2017|Councilmember|       Casey Thomas|0.28639496340976445|\n",
      "|02/08/2017|Councilmember|Carolyn King Arnold| 0.5061212467016271|\n",
      "|02/08/2017|Councilmember|       Scott Griggs| 0.8455172813050197|\n",
      "|02/08/2017|Councilmember|   B. Adam  McGough|0.13108658585491573|\n",
      "|02/08/2017|Councilmember|       Lee Kleinman| 0.2797485628763148|\n",
      "|02/08/2017|Councilmember|      Sandy Greyson| 0.1790295223822026|\n",
      "|02/08/2017|Councilmember|  Jennifer S. Gates| 0.4374651278435502|\n",
      "|02/08/2017|Councilmember| Philip T. Kingston| 0.4738650530361962|\n",
      "|02/08/2017|        Mayor|Michael S. Rawlings|                2.0|\n",
      "|02/08/2017|Councilmember|       Adam Medrano| 0.0672508125234258|\n",
      "|02/08/2017|Councilmember|       Casey Thomas|0.39019597899661096|\n",
      "|02/08/2017|Councilmember|Carolyn King Arnold| 0.6642975689242365|\n",
      "|02/08/2017|Councilmember| Rickey D. Callahan| 0.6699777630018703|\n",
      "|01/11/2017|Councilmember|  Jennifer S. Gates| 0.5132563749447692|\n",
      "|04/25/2018|Councilmember|     Sandy  Greyson|0.42947774091734003|\n",
      "|04/25/2018|Councilmember| Jennifer S.  Gates|0.03991631904199422|\n",
      "+----------+-------------+-------------------+-------------------+\n",
      "only showing top 20 rows\n",
      "\n",
      "+----------+--------------------+-----------------+----------+\n",
      "|      DATE|               TITLE|       VOTER_NAME|random_val|\n",
      "+----------+--------------------+-----------------+----------+\n",
      "|04/25/2018|Deputy Mayor Pro Tem|     Adam Medrano|       0.0|\n",
      "|04/25/2018|       Mayor Pro Tem|Dwaine R. Caraway|       0.0|\n",
      "|06/20/2018|Deputy Mayor Pro Tem|     Adam Medrano|       0.0|\n",
      "|06/20/2018|       Mayor Pro Tem|Dwaine R. Caraway|       0.0|\n",
      "|06/20/2018|Deputy Mayor Pro Tem|     Adam Medrano|       0.0|\n",
      "|06/20/2018|       Mayor Pro Tem|Dwaine R. Caraway|       0.0|\n",
      "|08/15/2018|Deputy Mayor Pro Tem|     Adam Medrano|       0.0|\n",
      "|08/15/2018|              Vacant|             null|       0.0|\n",
      "|08/15/2018|Deputy Mayor Pro Tem|     Adam Medrano|       0.0|\n",
      "|08/15/2018|              Vacant|             null|       0.0|\n",
      "|09/18/2018|Deputy Mayor Pro Tem|     Adam Medrano|       0.0|\n",
      "|09/18/2018|       Mayor Pro Tem|    Casey  Thomas|       0.0|\n",
      "|09/18/2018|              Vacant|             null|       0.0|\n",
      "|04/25/2018|Deputy Mayor Pro Tem|     Adam Medrano|       0.0|\n",
      "|04/25/2018|       Mayor Pro Tem|Dwaine R. Caraway|       0.0|\n",
      "|04/11/2018|       Mayor Pro Tem|Dwaine R. Caraway|       0.0|\n",
      "|04/11/2018|Deputy Mayor Pro Tem|     Adam Medrano|       0.0|\n",
      "|04/11/2018|       Mayor Pro Tem|Dwaine R. Caraway|       0.0|\n",
      "|04/11/2018|Deputy Mayor Pro Tem|     Adam Medrano|       0.0|\n",
      "|04/11/2018|       Mayor Pro Tem|Dwaine R. Caraway|       0.0|\n",
      "+----------+--------------------+-----------------+----------+\n",
      "only showing top 20 rows\n",
      "\n"
     ]
    }
   ],
   "source": [
    "voter_df = spark.read.csv(\"DallasCouncilVoters.csv\", header = True)\n",
    "\n",
    "voter_df = voter_df.withColumn(\"random_val\", F.when(voter_df.TITLE == \"Councilmember\", F.rand())\n",
    "                               .when(voter_df.TITLE == \"Mayor\", 2)\n",
    "                               .otherwise(0))\n",
    "voter_df.show()\n",
    "voter_df.filter(voter_df.random_val == 0).show()"
   ]
  },
  {
   "cell_type": "markdown",
   "metadata": {},
   "source": [
    "### User defined functions"
   ]
  },
  {
   "cell_type": "markdown",
   "metadata": {},
   "source": [
    "The name of the method you defined and the Spark data type it will return."
   ]
  },
  {
   "cell_type": "markdown",
   "metadata": {},
   "source": [
    "### Using user defined functions in Spark"
   ]
  },
  {
   "cell_type": "code",
   "execution_count": 99,
   "metadata": {},
   "outputs": [
    {
     "name": "stdout",
     "output_type": "stream",
     "text": [
      "+----------+-------------+-------------------+--------------------+---------------------+\n",
      "|      DATE|        TITLE|         VOTER_NAME|              splits|first_and_middle_name|\n",
      "+----------+-------------+-------------------+--------------------+---------------------+\n",
      "|02/08/2017|Councilmember|  Jennifer S. Gates|[Jennifer, S., Ga...|          Jennifer S.|\n",
      "|02/08/2017|Councilmember| Philip T. Kingston|[Philip, T., King...|            Philip T.|\n",
      "|02/08/2017|        Mayor|Michael S. Rawlings|[Michael, S., Raw...|           Michael S.|\n",
      "|02/08/2017|Councilmember|       Adam Medrano|     [Adam, Medrano]|                 Adam|\n",
      "|02/08/2017|Councilmember|       Casey Thomas|     [Casey, Thomas]|                Casey|\n",
      "|02/08/2017|Councilmember|Carolyn King Arnold|[Carolyn, King, A...|         Carolyn King|\n",
      "|02/08/2017|Councilmember|       Scott Griggs|     [Scott, Griggs]|                Scott|\n",
      "|02/08/2017|Councilmember|   B. Adam  McGough| [B., Adam, McGough]|              B. Adam|\n",
      "|02/08/2017|Councilmember|       Lee Kleinman|     [Lee, Kleinman]|                  Lee|\n",
      "|02/08/2017|Councilmember|      Sandy Greyson|    [Sandy, Greyson]|                Sandy|\n",
      "|02/08/2017|Councilmember|  Jennifer S. Gates|[Jennifer, S., Ga...|          Jennifer S.|\n",
      "|02/08/2017|Councilmember| Philip T. Kingston|[Philip, T., King...|            Philip T.|\n",
      "|02/08/2017|        Mayor|Michael S. Rawlings|[Michael, S., Raw...|           Michael S.|\n",
      "|02/08/2017|Councilmember|       Adam Medrano|     [Adam, Medrano]|                 Adam|\n",
      "|02/08/2017|Councilmember|       Casey Thomas|     [Casey, Thomas]|                Casey|\n",
      "|02/08/2017|Councilmember|Carolyn King Arnold|[Carolyn, King, A...|         Carolyn King|\n",
      "|02/08/2017|Councilmember| Rickey D. Callahan|[Rickey, D., Call...|            Rickey D.|\n",
      "|01/11/2017|Councilmember|  Jennifer S. Gates|[Jennifer, S., Ga...|          Jennifer S.|\n",
      "|04/25/2018|Councilmember|     Sandy  Greyson|    [Sandy, Greyson]|                Sandy|\n",
      "|04/25/2018|Councilmember| Jennifer S.  Gates|[Jennifer, S., Ga...|          Jennifer S.|\n",
      "+----------+-------------+-------------------+--------------------+---------------------+\n",
      "only showing top 20 rows\n",
      "\n"
     ]
    }
   ],
   "source": [
    "from pyspark.sql.types import StringType\n",
    "def getFirstAndMiddle(names):\n",
    "    return \" \".join(names[:-1])\n",
    "\n",
    "udfFirstAndMiddle = F.udf(getFirstAndMiddle, StringType())\n",
    "\n",
    "voter_df = spark.read.csv(\"DallasCouncilVoters.csv\", header = True)\n",
    "voter_df = voter_df.filter(\"length(VOTER_NAME) > 0 and length(VOTER_NAME) < 20\")\n",
    "voter_df = voter_df.filter(~F.col(\"VOTER_NAME\").contains(\"_\")) # or ~voter_df.VOTER_NAME.contains(\"_\")\n",
    "voter_df = voter_df.withColumn(\"splits\", F.split(voter_df.VOTER_NAME, \"\\s+\"))\n",
    "\n",
    "voter_df = voter_df.withColumn(\"first_and_middle_name\", udfFirstAndMiddle(voter_df.splits))\n",
    "voter_df.show()"
   ]
  },
  {
   "cell_type": "markdown",
   "metadata": {},
   "source": [
    "### Partitioning and lazy processing"
   ]
  },
  {
   "cell_type": "markdown",
   "metadata": {},
   "source": [
    "Transformations are lazy. It defines what should be done to a DataFrame rather than actually doing it. They are executed when an action is run.\n",
    "\n",
    "Unique ID fields can create some undue bottlenecks due to distributed platform such as Spark. Spark can create unique ID's but they are not sequential."
   ]
  },
  {
   "cell_type": "markdown",
   "metadata": {},
   "source": [
    "### Adding an ID Field"
   ]
  },
  {
   "cell_type": "code",
   "execution_count": 107,
   "metadata": {},
   "outputs": [
    {
     "name": "stdout",
     "output_type": "stream",
     "text": [
      "\n",
      "There are 36 rows in the voter_df DataFrame.\n",
      "\n",
      "+--------------------+-------------+\n",
      "|          VOTER NAME|       ROW_ID|\n",
      "+--------------------+-------------+\n",
      "|        Lee Kleinman|1709396983808|\n",
      "|  the  final  201...|1700807049217|\n",
      "|         Erik Wilson|1700807049216|\n",
      "|  the  final   20...|1683627180032|\n",
      "| Carolyn King Arnold|1632087572480|\n",
      "| Rickey D.  Callahan|1597727834112|\n",
      "|   the   final  2...|1443109011456|\n",
      "|    Monica R. Alonzo|1382979469312|\n",
      "|     Lee M. Kleinman|1228360646656|\n",
      "|   Jennifer S. Gates|1194000908288|\n",
      "| Philip T.  Kingston|1185410973696|\n",
      "|   Dwaine R. Caraway|1142461300736|\n",
      "|  Rickey D. Callahan|1125281431553|\n",
      "|  Philip T. Kingston|1125281431552|\n",
      "|        Omar Narvaez|1116691496960|\n",
      "|    B. Adam  McGough|1056561954816|\n",
      "|  the  final  201...|1047972020224|\n",
      "|   Tiffinni A. Young|1005022347264|\n",
      "|  Jennifer S.  Gates| 962072674304|\n",
      "|        Mark Clayton| 944892805120|\n",
      "+--------------------+-------------+\n",
      "only showing top 20 rows\n",
      "\n"
     ]
    }
   ],
   "source": [
    "df = spark.read.csv(\"DallasCouncilVotes.csv\", header = True)\n",
    "\n",
    "voter_df = df.select(\"VOTER NAME\").distinct()\n",
    "print(\"\\nThere are %d rows in the voter_df DataFrame.\\n\" % voter_df.count())\n",
    "\n",
    "voter_df = voter_df.withColumn(\"ROW_ID\", F.monotonically_increasing_id())\n",
    "voter_df.orderBy(voter_df.ROW_ID.desc()).show()"
   ]
  },
  {
   "cell_type": "markdown",
   "metadata": {},
   "source": [
    "### IDs with different partitions"
   ]
  },
  {
   "cell_type": "code",
   "execution_count": 118,
   "metadata": {},
   "outputs": [
    {
     "name": "stdout",
     "output_type": "stream",
     "text": [
      "\n",
      "There are 200 partitions in the voter_df DataFrame.\n",
      "\n",
      "\n",
      "There are 1 partitions in the voter_df DataFrame.\n",
      "\n",
      "+--------------------+-------------+\n",
      "|          VOTER NAME|       ROW_ID|\n",
      "+--------------------+-------------+\n",
      "|        Lee Kleinman|1709396983808|\n",
      "|  the  final  201...|1700807049217|\n",
      "|         Erik Wilson|1700807049216|\n",
      "|  the  final   20...|1683627180032|\n",
      "| Carolyn King Arnold|1632087572480|\n",
      "| Rickey D.  Callahan|1597727834112|\n",
      "|   the   final  2...|1443109011456|\n",
      "|    Monica R. Alonzo|1382979469312|\n",
      "|     Lee M. Kleinman|1228360646656|\n",
      "|   Jennifer S. Gates|1194000908288|\n",
      "+--------------------+-------------+\n",
      "only showing top 10 rows\n",
      "\n",
      "+--------------------+------+\n",
      "|          VOTER NAME|ROW_ID|\n",
      "+--------------------+------+\n",
      "|        Lee Kleinman|    35|\n",
      "|  the  final  201...|    34|\n",
      "|         Erik Wilson|    33|\n",
      "|  the  final   20...|    32|\n",
      "| Carolyn King Arnold|    31|\n",
      "| Rickey D.  Callahan|    30|\n",
      "|   the   final  2...|    29|\n",
      "|    Monica R. Alonzo|    28|\n",
      "|     Lee M. Kleinman|    27|\n",
      "|   Jennifer S. Gates|    26|\n",
      "+--------------------+------+\n",
      "only showing top 10 rows\n",
      "\n"
     ]
    }
   ],
   "source": [
    "df = spark.read.csv(\"DallasCouncilVotes.csv\", header = True)\n",
    "\n",
    "voter_df = df.select(\"VOTER NAME\").distinct()\n",
    "voter_df_single = df.select(\"VOTER NAME\").distinct().repartition(1)\n",
    "\n",
    "print(\"\\nThere are %d partitions in the voter_df DataFrame.\\n\" % voter_df.rdd.getNumPartitions())\n",
    "print(\"\\nThere are %d partitions in the voter_df DataFrame.\\n\" % voter_df_single.rdd.getNumPartitions())\n",
    "\n",
    "voter_df = voter_df.withColumn(\"ROW_ID\", F.monotonically_increasing_id())\n",
    "voter_df_single = voter_df_single.withColumn(\"ROW_ID\", F.monotonically_increasing_id())\n",
    "\n",
    "voter_df.orderBy(voter_df.ROW_ID.desc()).show(10)\n",
    "voter_df_single.orderBy(voter_df_single.ROW_ID.desc()).show(10)"
   ]
  },
  {
   "cell_type": "markdown",
   "metadata": {},
   "source": [
    "### More ID tricks"
   ]
  },
  {
   "cell_type": "code",
   "execution_count": 130,
   "metadata": {},
   "outputs": [
    {
     "name": "stdout",
     "output_type": "stream",
     "text": [
      "+-------------+\n",
      "|       ROW_ID|\n",
      "+-------------+\n",
      "|   8589934592|\n",
      "|  25769803776|\n",
      "|  34359738368|\n",
      "|  42949672960|\n",
      "|  51539607552|\n",
      "| 103079215104|\n",
      "| 111669149696|\n",
      "| 231928233984|\n",
      "| 240518168576|\n",
      "| 352187318272|\n",
      "| 360777252864|\n",
      "| 395136991232|\n",
      "| 601295421440|\n",
      "| 670014898176|\n",
      "| 824633720832|\n",
      "| 850403524608|\n",
      "| 944892805120|\n",
      "| 962072674304|\n",
      "|1005022347264|\n",
      "|1047972020224|\n",
      "+-------------+\n",
      "only showing top 20 rows\n",
      "\n",
      "+-------------+\n",
      "|       ROW_ID|\n",
      "+-------------+\n",
      "|1717986918400|\n",
      "|1735166787584|\n",
      "|1743756722176|\n",
      "|1752346656768|\n",
      "|1760936591360|\n",
      "|1812476198912|\n",
      "|1821066133504|\n",
      "|1941325217792|\n",
      "|1949915152384|\n",
      "|2061584302080|\n",
      "|2070174236672|\n",
      "|2104533975040|\n",
      "|2310692405248|\n",
      "|2379411881984|\n",
      "|2534030704640|\n",
      "|2559800508416|\n",
      "|2654289788928|\n",
      "|2671469658112|\n",
      "|2714419331072|\n",
      "|2757369004032|\n",
      "+-------------+\n",
      "only showing top 20 rows\n",
      "\n"
     ]
    }
   ],
   "source": [
    "voter_df_march = spark.read.csv(\"DallasCouncilVoters.csv\", header = True)\n",
    "voter_df_march = voter_df_march.select(\"VOTER_NAME\").distinct()\n",
    "voter_df_march = voter_df_march.withColumn(\"ROW_ID\", F.monotonically_increasing_id())\n",
    "\n",
    "previous_max_ID = voter_df_march.select(\"ROW_ID\").rdd.max()[0]\n",
    "\n",
    "voter_df_april = spark.read.csv(\"DallasCouncilVoters.csv\", header = True)\n",
    "voter_df_april = voter_df_april.select(\"VOTER_NAME\").distinct()\n",
    "voter_df_april = voter_df_april.withColumn(\"ROW_ID\", F.monotonically_increasing_id() + previous_max_ID)\n",
    "\n",
    "voter_df_march.select('ROW_ID').show()\n",
    "voter_df_april.select('ROW_ID').show()"
   ]
  }
 ],
 "metadata": {
  "kernelspec": {
   "display_name": "Python 3",
   "language": "python",
   "name": "python3"
  },
  "language_info": {
   "codemirror_mode": {
    "name": "ipython",
    "version": 3
   },
   "file_extension": ".py",
   "mimetype": "text/x-python",
   "name": "python",
   "nbconvert_exporter": "python",
   "pygments_lexer": "ipython3",
   "version": "3.8.3"
  }
 },
 "nbformat": 4,
 "nbformat_minor": 4
}
