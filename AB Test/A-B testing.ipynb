{
 "cells": [
  {
   "cell_type": "markdown",
   "metadata": {},
   "source": [
    " # A/B test"
   ]
  },
  {
   "cell_type": "markdown",
   "metadata": {},
   "source": [
    "## What is an A/B test\n",
    "An experiment to compare two competing options (A, B). We use it to determine if the options are different in a statisitcal sence (hypotesis testing and permutation test) so we can determine which option is better."
   ]
  },
  {
   "cell_type": "markdown",
   "metadata": {},
   "source": [
    "### Steps of A/B test\n",
    "\n",
    "**0. Idea & Definition:** Question, goal, data/subjects, options, test statistics.\n",
    "\n",
    "**1. Subjects:** Set of all subjects.\n",
    "\n",
    "**2. Randomization:** Randomly assign subjects to the two groups (A, B).\n",
    "\n",
    "**3. Results:** Expose subjects to options, measure results, and compute test statistics.\n",
    "\n",
    "**4. Hypothesis testing:** Determine if the observed difference is statistically significant. (Permutation test)\n",
    "\n",
    "**5. Action/Decision:** Act based on the results.\n"
   ]
  },
  {
   "cell_type": "markdown",
   "metadata": {},
   "source": [
    "You need to test (hypothsis tesing - p-value testing) the result if it is statistically significant or it is random. \n",
    "\n",
    "Test statistic: Yes rate difference. Take difference (A%-B%).\n",
    "\n",
    "Obsereve difference between A and B must be due to either:\n",
    "* Null hypothesis: Random chance (subject assignment)\n",
    "* Alternative hypothesis: Real difference between A & B.\n",
    "\n",
    "**Hypothsis testing:** is random chance (Null hypothesis) a reasonable explanation for the observed difference?\n",
    "* Assume that the Null hypothesis is true\n",
    "* Create corresponding Null model (probability model)\n",
    "* Tests whether the observed difference is a reasonable outcome of that Null model\n",
    "* Is the observed difference within the random variablity of the Null model?\n",
    "\n",
    "\n",
    "**P-value**\n",
    "* Given a random change (probability) model that embodies the Null hypothesis\n",
    "* The p-value is the probability of obataining results as unusual/extreme as the observed result\n",
    "\n",
    "**Significance level (alpha):**\n",
    "* The probability threshold of 'unussualness' (0.05)\n",
    "* Must be defined before the experiment \n",
    "* The probability we accept for a type 1 error (False positive).\n",
    "\n",
    "**Decision:**\n",
    "* **p-value >= alpha:** retain the null hypothesis (observed difference is due to random chance).\n",
    "* **p-value < alpha:** reject the null hypothesis (observed difference is real/significant)\n",
    "\n",
    "We can use the permutation method to calculate the p-value.\n",
    "\n",
    "**Permutation test** is a **resampling** procedure used for hypothesis testing.\n",
    "\n",
    "**Resampling:** repeatedly sample values from the observed data to assess a statistic's random variability.\n",
    "\n",
    "* Boostrap: resampling **with** replacement, used to assess reliability of an estimate.\n",
    "* Permutation: resampling **without** replacement, used for **hypothesis testing** (putting the ball away).\n",
    "\n",
    "**Permutation Test:** \n",
    "* A resampling procefure used for hypothesis testing.\n",
    "* Process for combining two (or more) data sample together, and randomly reallocating the observations to assess the random variability of the test statistics.\n",
    "* A way to create the Null model and compute the p-value.\n",
    "* No assumptions as an advantage. Created Null hypothesis from the data itself.\n",
    "\n",
    "So, shuffle the results, and assign them to the A and B randomly, and calculate the p-value by using the actual results and observed results from randomly assigning process and repeat the process.\n",
    "\n",
    "**Two-way test** (Null: A=B, alternative A != B) (Negative values are included)\n",
    "\n",
    "**Onve-way test** (Null: A <= B, alternative A>B)\n",
    "\n",
    "And calculate the p-value for both of them. -> decision."
   ]
  },
  {
   "cell_type": "code",
   "execution_count": 1,
   "metadata": {},
   "outputs": [],
   "source": [
    "import pandas as pd\n",
    "from random import sample\n",
    "from random import seed"
   ]
  },
  {
   "cell_type": "code",
   "execution_count": 2,
   "metadata": {},
   "outputs": [
    {
     "name": "stdout",
     "output_type": "stream",
     "text": [
      "Observed Yes Rate (%) A: 70.0 , B: 40.0 , A-B 30.0 \n",
      "Total counts: Yes: 11 , No: 9\n"
     ]
    }
   ],
   "source": [
    "t = 20\n",
    "a = 10\n",
    "b = 10\n",
    "a_yes = 7\n",
    "b_yes = 4\n",
    "\n",
    "t_yes = a_yes + b_yes\n",
    "t_no = t - t_yes\n",
    "\n",
    "a_yes_pc = a_yes / a * 100\n",
    "b_yes_pc = b_yes / b * 100\n",
    "\n",
    "ab_yes_pc = a_yes_pc - b_yes_pc\n",
    "\n",
    "print(\"Observed Yes Rate (%) A:\", a_yes_pc,\n",
    "     \", B:\", b_yes_pc, \", A-B\", ab_yes_pc,\"\\nTotal counts: Yes:\", t_yes, \", No:\", t_no)"
   ]
  },
  {
   "cell_type": "code",
   "execution_count": 28,
   "metadata": {},
   "outputs": [
    {
     "name": "stdout",
     "output_type": "stream",
     "text": [
      "Bag : [1 1 1 1 1 1 1 1 1 1 1 0 0 0 0 0 0 0 0 0] \n",
      " Bag shuffled:  [1 1 0 0 1 0 0 1 1 0 1 1 1 0 0 0 1 0 1 1] \n",
      " A resample:  [1 1 0 0 1 0 0 1 1 0] \n",
      " B resample:  [1 1 1 0 0 0 1 0 1 1] \n",
      " Resample Yes Rate (%): A: 50.0 B: 60.0 A-B -10.0 \n",
      " Observed Yes Rate (%) A: 70.0 , B: 40.0 , A-B 30.0\n"
     ]
    }
   ],
   "source": [
    "seed(2)\n",
    "bag = [1] * t_yes + [0] * t_no # creating a bag with total numbers of yes' and no's\n",
    "\n",
    "bag_shuffled = sample(bag1, len(bag1))\n",
    "a_rand_samp = bag_shuffled[:a]\n",
    "b_rand_samp = bag_shuffled[a:]\n",
    "\n",
    "a_yes_pc_rs = sum(a_rand_samp) / a * 100\n",
    "b_yes_pc_rs = sum(b_rand_samp) / b * 100\n",
    "\n",
    "ab_yes_pc_rs = a_yes_pc_rs - b_yes_pc_rs\n",
    "\n",
    "print(\"Bag :\", str(bag).replace(\",\", \"\"),\"\\n\",\n",
    "     \"Bag shuffled: \", str(bag_shuffled).replace(\",\", \"\"),\"\\n\",\n",
    "     \"A resample: \", str(a_rand_samp).replace(\",\", \"\"),\"\\n\",\n",
    "     \"B resample: \", str(b_rand_samp).replace(\",\", \"\"),\"\\n\",\n",
    "     \"Resample Yes Rate (%): A:\", str(a_yes_pc_rs).replace(\",\", \"\"),\"B:\",str(b_yes_pc_rs).replace(\",\", \"\"), \"A-B\",str(ab_yes_pc_rs).replace(\",\", \"\"), \"\\n\",\n",
    "     \"Observed Yes Rate (%) A:\", a_yes_pc,\n",
    "     \", B:\", b_yes_pc, \", A-B\", ab_yes_pc)"
   ]
  },
  {
   "cell_type": "code",
   "execution_count": 75,
   "metadata": {},
   "outputs": [
    {
     "name": "stdout",
     "output_type": "stream",
     "text": [
      "[10.0, 30.0, 30.0, -10.0, -10.0, 10.0, 10.0, 10.0, 10.0, -10.0, -10.0, 10.0, -10.0, 10.0, 30.0, 50.0, 10.0, -30.0, 10.0, -10.0, -30.0, -10.0, -30.0, -10.0, -50.0, -30.0, 10.0, 30.0, -30.0, 30.0, -10.0, 10.0, 10.0, 30.0, 50.0, 10.0, -10.0, -10.0, -10.0, -30.0, -10.0, -10.0, 10.0, 10.0, -30.0, 30.0, 10.0, -10.0, 30.0, -10.0, -10.0, -10.0, 10.0, 10.0, 10.0, 10.0, -50.0, -10.0, -10.0, -10.0, 30.0, -10.0, 10.0, 10.0, -30.0, 10.0, 10.0, -10.0, 10.0, 10.0, 30.0, -10.0, -30.0, -50.0, -10.0, -10.0, -10.0, 10.0, 10.0, 10.0, -50.0, 10.0, 10.0, 30.0, -50.0, -10.0, 10.0, -10.0, 30.0, -10.0, -10.0, -10.0, -50.0, 10.0, -30.0, -10.0, 30.0, 30.0, -10.0, -10.0]\n"
     ]
    }
   ],
   "source": [
    "seed(2)\n",
    "p = 100\n",
    "\n",
    "perm_res = [0] * p\n",
    "\n",
    "for i in range(p):\n",
    "    bag = sample(bag, len(bag))\n",
    "    a_rs = bag[:a]\n",
    "    b_rs = bag[a:]\n",
    "    perm_res[i] = 100 * sum(a_rs) / a - sum(b_rs) / b * 100\n",
    "\n",
    "print(perm_res)"
   ]
  },
  {
   "cell_type": "code",
   "execution_count": 76,
   "metadata": {},
   "outputs": [
    {
     "name": "stdout",
     "output_type": "stream",
     "text": [
      " -50.0  -30.0  -10.0   10.0   30.0   50.0\n",
      "     6     10     35     33     14      2\n"
     ]
    }
   ],
   "source": [
    "per_res_s = pd.Series(perm_res)\n",
    "print(pd.pivot_table(per_res_s.value_counts().reset_index(),\n",
    "                    values = 0, columns = \"index\").to_string(index=False))"
   ]
  },
  {
   "cell_type": "code",
   "execution_count": 77,
   "metadata": {},
   "outputs": [
    {
     "name": "stdout",
     "output_type": "stream",
     "text": [
      "Number of permutations:  100 \n",
      "Two-way: Extreme count:  32 \n",
      "Two-way: Extreme ratio (p-value):  0.32 \n",
      "One-way: Extreme count:  16 \n",
      "One-way: Extreme ratio (p-value):  0.16\n"
     ]
    }
   ],
   "source": [
    "# Two-way hypothesis test\n",
    "extreme_count = sum(per_res_s.abs() >= abs(ab_yes_pc))\n",
    "\n",
    "# One-way hypothesis test\n",
    "pos_extreme_count = sum(per_res_s >= (ab_yes_pc))\n",
    "\n",
    "print(\"Number of permutations: \", p, \n",
    "      \"\\nTwo-way: Extreme count: \", extreme_count,\n",
    "      \"\\nTwo-way: Extreme ratio (p-value): \", extreme_count / p,\n",
    "      \"\\nOne-way: Extreme count: \", pos_extreme_count,\n",
    "      \"\\nOne-way: Extreme ratio (p-value): \", pos_extreme_count / p,\n",
    "     )"
   ]
  },
  {
   "cell_type": "markdown",
   "metadata": {},
   "source": [
    "P-values are larger than 0.05 (alpha-standard threshold), so we have to retain the null hypothesis.\n",
    "\n",
    "P-values are the probability of the extreme values that their range is determined by the observed result (on the density plot)."
   ]
  }
 ],
 "metadata": {
  "kernelspec": {
   "display_name": "Python 3",
   "language": "python",
   "name": "python3"
  },
  "language_info": {
   "codemirror_mode": {
    "name": "ipython",
    "version": 3
   },
   "file_extension": ".py",
   "mimetype": "text/x-python",
   "name": "python",
   "nbconvert_exporter": "python",
   "pygments_lexer": "ipython3",
   "version": "3.8.3"
  }
 },
 "nbformat": 4,
 "nbformat_minor": 4
}
