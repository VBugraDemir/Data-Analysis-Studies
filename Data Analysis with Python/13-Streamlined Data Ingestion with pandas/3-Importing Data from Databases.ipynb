{
 "cells": [
  {
   "cell_type": "markdown",
   "metadata": {},
   "source": [
    "# Importing Data from Databases"
   ]
  },
  {
   "cell_type": "markdown",
   "metadata": {},
   "source": [
    "## Introduction to databases"
   ]
  },
  {
   "cell_type": "markdown",
   "metadata": {},
   "source": [
    "Relational databases underpin the information systems of many organizations.\n",
    "\n",
    "Reading data froma a database is a two-step process. Connect and query."
   ]
  },
  {
   "cell_type": "markdown",
   "metadata": {},
   "source": [
    "### Connect to a database"
   ]
  },
  {
   "cell_type": "code",
   "execution_count": 8,
   "metadata": {},
   "outputs": [
    {
     "name": "stdout",
     "output_type": "stream",
     "text": [
      "['boro_census', 'hpd311calls', 'weather']\n"
     ]
    }
   ],
   "source": [
    "from  sqlalchemy import create_engine\n",
    "engine = create_engine(\"sqlite:///data.db\")\n",
    "print(engine.table_names())"
   ]
  },
  {
   "cell_type": "markdown",
   "metadata": {},
   "source": [
    "### Load entire tables"
   ]
  },
  {
   "cell_type": "code",
   "execution_count": 9,
   "metadata": {},
   "outputs": [
    {
     "name": "stdout",
     "output_type": "stream",
     "text": [
      "['boro_census', 'hpd311calls', 'weather']\n",
      "  unique_key created_date agency  complaint_type incident_zip  \\\n",
      "0   38070822   01/01/2018    HPD  HEAT/HOT WATER        10468   \n",
      "1   38065299   01/01/2018    HPD        PLUMBING        10003   \n",
      "2   38066653   01/01/2018    HPD  HEAT/HOT WATER        10452   \n",
      "3   38070264   01/01/2018    HPD  HEAT/HOT WATER        10032   \n",
      "4   38072466   01/01/2018    HPD  HEAT/HOT WATER        11213   \n",
      "\n",
      "       incident_address community_board    borough  \n",
      "0    2786 JEROME AVENUE        07 BRONX      BRONX  \n",
      "1  323 EAST   12 STREET    03 MANHATTAN  MANHATTAN  \n",
      "2  1235 GRAND CONCOURSE        04 BRONX      BRONX  \n",
      "3  656 WEST  171 STREET    12 MANHATTAN  MANHATTAN  \n",
      "4       1030 PARK PLACE     08 BROOKLYN   BROOKLYN  \n",
      "       station                         name  latitude  longitude  elevation  \\\n",
      "0  USW00094728  NY CITY CENTRAL PARK, NY US  40.77898  -73.96925       42.7   \n",
      "1  USW00094728  NY CITY CENTRAL PARK, NY US  40.77898  -73.96925       42.7   \n",
      "2  USW00094728  NY CITY CENTRAL PARK, NY US  40.77898  -73.96925       42.7   \n",
      "3  USW00094728  NY CITY CENTRAL PARK, NY US  40.77898  -73.96925       42.7   \n",
      "4  USW00094728  NY CITY CENTRAL PARK, NY US  40.77898  -73.96925       42.7   \n",
      "\n",
      "         date     month  awnd  prcp  snow tavg  tmax  tmin  \n",
      "0  12/01/2017  December  5.37  0.00   0.0         52    42  \n",
      "1  12/02/2017  December  3.13  0.00   0.0         48    39  \n",
      "2  12/03/2017  December  2.01  0.00   0.0         48    42  \n",
      "3  12/04/2017  December  3.58  0.00   0.0         51    40  \n",
      "4  12/05/2017  December  6.71  0.75   0.0         61    50  \n"
     ]
    }
   ],
   "source": [
    "import pandas as pd\n",
    "\n",
    "print(engine.table_names())\n",
    "hpd_calls = pd.read_sql(\"hpd311calls\", engine)\n",
    "print(hpd_calls.head())\n",
    "\n",
    "query = \"\"\"SELECT *\n",
    "FROM weather\"\"\"\n",
    "weather = pd.read_sql(query, engine)\n",
    "print(weather.head())"
   ]
  },
  {
   "cell_type": "markdown",
   "metadata": {},
   "source": [
    "## Refining imports with SQL queries"
   ]
  },
  {
   "cell_type": "markdown",
   "metadata": {},
   "source": [
    "### Selecting columns with SQL"
   ]
  },
  {
   "cell_type": "code",
   "execution_count": 10,
   "metadata": {},
   "outputs": [
    {
     "data": {
      "text/html": [
       "<div>\n",
       "<style scoped>\n",
       "    .dataframe tbody tr th:only-of-type {\n",
       "        vertical-align: middle;\n",
       "    }\n",
       "\n",
       "    .dataframe tbody tr th {\n",
       "        vertical-align: top;\n",
       "    }\n",
       "\n",
       "    .dataframe thead th {\n",
       "        text-align: right;\n",
       "    }\n",
       "</style>\n",
       "<table border=\"1\" class=\"dataframe\">\n",
       "  <thead>\n",
       "    <tr style=\"text-align: right;\">\n",
       "      <th></th>\n",
       "      <th>date</th>\n",
       "      <th>tmax</th>\n",
       "      <th>tmin</th>\n",
       "    </tr>\n",
       "  </thead>\n",
       "  <tbody>\n",
       "    <tr>\n",
       "      <th>0</th>\n",
       "      <td>12/01/2017</td>\n",
       "      <td>52</td>\n",
       "      <td>42</td>\n",
       "    </tr>\n",
       "    <tr>\n",
       "      <th>1</th>\n",
       "      <td>12/02/2017</td>\n",
       "      <td>48</td>\n",
       "      <td>39</td>\n",
       "    </tr>\n",
       "    <tr>\n",
       "      <th>2</th>\n",
       "      <td>12/03/2017</td>\n",
       "      <td>48</td>\n",
       "      <td>42</td>\n",
       "    </tr>\n",
       "    <tr>\n",
       "      <th>3</th>\n",
       "      <td>12/04/2017</td>\n",
       "      <td>51</td>\n",
       "      <td>40</td>\n",
       "    </tr>\n",
       "    <tr>\n",
       "      <th>4</th>\n",
       "      <td>12/05/2017</td>\n",
       "      <td>61</td>\n",
       "      <td>50</td>\n",
       "    </tr>\n",
       "    <tr>\n",
       "      <th>...</th>\n",
       "      <td>...</td>\n",
       "      <td>...</td>\n",
       "      <td>...</td>\n",
       "    </tr>\n",
       "    <tr>\n",
       "      <th>116</th>\n",
       "      <td>03/27/2018</td>\n",
       "      <td>47</td>\n",
       "      <td>34</td>\n",
       "    </tr>\n",
       "    <tr>\n",
       "      <th>117</th>\n",
       "      <td>03/28/2018</td>\n",
       "      <td>52</td>\n",
       "      <td>38</td>\n",
       "    </tr>\n",
       "    <tr>\n",
       "      <th>118</th>\n",
       "      <td>03/29/2018</td>\n",
       "      <td>53</td>\n",
       "      <td>49</td>\n",
       "    </tr>\n",
       "    <tr>\n",
       "      <th>119</th>\n",
       "      <td>03/30/2018</td>\n",
       "      <td>62</td>\n",
       "      <td>44</td>\n",
       "    </tr>\n",
       "    <tr>\n",
       "      <th>120</th>\n",
       "      <td>03/31/2018</td>\n",
       "      <td>58</td>\n",
       "      <td>39</td>\n",
       "    </tr>\n",
       "  </tbody>\n",
       "</table>\n",
       "<p>121 rows × 3 columns</p>\n",
       "</div>"
      ],
      "text/plain": [
       "           date  tmax  tmin\n",
       "0    12/01/2017    52    42\n",
       "1    12/02/2017    48    39\n",
       "2    12/03/2017    48    42\n",
       "3    12/04/2017    51    40\n",
       "4    12/05/2017    61    50\n",
       "..          ...   ...   ...\n",
       "116  03/27/2018    47    34\n",
       "117  03/28/2018    52    38\n",
       "118  03/29/2018    53    49\n",
       "119  03/30/2018    62    44\n",
       "120  03/31/2018    58    39\n",
       "\n",
       "[121 rows x 3 columns]"
      ]
     },
     "execution_count": 10,
     "metadata": {},
     "output_type": "execute_result"
    }
   ],
   "source": [
    "query = \"\"\"SELECT date, tmax, tmin\n",
    "FROM weather;\"\"\"\n",
    "temperature = pd.read_sql(query, engine)\n",
    "temperature"
   ]
  },
  {
   "cell_type": "markdown",
   "metadata": {},
   "source": [
    "### Selecting rows"
   ]
  },
  {
   "cell_type": "code",
   "execution_count": 20,
   "metadata": {},
   "outputs": [
    {
     "data": {
      "image/png": "[encoded data removed]",
      "text/plain": [
       "<Figure size 432x288 with 1 Axes>"
      ]
     },
     "metadata": {
      "needs_background": "light"
     },
     "output_type": "display_data"
    }
   ],
   "source": [
    "import matplotlib.pyplot as plt\n",
    "\n",
    "query = \"\"\"SELECT *\n",
    "FROM hpd311calls\n",
    "WHERE complaint_type='SAFETY'\"\"\"\n",
    "safety_calls = pd.read_sql(query, engine)\n",
    "call_counts=safety_calls.groupby('borough').unique_key.count()\n",
    "call_counts.plot.barh()\n",
    "plt.show()"
   ]
  },
  {
   "cell_type": "markdown",
   "metadata": {},
   "source": [
    "### Filtering on multiple conditions"
   ]
  },
  {
   "cell_type": "code",
   "execution_count": 22,
   "metadata": {},
   "outputs": [
    {
     "name": "stdout",
     "output_type": "stream",
     "text": [
      "           latitude     longitude     elevation       awnd      prcp  \\\n",
      "count  2.500000e+01  2.500000e+01  2.500000e+01  25.000000  25.00000   \n",
      "mean   4.077898e+01 -7.396925e+01  4.270000e+01   7.739600   0.17600   \n",
      "std    2.175584e-14  4.351168e-14  1.450389e-14   2.621778   0.36947   \n",
      "min    4.077898e+01 -7.396925e+01  4.270000e+01   3.130000   0.00000   \n",
      "25%    4.077898e+01 -7.396925e+01  4.270000e+01   5.820000   0.00000   \n",
      "50%    4.077898e+01 -7.396925e+01  4.270000e+01   7.830000   0.00000   \n",
      "75%    4.077898e+01 -7.396925e+01  4.270000e+01   9.170000   0.09000   \n",
      "max    4.077898e+01 -7.396925e+01  4.270000e+01  12.970000   1.41000   \n",
      "\n",
      "            snow       tmax       tmin  \n",
      "count  25.000000  25.000000  25.000000  \n",
      "mean    1.332000  27.320000  17.160000  \n",
      "std     2.685256   7.122266   7.673982  \n",
      "min     0.000000  13.000000   5.000000  \n",
      "25%     0.000000  22.000000  11.000000  \n",
      "50%     0.000000  28.000000  17.000000  \n",
      "75%     1.200000  31.000000  20.000000  \n",
      "max     9.800000  40.000000  33.000000  \n"
     ]
    }
   ],
   "source": [
    "query = \"\"\"SELECT *\n",
    "FROM weather\n",
    "WHERE tmax <= 32\n",
    "OR snow >=1\"\"\"\n",
    "wintry_days = pd.read_sql(query, engine)\n",
    "print(wintry_days.describe())"
   ]
  },
  {
   "cell_type": "markdown",
   "metadata": {},
   "source": [
    "## More complex SQL queries"
   ]
  },
  {
   "cell_type": "markdown",
   "metadata": {},
   "source": [
    "Aggregate funtions: AVG(), SUM(), MAX(), MIN(), COUNT().\n",
    "Selecting the column that is used to group by is important."
   ]
  },
  {
   "cell_type": "markdown",
   "metadata": {},
   "source": [
    "### Getting distinct values"
   ]
  },
  {
   "cell_type": "code",
   "execution_count": 34,
   "metadata": {},
   "outputs": [
    {
     "name": "stdout",
     "output_type": "stream",
     "text": [
      "          borough    complaint_type\n",
      "0           BRONX    HEAT/HOT WATER\n",
      "1       MANHATTAN          PLUMBING\n",
      "2       MANHATTAN    HEAT/HOT WATER\n",
      "3        BROOKLYN    HEAT/HOT WATER\n",
      "4          QUEENS    HEAT/HOT WATER\n",
      "..            ...               ...\n",
      "60      MANHATTAN  OUTSIDE BUILDING\n",
      "61      MANHATTAN          ELEVATOR\n",
      "62       BROOKLYN  OUTSIDE BUILDING\n",
      "63  STATEN ISLAND            SAFETY\n",
      "64  STATEN ISLAND  OUTSIDE BUILDING\n",
      "\n",
      "[65 rows x 2 columns]\n"
     ]
    }
   ],
   "source": [
    "query = \"\"\"SELECT DISTINCT borough, complaint_type\n",
    "FROM hpd311calls;\"\"\"\n",
    "issues_and_boros = pd.read_sql(query, engine)\n",
    "print(issues_and_boros)"
   ]
  },
  {
   "cell_type": "markdown",
   "metadata": {},
   "source": [
    "### Counting in groups"
   ]
  },
  {
   "cell_type": "markdown",
   "metadata": {},
   "source": [
    "Counting and grouping can be done by queries too."
   ]
  },
  {
   "cell_type": "code",
   "execution_count": 49,
   "metadata": {},
   "outputs": [
    {
     "data": {
      "image/png": "[encoded data removed]",
      "text/plain": [
       "<Figure size 432x288 with 1 Axes>"
      ]
     },
     "metadata": {
      "needs_background": "light"
     },
     "output_type": "display_data"
    },
    {
     "data": {
      "image/png": "[encoded data removed]",
      "text/plain": [
       "<Figure size 432x288 with 1 Axes>"
      ]
     },
     "metadata": {
      "needs_background": "light"
     },
     "output_type": "display_data"
    }
   ],
   "source": [
    "query = \"\"\"SELECT complaint_type\n",
    "FROM hpd311calls\"\"\"\n",
    "calls_by_issue = pd.read_sql(query, engine)\n",
    "call_counts = calls_by_issue.groupby(\"complaint_type\")[\"complaint_type\"].count()\n",
    "call_counts.plot.barh()\n",
    "plt.show()\n",
    "\n",
    "# instead grouping and counting can be done with sql commands\n",
    "\n",
    "query = \"\"\"SELECT complaint_type, COUNT(*)\n",
    "FROM hpd311calls\n",
    "GROUP BY complaint_type\"\"\"\n",
    "calls_by_issue = pd.read_sql(query, engine)\n",
    "calls_by_issue.plot.barh(x=\"complaint_type\")\n",
    "plt.show()"
   ]
  },
  {
   "cell_type": "markdown",
   "metadata": {},
   "source": [
    "Calls about heat and hot water issues vastly outnumber calls about all other issues. The data subset in the table comes from the winter, so this makes sense."
   ]
  },
  {
   "cell_type": "markdown",
   "metadata": {},
   "source": [
    "### Working with aggregate functions"
   ]
  },
  {
   "cell_type": "code",
   "execution_count": 55,
   "metadata": {},
   "outputs": [
    {
     "name": "stdout",
     "output_type": "stream",
     "text": [
      "      month  MAX(tmax)\n",
      "0  December         61\n",
      "1  February         78\n",
      "2   January         61\n",
      "3     March         62\n",
      "      month  MAX(tmax)  MIN(tmin)\n",
      "0  December         61          9\n",
      "1  February         78         16\n",
      "2   January         61          5\n",
      "3     March         62         27\n",
      "      month  MAX(tmax)  MIN(tmin)  SUM(prcp)\n",
      "0  December         61          9       2.21\n",
      "1  February         78         16       5.83\n",
      "2   January         61          5       2.18\n",
      "3     March         62         27       5.17\n"
     ]
    }
   ],
   "source": [
    "query = \"\"\"SELECT month, MAX(tmax)\n",
    "FROM weather\n",
    "GROUP BY month;\"\"\"\n",
    "weather_by_month = pd.read_sql(query, engine)\n",
    "print(weather_by_month)\n",
    "\n",
    "query = \"\"\"SELECT month, MAX(tmax), MIN(tmin)\n",
    "FROM weather\n",
    "GROUP BY month;\"\"\"\n",
    "weather_by_month = pd.read_sql(query, engine)\n",
    "print(weather_by_month)\n",
    "\n",
    "query = \"\"\"SELECT month, MAX(tmax), MIN(tmin), SUM(prcp)\n",
    "FROM weather\n",
    "GROUP BY month;\"\"\"\n",
    "weather_by_month = pd.read_sql(query, engine)\n",
    "print(weather_by_month)"
   ]
  },
  {
   "cell_type": "markdown",
   "metadata": {},
   "source": [
    "Aggregate functions can be a useful way to summarize large datasets."
   ]
  },
  {
   "cell_type": "markdown",
   "metadata": {},
   "source": [
    "## Loading multiple tables with joins"
   ]
  },
  {
   "cell_type": "markdown",
   "metadata": {},
   "source": [
    "One feature of relational databases is that tables can be linked to one another via unique record identifiers or keys. So they can be combined with SQL joins."
   ]
  },
  {
   "cell_type": "code",
   "execution_count": 71,
   "metadata": {},
   "outputs": [
    {
     "name": "stdout",
     "output_type": "stream",
     "text": [
      "  unique_key created_date agency  complaint_type incident_zip  \\\n",
      "0   38070822   01/01/2018    HPD  HEAT/HOT WATER        10468   \n",
      "1   38066653   01/01/2018    HPD  HEAT/HOT WATER        10452   \n",
      "2   38070264   01/01/2018    HPD  HEAT/HOT WATER        10032   \n",
      "3   38072466   01/01/2018    HPD  HEAT/HOT WATER        11213   \n",
      "4   38076151   01/01/2018    HPD  HEAT/HOT WATER        10463   \n",
      "\n",
      "       incident_address community_board    borough      station  \\\n",
      "0    2786 JEROME AVENUE        07 BRONX      BRONX  USW00094728   \n",
      "1  1235 GRAND CONCOURSE        04 BRONX      BRONX  USW00094728   \n",
      "2  656 WEST  171 STREET    12 MANHATTAN  MANHATTAN  USW00094728   \n",
      "3       1030 PARK PLACE     08 BROOKLYN   BROOKLYN  USW00094728   \n",
      "4    3810 BAILEY AVENUE        08 BRONX      BRONX  USW00094728   \n",
      "\n",
      "                          name  ...  longitude  elevation        date  \\\n",
      "0  NY CITY CENTRAL PARK, NY US  ...  -73.96925       42.7  01/01/2018   \n",
      "1  NY CITY CENTRAL PARK, NY US  ...  -73.96925       42.7  01/01/2018   \n",
      "2  NY CITY CENTRAL PARK, NY US  ...  -73.96925       42.7  01/01/2018   \n",
      "3  NY CITY CENTRAL PARK, NY US  ...  -73.96925       42.7  01/01/2018   \n",
      "4  NY CITY CENTRAL PARK, NY US  ...  -73.96925       42.7  01/01/2018   \n",
      "\n",
      "     month  awnd  prcp  snow  tavg tmax  tmin  \n",
      "0  January  7.83   0.0   0.0         19     7  \n",
      "1  January  7.83   0.0   0.0         19     7  \n",
      "2  January  7.83   0.0   0.0         19     7  \n",
      "3  January  7.83   0.0   0.0         19     7  \n",
      "4  January  7.83   0.0   0.0         19     7  \n",
      "\n",
      "[5 rows x 21 columns]\n",
      "\n",
      "         borough  COUNT(*)  total_population  housing_units\n",
      "0          BRONX     29874           1455846         524488\n",
      "1       BROOKLYN     31722           2635121        1028383\n",
      "2      MANHATTAN     20196           1653877         872645\n",
      "3         QUEENS     11384           2339280         850422\n",
      "4  STATEN ISLAND      1322            475948         179179\n"
     ]
    }
   ],
   "source": [
    "query = \"\"\"SELECT *\n",
    "FROM hpd311calls\n",
    "JOIN weather ON hpd311calls.created_date = weather.date\n",
    "WHERE hpd311calls.complaint_type = 'HEAT/HOT WATER';\"\"\"\n",
    "join = pd.read_sql(query, engine)\n",
    "print(join.head())\n",
    "print()\n",
    "# It is even possible to summarize data and then join additional columns.\n",
    "\n",
    "query = \"\"\"SELECT hpd311calls.borough, COUNT(*), boro_census.total_population,\n",
    "boro_census.housing_units\n",
    "FROM hpd311calls\n",
    "JOIN boro_census ON hpd311calls.borough = boro_census.borough\n",
    "GROUP BY hpd311calls.borough;\"\"\"\n",
    "join = pd.read_sql(query, engine)\n",
    "print(join.head())\n"
   ]
  },
  {
   "cell_type": "markdown",
   "metadata": {},
   "source": [
    "### Joining tables"
   ]
  },
  {
   "cell_type": "markdown",
   "metadata": {},
   "source": [
    "Tables in relational databases usually have key columns of unique record identifiers. This lets us build pipelines that combine tables using SQL's JOIN operation, instead of having to combine data after importing it.\n",
    "\n"
   ]
  },
  {
   "cell_type": "code",
   "execution_count": 73,
   "metadata": {},
   "outputs": [
    {
     "name": "stdout",
     "output_type": "stream",
     "text": [
      "  unique_key created_date agency  complaint_type incident_zip  \\\n",
      "0   38070822   01/01/2018    HPD  HEAT/HOT WATER        10468   \n",
      "1   38065299   01/01/2018    HPD        PLUMBING        10003   \n",
      "2   38066653   01/01/2018    HPD  HEAT/HOT WATER        10452   \n",
      "3   38070264   01/01/2018    HPD  HEAT/HOT WATER        10032   \n",
      "4   38072466   01/01/2018    HPD  HEAT/HOT WATER        11213   \n",
      "\n",
      "       incident_address community_board    borough      station  \\\n",
      "0    2786 JEROME AVENUE        07 BRONX      BRONX  USW00094728   \n",
      "1  323 EAST   12 STREET    03 MANHATTAN  MANHATTAN  USW00094728   \n",
      "2  1235 GRAND CONCOURSE        04 BRONX      BRONX  USW00094728   \n",
      "3  656 WEST  171 STREET    12 MANHATTAN  MANHATTAN  USW00094728   \n",
      "4       1030 PARK PLACE     08 BROOKLYN   BROOKLYN  USW00094728   \n",
      "\n",
      "                          name  ...  longitude  elevation        date  \\\n",
      "0  NY CITY CENTRAL PARK, NY US  ...  -73.96925       42.7  01/01/2018   \n",
      "1  NY CITY CENTRAL PARK, NY US  ...  -73.96925       42.7  01/01/2018   \n",
      "2  NY CITY CENTRAL PARK, NY US  ...  -73.96925       42.7  01/01/2018   \n",
      "3  NY CITY CENTRAL PARK, NY US  ...  -73.96925       42.7  01/01/2018   \n",
      "4  NY CITY CENTRAL PARK, NY US  ...  -73.96925       42.7  01/01/2018   \n",
      "\n",
      "     month  awnd  prcp  snow  tavg tmax  tmin  \n",
      "0  January  7.83   0.0   0.0         19     7  \n",
      "1  January  7.83   0.0   0.0         19     7  \n",
      "2  January  7.83   0.0   0.0         19     7  \n",
      "3  January  7.83   0.0   0.0         19     7  \n",
      "4  January  7.83   0.0   0.0         19     7  \n",
      "\n",
      "[5 rows x 21 columns]\n"
     ]
    }
   ],
   "source": [
    "query = \"\"\"SELECT *\n",
    "FROM hpd311calls\n",
    "JOIN weather ON hpd311calls.created_date = weather.date;\"\"\"\n",
    "\n",
    "calls_with_weather = pd.read_sql(query, engine)\n",
    "print(calls_with_weather.head())"
   ]
  },
  {
   "cell_type": "markdown",
   "metadata": {},
   "source": [
    " The joins you perform in this course only return records whose key values appear in both tables, which is why the resulting data frames have values for all columns."
   ]
  },
  {
   "cell_type": "markdown",
   "metadata": {},
   "source": [
    "### Joining and filtering"
   ]
  },
  {
   "cell_type": "code",
   "execution_count": 80,
   "metadata": {},
   "outputs": [
    {
     "name": "stdout",
     "output_type": "stream",
     "text": [
      "  unique_key created_date agency  complaint_type incident_zip  \\\n",
      "0   38070822   01/01/2018    HPD  HEAT/HOT WATER        10468   \n",
      "1   38065299   01/01/2018    HPD        PLUMBING        10003   \n",
      "2   38066653   01/01/2018    HPD  HEAT/HOT WATER        10452   \n",
      "3   38070264   01/01/2018    HPD  HEAT/HOT WATER        10032   \n",
      "4   38072466   01/01/2018    HPD  HEAT/HOT WATER        11213   \n",
      "\n",
      "       incident_address community_board    borough      station  \\\n",
      "0    2786 JEROME AVENUE        07 BRONX      BRONX  USW00094728   \n",
      "1  323 EAST   12 STREET    03 MANHATTAN  MANHATTAN  USW00094728   \n",
      "2  1235 GRAND CONCOURSE        04 BRONX      BRONX  USW00094728   \n",
      "3  656 WEST  171 STREET    12 MANHATTAN  MANHATTAN  USW00094728   \n",
      "4       1030 PARK PLACE     08 BROOKLYN   BROOKLYN  USW00094728   \n",
      "\n",
      "                          name  ...  elevation        date    month  awnd  \\\n",
      "0  NY CITY CENTRAL PARK, NY US  ...       42.7  01/01/2018  January  7.83   \n",
      "1  NY CITY CENTRAL PARK, NY US  ...       42.7  01/01/2018  January  7.83   \n",
      "2  NY CITY CENTRAL PARK, NY US  ...       42.7  01/01/2018  January  7.83   \n",
      "3  NY CITY CENTRAL PARK, NY US  ...       42.7  01/01/2018  January  7.83   \n",
      "4  NY CITY CENTRAL PARK, NY US  ...       42.7  01/01/2018  January  7.83   \n",
      "\n",
      "   prcp  snow  tavg  tmax tmin  prcp  \n",
      "0   0.0   0.0          19    7   0.0  \n",
      "1   0.0   0.0          19    7   0.0  \n",
      "2   0.0   0.0          19    7   0.0  \n",
      "3   0.0   0.0          19    7   0.0  \n",
      "4   0.0   0.0          19    7   0.0  \n",
      "\n",
      "[5 rows x 22 columns]\n",
      "\n",
      "\n",
      "\n",
      "\n",
      "  unique_key created_date agency complaint_type incident_zip  \\\n",
      "0   38074305   01/01/2018    HPD     WATER LEAK        11212   \n",
      "1   38078748   01/01/2018    HPD     WATER LEAK        10458   \n",
      "2   38081097   01/01/2018    HPD     WATER LEAK        11221   \n",
      "3   38077874   01/01/2018    HPD     WATER LEAK        11418   \n",
      "4   38081110   01/01/2018    HPD     WATER LEAK        11420   \n",
      "\n",
      "          incident_address community_board   borough      station  \\\n",
      "0     1026 WILLMOHR STREET     17 BROOKLYN  BROOKLYN  USW00094728   \n",
      "1       2700 MARION AVENUE        07 BRONX     BRONX  USW00094728   \n",
      "2  192 MALCOLM X BOULEVARD     03 BROOKLYN  BROOKLYN  USW00094728   \n",
      "3    129-11 JAMAICA AVENUE       09 QUEENS    QUEENS  USW00094728   \n",
      "4        111-17 133 STREET       10 QUEENS    QUEENS  USW00094728   \n",
      "\n",
      "                          name  ...  elevation        date    month  awnd  \\\n",
      "0  NY CITY CENTRAL PARK, NY US  ...       42.7  01/01/2018  January  7.83   \n",
      "1  NY CITY CENTRAL PARK, NY US  ...       42.7  01/01/2018  January  7.83   \n",
      "2  NY CITY CENTRAL PARK, NY US  ...       42.7  01/01/2018  January  7.83   \n",
      "3  NY CITY CENTRAL PARK, NY US  ...       42.7  01/01/2018  January  7.83   \n",
      "4  NY CITY CENTRAL PARK, NY US  ...       42.7  01/01/2018  January  7.83   \n",
      "\n",
      "   prcp  snow  tavg  tmax tmin  prcp  \n",
      "0   0.0   0.0          19    7   0.0  \n",
      "1   0.0   0.0          19    7   0.0  \n",
      "2   0.0   0.0          19    7   0.0  \n",
      "3   0.0   0.0          19    7   0.0  \n",
      "4   0.0   0.0          19    7   0.0  \n",
      "\n",
      "[5 rows x 22 columns]\n"
     ]
    }
   ],
   "source": [
    "query = \"\"\"SELECT *, weather.prcp\n",
    "FROM hpd311calls\n",
    "JOIN weather ON hpd311calls.created_date = weather.date\n",
    ";\"\"\"\n",
    "\n",
    "leak_calls = pd.read_sql(query, engine)\n",
    "print(leak_calls.head())\n",
    "print(\"\\n\\n\\n\")\n",
    "query = \"\"\"SELECT *, weather.prcp\n",
    "FROM hpd311calls\n",
    "JOIN weather ON hpd311calls.created_date = weather.date\n",
    "WHERE hpd311calls.complaint_type = 'WATER LEAK';\"\"\"\n",
    "\n",
    "leak_calls = pd.read_sql(query, engine)\n",
    "print(leak_calls.head())"
   ]
  },
  {
   "cell_type": "markdown",
   "metadata": {},
   "source": [
    "### Joining, filtering, and aggregating"
   ]
  },
  {
   "cell_type": "code",
   "execution_count": 81,
   "metadata": {},
   "outputs": [
    {
     "name": "stdout",
     "output_type": "stream",
     "text": [
      "   created_date  COUNT(*)  tmax  tmin\n",
      "0    01/01/2018      4597    19     7\n",
      "1    01/02/2018      4362    26    13\n",
      "2    01/03/2018      3045    30    16\n",
      "3    01/04/2018      3374    29    19\n",
      "4    01/05/2018      4333    19     9\n",
      "5    01/06/2018      5327    13     6\n",
      "6    01/07/2018      4352    18     5\n",
      "7    01/08/2018      3096    31    17\n",
      "8    01/09/2018      1618    44    30\n",
      "9    01/10/2018      1269    43    30\n",
      "10   01/11/2018       816    53    41\n",
      "11   01/12/2018       628    61    44\n",
      "12   01/13/2018      1161    58    19\n",
      "13   01/14/2018      1949    25    15\n",
      "14   01/15/2018      2095    30    16\n",
      "15   01/17/2018      1238    36    22\n",
      "16   01/18/2018      1267    32    18\n",
      "17   01/19/2018       936    41    24\n",
      "18   01/20/2018       698    52    38\n",
      "19   01/21/2018       605    50    42\n",
      "20   01/22/2018       708    49    38\n",
      "21   01/23/2018       642    60    38\n",
      "22   01/24/2018       906    44    27\n",
      "23   01/25/2018      1154    34    23\n",
      "24   01/26/2018       915    38    26\n",
      "25   01/27/2018       570    56    35\n",
      "26   01/28/2018       505    55    46\n",
      "27   01/29/2018       788    47    35\n",
      "28   01/30/2018      1022    36    24\n",
      "29   01/31/2018      1261    33    18\n"
     ]
    }
   ],
   "source": [
    "query = \"\"\"SELECT hpd311calls.created_date, COUNT(*), weather.tmax, weather.tmin\n",
    "FROM hpd311calls\n",
    "JOIN weather ON hpd311calls.created_date = weather.date\n",
    "WHERE hpd311calls.complaint_type = 'HEAT/HOT WATER'\n",
    "GROUP BY hpd311calls.created_date\"\"\"\n",
    "df = pd.read_sql(query, engine)\n",
    "print(df)"
   ]
  },
  {
   "cell_type": "code",
   "execution_count": null,
   "metadata": {},
   "outputs": [],
   "source": []
  }
 ],
 "metadata": {
  "kernelspec": {
   "display_name": "Python 3",
   "language": "python",
   "name": "python3"
  },
  "language_info": {
   "codemirror_mode": {
    "name": "ipython",
    "version": 3
   },
   "file_extension": ".py",
   "mimetype": "text/x-python",
   "name": "python",
   "nbconvert_exporter": "python",
   "pygments_lexer": "ipython3",
   "version": "3.8.3"
  }
 },
 "nbformat": 4,
 "nbformat_minor": 4
}
