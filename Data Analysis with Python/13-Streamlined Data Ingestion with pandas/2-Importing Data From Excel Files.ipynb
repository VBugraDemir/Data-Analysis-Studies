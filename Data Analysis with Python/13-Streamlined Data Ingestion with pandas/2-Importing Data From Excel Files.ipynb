{
 "cells": [
  {
   "cell_type": "markdown",
   "metadata": {},
   "source": [
    "# Importing Data From Excel Files"
   ]
  },
  {
   "cell_type": "markdown",
   "metadata": {},
   "source": [
    "## Introduction to spreadsheets"
   ]
  },
  {
   "cell_type": "code",
   "execution_count": 1,
   "metadata": {},
   "outputs": [
    {
     "name": "stdout",
     "output_type": "stream",
     "text": [
      "   FreeCodeCamp New Developer Survey Responses, 2016        Unnamed: 1  \\\n",
      "0  Source: https://www.kaggle.com/freecodecamp/20...               NaN   \n",
      "1                                                Age  AttendedBootcamp   \n",
      "2                                                 28                 0   \n",
      "3                                                 22                 0   \n",
      "4                                                 19                 0   \n",
      "\n",
      "       Unnamed: 2         Unnamed: 3    Unnamed: 4         Unnamed: 5  \\\n",
      "0             NaN                NaN           NaN                NaN   \n",
      "1  BootcampFinish  BootcampLoanYesNo  BootcampName  BootcampRecommend   \n",
      "2             NaN                NaN           NaN                NaN   \n",
      "3             NaN                NaN           NaN                NaN   \n",
      "4             NaN                NaN           NaN                NaN   \n",
      "\n",
      "       Unnamed: 6                     Unnamed: 7            Unnamed: 8  \\\n",
      "0             NaN                            NaN                   NaN   \n",
      "1  ChildrenNumber                 CityPopulation  CodeEventConferences   \n",
      "2             NaN  between 100,000 and 1 million                   NaN   \n",
      "3             NaN  between 100,000 and 1 million                   NaN   \n",
      "4             NaN            more than 1 million                   NaN   \n",
      "\n",
      "             Unnamed: 9  ...          Unnamed: 88         Unnamed: 89  \\\n",
      "0                   NaN  ...                  NaN                 NaN   \n",
      "1  CodeEventDjangoGirls  ...  ResourcePluralSight  ResourceSkillCrush   \n",
      "2                   NaN  ...                  NaN                 NaN   \n",
      "3                   NaN  ...                  NaN                 NaN   \n",
      "4                   NaN  ...                  NaN                 NaN   \n",
      "\n",
      "             Unnamed: 90        Unnamed: 91      Unnamed: 92    Unnamed: 93  \\\n",
      "0                    NaN                NaN              NaN            NaN   \n",
      "1  ResourceStackOverflow  ResourceTreehouse  ResourceUdacity  ResourceUdemy   \n",
      "2                    NaN                NaN              NaN            NaN   \n",
      "3                    NaN                NaN              NaN              1   \n",
      "4                    NaN                NaN              NaN            NaN   \n",
      "\n",
      "         Unnamed: 94                              Unnamed: 95  Unnamed: 96  \\\n",
      "0                NaN                                      NaN          NaN   \n",
      "1  ResourceW3Schools                             SchoolDegree  SchoolMajor   \n",
      "2                NaN           some college credit, no degree          NaN   \n",
      "3                NaN           some college credit, no degree          NaN   \n",
      "4                NaN  high school diploma or equivalent (GED)          NaN   \n",
      "\n",
      "      Unnamed: 97  \n",
      "0             NaN  \n",
      "1  StudentDebtOwe  \n",
      "2           20000  \n",
      "3             NaN  \n",
      "4             NaN  \n",
      "\n",
      "[5 rows x 98 columns]\n"
     ]
    }
   ],
   "source": [
    "import pandas as pd\n",
    "survey_responses = pd.read_excel(\"fcc-new-coder-survey.xlsx\")\n",
    "print(survey_responses.head())"
   ]
  },
  {
   "cell_type": "markdown",
   "metadata": {},
   "source": [
    "### Load a portion of a spreadsheet\n"
   ]
  },
  {
   "cell_type": "code",
   "execution_count": 2,
   "metadata": {},
   "outputs": [
    {
     "name": "stdout",
     "output_type": "stream",
     "text": [
      "Index(['ExpectedEarning', 'JobApplyWhen', 'JobPref', 'JobRelocateYesNo',\n",
      "       'JobRoleInterest', 'JobWherePref'],\n",
      "      dtype='object')\n"
     ]
    }
   ],
   "source": [
    "col_string = \"AD, AW:BA\"\n",
    "survey_responses = pd.read_excel(\"fcc-new-coder-survey.xlsx\",\n",
    "                                skiprows=2, usecols=col_string)\n",
    "print(survey_responses.columns)"
   ]
  },
  {
   "cell_type": "markdown",
   "metadata": {},
   "source": [
    "## Getting data from multiple worksheets"
   ]
  },
  {
   "cell_type": "markdown",
   "metadata": {},
   "source": [
    "By default read excel pulls data from the first sheet in a workbook only. Appennding of dataframes can be done with for loop if there are more than 2 dataframes."
   ]
  },
  {
   "cell_type": "markdown",
   "metadata": {},
   "source": [
    "### Select a single sheet\n"
   ]
  },
  {
   "cell_type": "code",
   "execution_count": 3,
   "metadata": {
    "scrolled": true
   },
   "outputs": [
    {
     "data": {
      "image/png": "[encoded data removed]",
      "text/plain": [
       "<Figure size 432x288 with 1 Axes>"
      ]
     },
     "metadata": {
      "needs_background": "light"
     },
     "output_type": "display_data"
    },
    {
     "data": {
      "image/png": "[encoded data removed]",
      "text/plain": [
       "<Figure size 432x288 with 1 Axes>"
      ]
     },
     "metadata": {
      "needs_background": "light"
     },
     "output_type": "display_data"
    }
   ],
   "source": [
    "import matplotlib.pyplot as plt\n",
    "\n",
    "responses_2017 = pd.read_excel(\"fcc-new-coder-survey.xlsx\", skiprows=2,sheet_name=1)\n",
    "job_prefs = responses_2017.groupby(\"JobPref\").JobPref.count()\n",
    "job_prefs.plot.barh()\n",
    "plt.show()\n",
    "\n",
    "responses_2017 = pd.read_excel(\"fcc-new-coder-survey.xlsx\", skiprows=2,sheet_name=\"2017\")\n",
    "job_prefs = responses_2017.groupby(\"JobPref\").JobPref.count()\n",
    "job_prefs.plot.barh()\n",
    "plt.show()\n"
   ]
  },
  {
   "cell_type": "markdown",
   "metadata": {},
   "source": [
    "### Select multiple sheets\n"
   ]
  },
  {
   "cell_type": "code",
   "execution_count": 4,
   "metadata": {},
   "outputs": [
    {
     "name": "stdout",
     "output_type": "stream",
     "text": [
      "<class 'dict'>\n",
      "dict_keys([0, '2017'])\n",
      "dict_keys(['2016', '2017'])\n"
     ]
    }
   ],
   "source": [
    "all_survey_data = pd.read_excel(\"fcc-new-coder-survey.xlsx\", skiprows=2,sheet_name=[\"2016\",\"2017\"])\n",
    "print(type(all_survey_data))\n",
    "\n",
    "all_survey_data = pd.read_excel(\"fcc-new-coder-survey.xlsx\", skiprows=2,sheet_name=[0,\"2017\"])\n",
    "print(all_survey_data.keys())\n",
    "\n",
    "all_survey_data = pd.read_excel(\"fcc-new-coder-survey.xlsx\", skiprows=2,sheet_name=None)\n",
    "print(all_survey_data.keys())"
   ]
  },
  {
   "cell_type": "markdown",
   "metadata": {},
   "source": [
    "### Work with multiple spreadsheets"
   ]
  },
  {
   "cell_type": "code",
   "execution_count": 5,
   "metadata": {
    "scrolled": true
   },
   "outputs": [
    {
     "name": "stdout",
     "output_type": "stream",
     "text": [
      "2\n",
      "Adding 1000 row\n",
      "Adding 1000 row\n"
     ]
    },
    {
     "data": {
      "image/png": "[encoded data removed]",
      "text/plain": [
       "<Figure size 432x288 with 1 Axes>"
      ]
     },
     "metadata": {
      "needs_background": "light"
     },
     "output_type": "display_data"
    }
   ],
   "source": [
    "print(len(all_survey_data.values()))\n",
    "\n",
    "all_responses = pd.DataFrame()\n",
    "for df in all_survey_data.values():\n",
    "    print(\"Adding {} row\".format(df.shape[0]))\n",
    "    all_responses = all_responses.append(df)\n",
    "    \n",
    "counts = all_responses.groupby(\"EmploymentStatus\").EmploymentStatus.count()\n",
    "counts.plot.barh()\n",
    "plt.show()"
   ]
  },
  {
   "cell_type": "markdown",
   "metadata": {},
   "source": [
    "## Modifying imports: true/false data"
   ]
  },
  {
   "cell_type": "markdown",
   "metadata": {},
   "source": [
    "### Set Boolean columns"
   ]
  },
  {
   "cell_type": "markdown",
   "metadata": {},
   "source": [
    "Datasets may have columns that are most accurately modeled as Boolean values. However, pandas usually loads these as floats by default, since defaulting to Booleans may have undesired effects like turning NA values into Trues."
   ]
  },
  {
   "cell_type": "code",
   "execution_count": 7,
   "metadata": {},
   "outputs": [
    {
     "name": "stdout",
     "output_type": "stream",
     "text": [
      "HasDebt                     0\n",
      "HasFinancialDependents      9\n",
      "HasHomeMortgage           499\n",
      "HasStudentDebt            502\n",
      "ID.x                        0\n",
      "dtype: int64\n",
      "         HasFinancialDependents  HasHomeMortgage  HasStudentDebt\n",
      "HasDebt                                                         \n",
      "False                     112.0              0.0             0.0\n",
      "True                      205.0            151.0           281.0\n"
     ]
    }
   ],
   "source": [
    "import numpy as np\n",
    "columns = ['ID.x', 'HasDebt', 'HasFinancialDependents', 'HasHomeMortgage', 'HasStudentDebt']\n",
    "survey_data = pd.read_excel(\"fcc-new-coder-survey.xlsx\", skiprows=2, usecols=columns)\n",
    "survey_data[\"HasDebt\"] = survey_data[\"HasDebt\"].replace(np.nan,0)\n",
    "print(survey_data.isna().sum())\n",
    "\n",
    "# survey_data = pd.read_excel(\"fcc-new-coder-survey.xlsx\", skiprows=2, usecols=columns, \n",
    "#                             dtype={\"HasDebt\":bool})\n",
    "survey_data[\"HasDebt\"] = survey_data[\"HasDebt\"].astype(bool)\n",
    "print(survey_data.groupby(\"HasDebt\").sum())"
   ]
  },
  {
   "cell_type": "markdown",
   "metadata": {},
   "source": [
    "### Set custom true/false values"
   ]
  },
  {
   "cell_type": "markdown",
   "metadata": {},
   "source": [
    "In Boolean columns, pandas automatically recognizes certain values, like \"TRUE\" and 1, as True, and others, like \"FALSE\" and 0, as False. Some datasets, like survey data, can use unrecognized values, such as \"Yes\" and \"No\"."
   ]
  },
  {
   "cell_type": "code",
   "execution_count": 8,
   "metadata": {},
   "outputs": [
    {
     "name": "stdout",
     "output_type": "stream",
     "text": [
      "    AttendedBootcamp  HasDebt  HasFinancialDependents  HasHomeMortgage  \\\n",
      "0                 No      1.0                     1.0              0.0   \n",
      "1                 No      0.0                     0.0              NaN   \n",
      "2                 No      0.0                     0.0              NaN   \n",
      "3                 No      1.0                     0.0              0.0   \n",
      "4                 No      1.0                     0.0              0.0   \n",
      "..               ...      ...                     ...              ...   \n",
      "995               No      1.0                     1.0              1.0   \n",
      "996               No      0.0                     0.0              NaN   \n",
      "997               No      0.0                     0.0              NaN   \n",
      "998               No      1.0                     1.0              0.0   \n",
      "999               No      0.0                     1.0              NaN   \n",
      "\n",
      "     HasStudentDebt                              ID.x  \n",
      "0               1.0  cef35615d61b202f1dc794ef2746df14  \n",
      "1               NaN  323e5a113644d18185c743c241407754  \n",
      "2               NaN  b29a1027e5cd062e654a63764157461d  \n",
      "3               1.0  04a11e4bcb573a1261eb0d9948d32637  \n",
      "4               0.0  9368291c93d5d5f5c8cdb1a575e18bec  \n",
      "..              ...                               ...  \n",
      "995             0.0  347a52b64a651e948e6a05f07bbc5b26  \n",
      "996             NaN  d9cb79e9bd84f04a68121ff672d68130  \n",
      "997             NaN  f51daa5c5cdbea79cc335d0adac501ad  \n",
      "998             1.0  216a7b93c6ddaec0f061444ad13770f5  \n",
      "999             NaN  e0124cf3437d87468d8da0d6bcb788c1  \n",
      "\n",
      "[1000 rows x 6 columns]\n",
      "    AttendedBootcamp  HasDebt  HasFinancialDependents  HasHomeMortgage  \\\n",
      "0              False     True                     1.0              0.0   \n",
      "1              False    False                     0.0              NaN   \n",
      "2              False    False                     0.0              NaN   \n",
      "3              False     True                     0.0              0.0   \n",
      "4              False     True                     0.0              0.0   \n",
      "..               ...      ...                     ...              ...   \n",
      "995            False     True                     1.0              1.0   \n",
      "996            False    False                     0.0              NaN   \n",
      "997            False    False                     0.0              NaN   \n",
      "998            False     True                     1.0              0.0   \n",
      "999            False    False                     1.0              NaN   \n",
      "\n",
      "     HasStudentDebt                              ID.x  \n",
      "0               1.0  cef35615d61b202f1dc794ef2746df14  \n",
      "1               NaN  323e5a113644d18185c743c241407754  \n",
      "2               NaN  b29a1027e5cd062e654a63764157461d  \n",
      "3               1.0  04a11e4bcb573a1261eb0d9948d32637  \n",
      "4               0.0  9368291c93d5d5f5c8cdb1a575e18bec  \n",
      "..              ...                               ...  \n",
      "995             0.0  347a52b64a651e948e6a05f07bbc5b26  \n",
      "996             NaN  d9cb79e9bd84f04a68121ff672d68130  \n",
      "997             NaN  f51daa5c5cdbea79cc335d0adac501ad  \n",
      "998             1.0  216a7b93c6ddaec0f061444ad13770f5  \n",
      "999             NaN  e0124cf3437d87468d8da0d6bcb788c1  \n",
      "\n",
      "[1000 rows x 6 columns]\n"
     ]
    }
   ],
   "source": [
    "columns = ['ID.x', 'AttendedBootcamp', 'HasDebt', 'HasFinancialDependents', 'HasHomeMortgage', 'HasStudentDebt']\n",
    "survey_data = pd.read_excel(\"fcc-new-coder-survey.xlsx\", skiprows=2, usecols=columns)\n",
    "survey_data[\"AttendedBootcamp\"]= survey_data[\"AttendedBootcamp\"].replace(np.nan,0.0)\n",
    "survey_data[\"HasDebt\"] = survey_data[\"HasDebt\"].replace(np.nan,0)\n",
    "survey_data[\"AttendedBootcamp\"] =survey_data[\"AttendedBootcamp\"].replace([0.0,1.0],[\"No\",\"Yes\"])\n",
    "print(survey_data)\n",
    "\n",
    "survey_subset = pd.read_csv(\"survey_subset.csv\", dtype={\"HasDebt\": bool,\n",
    "                              \"AttendedBootCampYesNo\": bool},\n",
    "                              true_values=[\"Yes\"],\n",
    "                              false_values=[\"No\"], index_col=0)\n",
    "print(survey_subset)"
   ]
  },
  {
   "cell_type": "markdown",
   "metadata": {},
   "source": [
    "## Modifying imports: parsing dates"
   ]
  },
  {
   "cell_type": "markdown",
   "metadata": {},
   "source": [
    "If the date is non-Standard it can be converted to DateTime by using to_datetime()"
   ]
  },
  {
   "cell_type": "markdown",
   "metadata": {},
   "source": [
    "### Parse simple dates"
   ]
  },
  {
   "cell_type": "code",
   "execution_count": 9,
   "metadata": {},
   "outputs": [
    {
     "data": {
      "text/plain": [
       "0     2016-03-29 21:23:13\n",
       "1     2016-03-29 21:24:59\n",
       "2     2016-03-29 21:25:37\n",
       "3     2016-03-29 21:21:37\n",
       "4     2016-03-29 21:26:22\n",
       "              ...        \n",
       "995   2016-03-30 09:01:28\n",
       "996   2016-03-30 08:59:42\n",
       "997   2016-03-30 09:02:36\n",
       "998   2016-03-30 08:55:15\n",
       "999   2016-03-30 09:03:45\n",
       "Name: Part1StartTime, Length: 1000, dtype: datetime64[ns]"
      ]
     },
     "execution_count": 9,
     "metadata": {},
     "output_type": "execute_result"
    }
   ],
   "source": [
    "survey_data = pd.read_excel(\"fcc-new-coder-survey.xlsx\",skiprows=2, parse_dates=[\"Part1StartTime\"])\n",
    "survey_data[\"Part1StartTime\"]"
   ]
  },
  {
   "cell_type": "markdown",
   "metadata": {},
   "source": [
    "### Get datetimes from multiple columns"
   ]
  },
  {
   "cell_type": "code",
   "execution_count": 10,
   "metadata": {},
   "outputs": [
    {
     "name": "stdout",
     "output_type": "stream",
     "text": [
      "                 Part2Start\n",
      "count                  1000\n",
      "unique                  985\n",
      "top     2016-03-30 01:29:27\n",
      "freq                      2\n",
      "first   2016-03-29 21:24:57\n",
      "last    2016-03-30 09:08:18\n"
     ]
    }
   ],
   "source": [
    "# datetime_cols = survey_data[\"Part2StartTime\"]\n",
    "# a=pd.DataFrame(datetime_cols.str.split().tolist(), columns=[\"Part2StartDate\",\"Part2StartTime\"])\n",
    "# spliting a column into 2 different columns.\n",
    "\n",
    "datetime_cols = {\"Part2Start\": [\"Part2StartDate\", \"Part2StartTime\"]}\n",
    "\n",
    "survey_data = pd.read_excel(\"dates.xlsx\",parse_dates=datetime_cols, index_col=1)\n",
    "print(survey_data.describe())"
   ]
  },
  {
   "cell_type": "markdown",
   "metadata": {},
   "source": [
    "### Parse non-standard date formats"
   ]
  },
  {
   "cell_type": "code",
   "execution_count": 11,
   "metadata": {},
   "outputs": [
    {
     "name": "stdout",
     "output_type": "stream",
     "text": [
      "        Part2Start\n",
      "0  290316 21:24:57\n",
      "1  290316 21:27:14\n",
      "2  290316 21:27:13\n",
      "3  290316 21:28:51\n",
      "4  290316 21:29:32\n"
     ]
    },
    {
     "data": {
      "text/html": [
       "<div>\n",
       "<style scoped>\n",
       "    .dataframe tbody tr th:only-of-type {\n",
       "        vertical-align: middle;\n",
       "    }\n",
       "\n",
       "    .dataframe tbody tr th {\n",
       "        vertical-align: top;\n",
       "    }\n",
       "\n",
       "    .dataframe thead th {\n",
       "        text-align: right;\n",
       "    }\n",
       "</style>\n",
       "<table border=\"1\" class=\"dataframe\">\n",
       "  <thead>\n",
       "    <tr style=\"text-align: right;\">\n",
       "      <th></th>\n",
       "      <th>Part2Start</th>\n",
       "    </tr>\n",
       "  </thead>\n",
       "  <tbody>\n",
       "    <tr>\n",
       "      <th>0</th>\n",
       "      <td>2016-03-29 21:24:57</td>\n",
       "    </tr>\n",
       "    <tr>\n",
       "      <th>1</th>\n",
       "      <td>2016-03-29 21:27:14</td>\n",
       "    </tr>\n",
       "    <tr>\n",
       "      <th>2</th>\n",
       "      <td>2016-03-29 21:27:13</td>\n",
       "    </tr>\n",
       "    <tr>\n",
       "      <th>3</th>\n",
       "      <td>2016-03-29 21:28:51</td>\n",
       "    </tr>\n",
       "    <tr>\n",
       "      <th>4</th>\n",
       "      <td>2016-03-29 21:29:32</td>\n",
       "    </tr>\n",
       "  </tbody>\n",
       "</table>\n",
       "</div>"
      ],
      "text/plain": [
       "           Part2Start\n",
       "0 2016-03-29 21:24:57\n",
       "1 2016-03-29 21:27:14\n",
       "2 2016-03-29 21:27:13\n",
       "3 2016-03-29 21:28:51\n",
       "4 2016-03-29 21:29:32"
      ]
     },
     "execution_count": 11,
     "metadata": {},
     "output_type": "execute_result"
    }
   ],
   "source": [
    "survey_data[\"Part2Start\"]=survey_data[\"Part2Start\"].dt.strftime('%d%m%y %H:%M:%S')\n",
    "print(survey_data.head())\n",
    "\n",
    "survey_data[\"Part2Start\"] = pd.to_datetime(survey_data[\"Part2Start\"], \n",
    "                                           format=\"%d%m%y %H:%M:%S\")\n",
    "survey_data.head()"
   ]
  },
  {
   "cell_type": "code",
   "execution_count": null,
   "metadata": {},
   "outputs": [],
   "source": []
  }
 ],
 "metadata": {
  "kernelspec": {
   "display_name": "Python 3",
   "language": "python",
   "name": "python3"
  },
  "language_info": {
   "codemirror_mode": {
    "name": "ipython",
    "version": 3
   },
   "file_extension": ".py",
   "mimetype": "text/x-python",
   "name": "python",
   "nbconvert_exporter": "python",
   "pygments_lexer": "ipython3",
   "version": "3.8.3"
  }
 },
 "nbformat": 4,
 "nbformat_minor": 4
}
