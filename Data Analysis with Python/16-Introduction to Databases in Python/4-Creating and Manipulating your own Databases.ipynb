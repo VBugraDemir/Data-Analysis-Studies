{
 "cells": [
  {
   "cell_type": "markdown",
   "metadata": {},
   "source": [
    "# Creating and Manipulating your own Databases"
   ]
  },
  {
   "cell_type": "markdown",
   "metadata": {},
   "source": [
    "## Creating databases and tables"
   ]
  },
  {
   "cell_type": "markdown",
   "metadata": {},
   "source": [
    "With sqlite, the create_engine() statement will create a file which creates a database. Once the database is created to update it, raw sql or tools like Alembic is are needed."
   ]
  },
  {
   "cell_type": "markdown",
   "metadata": {},
   "source": [
    "### Creating tables with SQLAlchemy"
   ]
  },
  {
   "cell_type": "code",
   "execution_count": 10,
   "metadata": {},
   "outputs": [
    {
     "name": "stdout",
     "output_type": "stream",
     "text": [
      "Table('data', MetaData(bind=None), Column('name', String(length=255), table=<data>), Column('count', Integer(), table=<data>), Column('amount', Float(), table=<data>), Column('valid', Boolean(), table=<data>), schema=None)\n"
     ]
    }
   ],
   "source": [
    "from sqlalchemy import Table, Column, String, Integer, Float, Boolean, create_engine, MetaData\n",
    "metadata=MetaData()\n",
    "engine = create_engine(\"sqlite:///data.sqlite\")\n",
    "data = Table(\"data\", metadata,\n",
    "            Column(\"name\", String(255)),\n",
    "             Column(\"count\", Integer()),\n",
    "             Column(\"amount\", Float()),\n",
    "            Column(\"valid\", Boolean()))\n",
    "metadata.create_all(engine)\n",
    "print(repr(data))"
   ]
  },
  {
   "cell_type": "markdown",
   "metadata": {},
   "source": [
    "### Constraints and data defaults"
   ]
  },
  {
   "cell_type": "code",
   "execution_count": 12,
   "metadata": {},
   "outputs": [
    {
     "name": "stdout",
     "output_type": "stream",
     "text": [
      "Table('data', MetaData(bind=None), Column('name', String(length=255), table=<data>), Column('count', Integer(), table=<data>, default=ColumnDefault(1)), Column('amount', Float(), table=<data>), Column('valid', Boolean(), table=<data>, default=ColumnDefault(False)), schema=None)\n"
     ]
    }
   ],
   "source": [
    "metadata=MetaData()\n",
    "engine = create_engine(\"sqlite:///data.sqlite\")\n",
    "connection = engine.connect()\n",
    "data = Table(\"data\", metadata,\n",
    "            Column(\"name\", String(255), unique=True),\n",
    "             Column(\"count\", Integer(), default=1),\n",
    "             Column(\"amount\", Float()),\n",
    "            Column(\"valid\", Boolean(), default=False))\n",
    "metadata.create_all(engine)\n",
    "print(repr(metadata.tables[\"data\"]))\n"
   ]
  },
  {
   "cell_type": "markdown",
   "metadata": {},
   "source": [
    "it's time to learn how to insert data into them!"
   ]
  },
  {
   "cell_type": "markdown",
   "metadata": {},
   "source": [
    "## Inserting data into a table"
   ]
  },
  {
   "cell_type": "markdown",
   "metadata": {},
   "source": [
    "### Inserting a single row"
   ]
  },
  {
   "cell_type": "code",
   "execution_count": 13,
   "metadata": {},
   "outputs": [
    {
     "name": "stdout",
     "output_type": "stream",
     "text": [
      "1\n",
      "('Anna', 1, 1000.0, True)\n"
     ]
    }
   ],
   "source": [
    "from sqlalchemy import insert, select\n",
    "\n",
    "insert_stmt = insert(data).values(name=\"Anna\", count=1, amount=1000.00, valid=True)\n",
    "results = connection.execute(insert_stmt)\n",
    "print(results.rowcount)\n",
    "select_stmt = select([data]).where(data.columns.name == \"Anna\")\n",
    "print(connection.execute(select_stmt).first())"
   ]
  },
  {
   "cell_type": "markdown",
   "metadata": {},
   "source": [
    "### Inserting multiple records at once"
   ]
  },
  {
   "cell_type": "markdown",
   "metadata": {},
   "source": [
    "When inserting multiple records at once, you do not use the .values()"
   ]
  },
  {
   "cell_type": "code",
   "execution_count": 14,
   "metadata": {},
   "outputs": [
    {
     "name": "stdout",
     "output_type": "stream",
     "text": [
      "2\n"
     ]
    }
   ],
   "source": [
    "values_list = [\n",
    "    {'name': \"Anne\", 'count': 1, 'amount': 1000.00, 'valid': True},\n",
    "    {'name': \"Taylor\", 'count': 1, 'amount': 750.00, 'valid': False}\n",
    "]\n",
    "\n",
    "stmt = insert(data)\n",
    "results = connection.execute(stmt, values_list)\n",
    "print(results.rowcount)"
   ]
  },
  {
   "cell_type": "markdown",
   "metadata": {},
   "source": [
    "### Loading a CSV into a table\n"
   ]
  },
  {
   "cell_type": "markdown",
   "metadata": {},
   "source": [
    "One way to do that would be to read a CSV file line by line, create a dictionary from each line, and then use insert(). \n",
    "\n",
    "But there is a faster way using pandas."
   ]
  },
  {
   "cell_type": "code",
   "execution_count": 26,
   "metadata": {},
   "outputs": [],
   "source": [
    "import pandas as pd\n",
    "engine = create_engine(\"sqlite:///censusdb.sqlite\")\n",
    "metadata = MetaData()\n",
    "connection = engine.connect()\n",
    "censusdb = Table(\"censusdb\", metadata,\n",
    "                Column(\"state\", String(30)),\n",
    "                Column(\"sex\", String(1)),\n",
    "                Column(\"age\", Integer()),\n",
    "                Column(\"pop2000\", Integer()),\n",
    "                Column(\"pop2008\", Integer()))\n",
    "metadata.create_all(engine)\n",
    "\n",
    "census_df = pd.read_csv(\"census.csv\", index_col=0)\n",
    "census_df.columns = ['state', 'sex', 'age', 'pop2000', 'pop2008']\n",
    "census_df.to_sql(name=\"censusbd\", con=connection, if_exists=\"append\", index=False)"
   ]
  },
  {
   "cell_type": "code",
   "execution_count": 38,
   "metadata": {},
   "outputs": [
    {
     "data": {
      "text/html": [
       "<div>\n",
       "<style scoped>\n",
       "    .dataframe tbody tr th:only-of-type {\n",
       "        vertical-align: middle;\n",
       "    }\n",
       "\n",
       "    .dataframe tbody tr th {\n",
       "        vertical-align: top;\n",
       "    }\n",
       "\n",
       "    .dataframe thead th {\n",
       "        text-align: right;\n",
       "    }\n",
       "</style>\n",
       "<table border=\"1\" class=\"dataframe\">\n",
       "  <thead>\n",
       "    <tr style=\"text-align: right;\">\n",
       "      <th></th>\n",
       "      <th>0</th>\n",
       "      <th>1</th>\n",
       "      <th>2</th>\n",
       "      <th>3</th>\n",
       "      <th>4</th>\n",
       "    </tr>\n",
       "  </thead>\n",
       "  <tbody>\n",
       "    <tr>\n",
       "      <th>0</th>\n",
       "      <td>Illinois</td>\n",
       "      <td>M</td>\n",
       "      <td>0</td>\n",
       "      <td>89600</td>\n",
       "      <td>95012</td>\n",
       "    </tr>\n",
       "    <tr>\n",
       "      <th>1</th>\n",
       "      <td>Illinois</td>\n",
       "      <td>M</td>\n",
       "      <td>1</td>\n",
       "      <td>88445</td>\n",
       "      <td>91829</td>\n",
       "    </tr>\n",
       "    <tr>\n",
       "      <th>2</th>\n",
       "      <td>Illinois</td>\n",
       "      <td>M</td>\n",
       "      <td>2</td>\n",
       "      <td>88729</td>\n",
       "      <td>89547</td>\n",
       "    </tr>\n",
       "    <tr>\n",
       "      <th>3</th>\n",
       "      <td>Illinois</td>\n",
       "      <td>M</td>\n",
       "      <td>3</td>\n",
       "      <td>88868</td>\n",
       "      <td>90037</td>\n",
       "    </tr>\n",
       "    <tr>\n",
       "      <th>4</th>\n",
       "      <td>Illinois</td>\n",
       "      <td>M</td>\n",
       "      <td>4</td>\n",
       "      <td>91947</td>\n",
       "      <td>91111</td>\n",
       "    </tr>\n",
       "    <tr>\n",
       "      <th>...</th>\n",
       "      <td>...</td>\n",
       "      <td>...</td>\n",
       "      <td>...</td>\n",
       "      <td>...</td>\n",
       "      <td>...</td>\n",
       "    </tr>\n",
       "    <tr>\n",
       "      <th>8767</th>\n",
       "      <td>Texas</td>\n",
       "      <td>F</td>\n",
       "      <td>81</td>\n",
       "      <td>35378</td>\n",
       "      <td>44418</td>\n",
       "    </tr>\n",
       "    <tr>\n",
       "      <th>8768</th>\n",
       "      <td>Texas</td>\n",
       "      <td>F</td>\n",
       "      <td>82</td>\n",
       "      <td>33852</td>\n",
       "      <td>41838</td>\n",
       "    </tr>\n",
       "    <tr>\n",
       "      <th>8769</th>\n",
       "      <td>Texas</td>\n",
       "      <td>F</td>\n",
       "      <td>83</td>\n",
       "      <td>30076</td>\n",
       "      <td>40489</td>\n",
       "    </tr>\n",
       "    <tr>\n",
       "      <th>8770</th>\n",
       "      <td>Texas</td>\n",
       "      <td>F</td>\n",
       "      <td>84</td>\n",
       "      <td>27961</td>\n",
       "      <td>36821</td>\n",
       "    </tr>\n",
       "    <tr>\n",
       "      <th>8771</th>\n",
       "      <td>Texas</td>\n",
       "      <td>F</td>\n",
       "      <td>85</td>\n",
       "      <td>171538</td>\n",
       "      <td>223439</td>\n",
       "    </tr>\n",
       "  </tbody>\n",
       "</table>\n",
       "<p>8772 rows × 5 columns</p>\n",
       "</div>"
      ],
      "text/plain": [
       "             0  1   2       3       4\n",
       "0     Illinois  M   0   89600   95012\n",
       "1     Illinois  M   1   88445   91829\n",
       "2     Illinois  M   2   88729   89547\n",
       "3     Illinois  M   3   88868   90037\n",
       "4     Illinois  M   4   91947   91111\n",
       "...        ... ..  ..     ...     ...\n",
       "8767     Texas  F  81   35378   44418\n",
       "8768     Texas  F  82   33852   41838\n",
       "8769     Texas  F  83   30076   40489\n",
       "8770     Texas  F  84   27961   36821\n",
       "8771     Texas  F  85  171538  223439\n",
       "\n",
       "[8772 rows x 5 columns]"
      ]
     },
     "execution_count": 38,
     "metadata": {},
     "output_type": "execute_result"
    }
   ],
   "source": [
    "engine = create_engine(\"sqlite:///censusdb.sqlite\")\n",
    "\n",
    "metadata = MetaData()\n",
    "census= Table(\"census\", metadata, autoload=True, autoload_with=engine)\n",
    "\n",
    "stmt = select([census])\n",
    "results = engine.execute(stmt).fetchall()\n",
    "pd.DataFrame(results)"
   ]
  },
  {
   "cell_type": "markdown",
   "metadata": {},
   "source": [
    "## Updating data in a table"
   ]
  },
  {
   "cell_type": "markdown",
   "metadata": {},
   "source": [
    "Correlated update: Using a select statement to get the value to be used in an update"
   ]
  },
  {
   "cell_type": "markdown",
   "metadata": {},
   "source": [
    "### Updating individual records"
   ]
  },
  {
   "cell_type": "code",
   "execution_count": 35,
   "metadata": {},
   "outputs": [
    {
     "name": "stdout",
     "output_type": "stream",
     "text": [
      "[('32', 'New York', 'NY', 'USA', 'state', '10', 'current', 'occupied', '', '36', 'N.Y.', 'II', '1', 'Northeast', '2', 'Mid-Atlantic', '2')]\n",
      "36\n",
      "[('32', 'New York', 'NY', 'USA', 'state', '10', 'current', 'occupied', '', '0', 'N.Y.', 'II', '1', 'Northeast', '2', 'Mid-Atlantic', '2')]\n",
      "0\n"
     ]
    }
   ],
   "source": [
    "from sqlalchemy import update\n",
    "engine = create_engine(\"sqlite:///censusupdate.sqlite\")\n",
    "metadata = MetaData()\n",
    "connection = engine.connect()\n",
    "state_fact = Table(\"state_fact\", metadata, autoload=True, autoload_with=engine)\n",
    "\n",
    "select_stmt = select([state_fact]).where(state_fact.columns.name==\"New York\")\n",
    "\n",
    "\n",
    "results = connection.execute(select_stmt).fetchall()\n",
    "print(results)\n",
    "print(results[0][\"fips_state\"])\n",
    "\n",
    "update_stmt = update(state_fact).values(fips_state = 0)\n",
    "update_stmt = update_stmt.where(state_fact.columns.name == \"New York\")\n",
    "update_results = connection.execute(update_stmt)\n",
    "\n",
    "select_stmt = select([state_fact]).where(state_fact.columns.name==\"New York\")\n",
    "\n",
    "\n",
    "results = connection.execute(select_stmt).fetchall()\n",
    "print(results)\n",
    "print(results[0][\"fips_state\"])"
   ]
  },
  {
   "cell_type": "markdown",
   "metadata": {},
   "source": [
    "### Updating multiple records"
   ]
  },
  {
   "cell_type": "markdown",
   "metadata": {},
   "source": [
    "updating multiple records works exactly the same way as updating a single record (as long as you are updating them with the same value)."
   ]
  },
  {
   "cell_type": "code",
   "execution_count": 54,
   "metadata": {},
   "outputs": [
    {
     "name": "stdout",
     "output_type": "stream",
     "text": [
      "[('',), ('',), ('',), ('',), ('',), ('',), ('',), ('',), ('',), ('',), ('',), ('',), ('',), ('',), ('',), ('',), ('',), ('',), ('',), ('',), ('',), ('',), ('',), ('',), ('',), ('',), ('',), ('',), ('',), ('',), ('',), ('',), ('',), ('',), ('',), ('',), ('',), ('',), ('',), ('',), ('',), ('',), ('',), ('',), ('',), ('',), ('',), ('',), ('',), ('',), ('',)]\n",
      "13\n",
      "[('',), ('',), ('',), ('The Wild West',), ('',), ('',), ('The Wild West',), ('',), ('The Wild West',), ('The Wild West',), ('',), ('',), ('The Wild West',), ('',), ('',), ('The Wild West',), ('',), ('',), ('',), ('',), ('',), ('',), ('',), ('The Wild West',), ('',), ('',), ('',), ('',), ('',), ('The Wild West',), ('',), ('',), ('',), ('',), ('',), ('',), ('The Wild West',), ('The Wild West',), ('The Wild West',), ('',), ('',), ('',), ('',), ('',), ('The Wild West',), ('',), ('',), ('',), ('',), ('The Wild West',), ('',)]\n"
     ]
    }
   ],
   "source": [
    "select_stmt = select([state_fact.columns.notes])\n",
    "\n",
    "results = connection.execute(select_stmt).fetchall()\n",
    "print(results)\n",
    "\n",
    "\n",
    "stmt = update(state_fact).values(notes=\"The Wild West\")\n",
    "stmt_west = stmt.where(state_fact.columns.census_region_name==\"West\")\n",
    "results = connection.execute(stmt_west)\n",
    "print(results.rowcount)\n",
    "\n",
    "select_stmt = select([state_fact.columns.notes])\n",
    "\n",
    "results = connection.execute(select_stmt).fetchall()\n",
    "print(results)"
   ]
  },
  {
   "cell_type": "markdown",
   "metadata": {},
   "source": [
    "### Correlated updates"
   ]
  },
  {
   "cell_type": "markdown",
   "metadata": {},
   "source": [
    "Records can also be updated with data from a select statement. It works by defining a select statement that returns the value you want to update the record with and assigning that select statement as the value in update."
   ]
  },
  {
   "cell_type": "code",
   "execution_count": 114,
   "metadata": {},
   "outputs": [
    {
     "name": "stdout",
     "output_type": "stream",
     "text": [
      "[('Illinois', '17'), ('New Jersey', '34'), ('North Dakota', '38'), ('Oregon', '41'), ('Washington DC', '11'), ('Wisconsin', '55'), ('Arizona', '4'), ('Arkansas', '5'), ('Colorado', '8'), ('Hawaii', '15'), ('Kansas', '20'), ('Louisiana', '22'), ('Montana', '30'), ('Nebraska', '31'), ('Oklahoma', '40'), ('Idaho', '16'), ('Massachusetts', '25'), ('Michigan', '26'), ('Missouri', '29'), ('North Carolina', '37'), ('Ohio', '39'), ('Rhode Island', '44'), ('South Carolina', '45'), ('Wyoming', '56'), ('Indiana', '18'), ('Pennsylvania', '42'), ('South Dakota', '46'), ('Tennessee', '47'), ('Vermont', '50'), ('Alaska', '2'), ('Delaware', '10'), ('Kentucky', '21'), ('Mississippi', '28'), ('Virginia', '51'), ('Florida', '12'), ('Maryland', '24'), ('Nevada', '32'), ('Washington', '53'), ('California', '6'), ('Connecticut', '9'), ('Georgia', '13'), ('Iowa', '19'), ('Maine', '23'), ('New Hampshire', '33'), ('New Mexico', '35'), ('Texas', '48'), ('Alabama', '1'), ('Minnesota', '27'), ('New York', '36'), ('Utah', '49'), ('West Virginia', '54')]\n"
     ]
    }
   ],
   "source": [
    "# taking data from state_fact\n",
    "\n",
    "# engine = create_engine(\"sqlite:///census.sqlite\")\n",
    "# metadata = MetaData()\n",
    "# connection = engine.connect()\n",
    "# state_fact = Table(\"state_fact\", metadata, autoload=True, autoload_with=engine)\n",
    "\n",
    "# st = select([state_fact])\n",
    "# r = connection.execute(st).fetchall()\n",
    "# df = pd.DataFrame(r)\n",
    "# df.columns = state_fact.columns.keys()\n",
    "# df = df[[\"name\", \"fips_state\"]]\n",
    "# df.to_csv(\"state_fact.csv\")\n",
    "\n",
    "# Creating database with 2 tables to connect them at the same time since you cannot \n",
    "# connect 2 table from different databases.\n",
    "\n",
    "# engine = create_engine(\"sqlite:///correlated.sqlite\")\n",
    "# metadata = MetaData()\n",
    "# connection = engine.connect()\n",
    "# state_fact = Table(\"state_fact\", metadata,\n",
    "#                 Column(\"name\", String(length=256)),\n",
    "#                 Column(\"fips_state\", String(length=256)))\n",
    "\n",
    "# flat_census = Table(\"flat_census\", metadata,\n",
    "#                 Column(\"state_name\", String(length=256)),\n",
    "#                 Column(\"fips_code\", String(length=256)))\n",
    "\n",
    "# metadata.create_all(engine)\n",
    "\n",
    "# loading csv files to the database\n",
    "# flat_censusdf= pd.read_csv(\"flat_census.csv\",index_col=0)\n",
    "# flat_censusdf.to_sql(name=\"flat_census\", con=connection, if_exists=\"append\", index=False,index_label='fips_code')\n",
    "\n",
    "# state_factdf= pd.read_csv(\"state_fact.csv\", index_col=0)\n",
    "# state_factdf.to_sql(name=\"state_fact\", con=connection, if_exists=\"append\", index=False)\n",
    "\n",
    "# Checking the records in the database.\n",
    "# flat_census = Table(\"flat_census\", metadata, autoload=True, autoload_with=engine)\n",
    "\n",
    "# s = select([flat_census])\n",
    "# r = connection.execute(s).fetchall()\n",
    "# r\n",
    "\n",
    "# state_fact = Table(\"state_fact\", metadata, autoload=True, autoload_with=engine)\n",
    "\n",
    "# s = select([state_fact])\n",
    "# r = connection.execute(s).fetchall()\n",
    "# r\n",
    "\n",
    "# engine = create_engine(\"sqlite:///correlated1.sqlite\")\n",
    "# metadata = MetaData()\n",
    "# connection = engine.connect()\n",
    "# flat_census = Table(\"flat_census\", metadata, autoload=True, autoload_with=engine)\n",
    "# state_fact = Table(\"state_fact\", metadata, autoload=True, autoload_with=engine)\n",
    "\n",
    "# empty values of the table\n",
    "# stmt = select([flat_census.columns.state_name])\n",
    "# result = connection.execute(stmt).fetchall()\n",
    "# print(result)\n",
    "\n",
    "fips_stmt = select([state_fact.columns.name])\n",
    "fips_stmt = fips_stmt.where(state_fact.columns.fips_state == flat_census.columns.fips_code)\n",
    "update_stmt = update(flat_census).values(state_name=fips_stmt)\n",
    "results = connection.execute(update_stmt)\n",
    "print(results.rowcount)\n",
    "\n",
    "# values after updating\n",
    "st = select([flat_census])\n",
    "results = connection.execute(st).fetchall()\n",
    "print(results)"
   ]
  },
  {
   "cell_type": "markdown",
   "metadata": {},
   "source": [
    "## Deleting data from a database"
   ]
  },
  {
   "cell_type": "markdown",
   "metadata": {},
   "source": [
    "The delete statement targets a table and uses a where clause to determine which row to delete.\n",
    "\n",
    "Drop deletes the table from the database."
   ]
  },
  {
   "cell_type": "markdown",
   "metadata": {},
   "source": [
    "### Deleting all the records from a table\n"
   ]
  },
  {
   "cell_type": "code",
   "execution_count": 4,
   "metadata": {},
   "outputs": [
    {
     "name": "stdout",
     "output_type": "stream",
     "text": [
      "8772\n",
      "[]\n"
     ]
    }
   ],
   "source": [
    "from sqlalchemy import delete\n",
    "engine = create_engine(\"sqlite:///censusdeleteall.sqlite\")\n",
    "metadata = MetaData()\n",
    "connection = engine.connect()\n",
    "census = Table(\"census\", metadata, autoload=True, autoload_with=engine)\n",
    "\n",
    "delete_stmt = delete(census)\n",
    "results = connection.execute(delete_stmt)\n",
    "print(results.rowcount)\n",
    "select_stmt = select([census])\n",
    "print(connection.execute(select_stmt).fetchall())"
   ]
  },
  {
   "cell_type": "markdown",
   "metadata": {},
   "source": [
    "empty a table of all of its records so you can reload the data. "
   ]
  },
  {
   "cell_type": "markdown",
   "metadata": {},
   "source": [
    "### Deleting specific records"
   ]
  },
  {
   "cell_type": "code",
   "execution_count": 12,
   "metadata": {},
   "outputs": [
    {
     "name": "stdout",
     "output_type": "stream",
     "text": [
      "51 51\n"
     ]
    }
   ],
   "source": [
    "from sqlalchemy import func\n",
    "from sqlalchemy import and_\n",
    "engine = create_engine(\"sqlite:///census_specific.sqlite\")\n",
    "metadata = MetaData()\n",
    "connection = engine.connect()\n",
    "census = Table(\"census\", metadata, autoload=True, autoload_with=engine)\n",
    "\n",
    "count_stmt = select([func.count(census.columns.sex)]).where(and_(census.columns.sex==\"M\",\n",
    "                                                                census.columns.age == 36))\n",
    "\n",
    "to_delete = connection.execute(count_stmt).scalar()\n",
    "delete_stmt = delete(census)\n",
    "delete_stmt = delete_stmt.where(and_(census.columns.sex == \"M\",\n",
    "                                    census.columns.age ==36))\n",
    "results = connection.execute(delete_stmt)\n",
    "print(results.rowcount, to_delete)"
   ]
  },
  {
   "cell_type": "markdown",
   "metadata": {},
   "source": [
    "You may frequently be required to remove specific records from a table, like in this case."
   ]
  },
  {
   "cell_type": "markdown",
   "metadata": {},
   "source": [
    "### Deleting a table completely"
   ]
  },
  {
   "cell_type": "markdown",
   "metadata": {},
   "source": [
    "Dropping individual tables from a database with the .drop() method, as well as all tables in a database with the .drop_all() method.\n",
    "\n",
    "You can check to see if a table exists on an engine with the .exists(engine) method.\n"
   ]
  },
  {
   "cell_type": "code",
   "execution_count": 21,
   "metadata": {},
   "outputs": [
    {
     "name": "stdout",
     "output_type": "stream",
     "text": [
      "True\n",
      "False\n",
      "False\n"
     ]
    }
   ],
   "source": [
    "engine = create_engine(\"sqlite:///censusdrop.sqlite\")\n",
    "metadata = MetaData()\n",
    "connection = engine.connect()\n",
    "census = Table(\"census\", metadata, autoload=True, autoload_with=engine)\n",
    "state_fact = Table(\"state_fact\", metadata, autoload=True, autoload_with=engine)\n",
    "\n",
    "print(state_fact.exists(engine))\n",
    "state_fact.drop(engine)\n",
    "print(state_fact.exists(engine))\n",
    "\n",
    "metadata.drop_all(engine)\n",
    "print(census.exists(engine))"
   ]
  },
  {
   "cell_type": "code",
   "execution_count": 25,
   "metadata": {},
   "outputs": [
    {
     "data": {
      "text/plain": [
       "[]"
      ]
     },
     "execution_count": 25,
     "metadata": {},
     "output_type": "execute_result"
    }
   ],
   "source": [
    "engine.table_names()"
   ]
  },
  {
   "cell_type": "code",
   "execution_count": null,
   "metadata": {},
   "outputs": [],
   "source": []
  }
 ],
 "metadata": {
  "kernelspec": {
   "display_name": "Python 3",
   "language": "python",
   "name": "python3"
  },
  "language_info": {
   "codemirror_mode": {
    "name": "ipython",
    "version": 3
   },
   "file_extension": ".py",
   "mimetype": "text/x-python",
   "name": "python",
   "nbconvert_exporter": "python",
   "pygments_lexer": "ipython3",
   "version": "3.8.3"
  }
 },
 "nbformat": 4,
 "nbformat_minor": 4
}
