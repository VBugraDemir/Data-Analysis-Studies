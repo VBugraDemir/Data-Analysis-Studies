{
 "cells": [
  {
   "cell_type": "markdown",
   "metadata": {},
   "source": [
    "# Putting it all together"
   ]
  },
  {
   "cell_type": "markdown",
   "metadata": {},
   "source": [
    "## Census case study"
   ]
  },
  {
   "cell_type": "markdown",
   "metadata": {},
   "source": [
    "* Preparearing SQLAlchemy and the database.\n",
    "* Loading data into the database\n",
    "* Solving data science problems with queries.\n"
   ]
  },
  {
   "cell_type": "markdown",
   "metadata": {},
   "source": [
    "### Setup the engine and metadata\n"
   ]
  },
  {
   "cell_type": "code",
   "execution_count": 2,
   "metadata": {},
   "outputs": [],
   "source": [
    "from sqlalchemy import create_engine, MetaData\n",
    "engine = create_engine(\"sqlite:///chapter5.sqlite\")\n",
    "metadata = MetaData()"
   ]
  },
  {
   "cell_type": "markdown",
   "metadata": {},
   "source": [
    "### Create the table to the database"
   ]
  },
  {
   "cell_type": "code",
   "execution_count": 4,
   "metadata": {},
   "outputs": [],
   "source": [
    "from sqlalchemy import Table, Column, String, Integer\n",
    "census = Table(\"census\", metadata,\n",
    "              Column(\"state\", String(30)),\n",
    "              Column(\"sex\", String(1)),\n",
    "              Column(\"age\", Integer()),\n",
    "              Column(\"pop2000\", Integer()),\n",
    "              Column(\"pop2008\", Integer()))\n",
    "metadata.create_all(engine)"
   ]
  },
  {
   "cell_type": "markdown",
   "metadata": {},
   "source": [
    "## Populating the database"
   ]
  },
  {
   "cell_type": "markdown",
   "metadata": {},
   "source": [
    "### Reading the data from the CSV"
   ]
  },
  {
   "cell_type": "code",
   "execution_count": 25,
   "metadata": {
    "scrolled": false
   },
   "outputs": [],
   "source": [
    "import csv\n",
    "f = open(\"census.csv\", \"r\")\n",
    "csv_reader = csv.reader(f)\n",
    "next(csv_reader)\n",
    "values_list = []\n",
    "for row in csv_reader:\n",
    "    data = {\"state\":row[1], \"sex\":row[2], \"age\":row[3], \"pop2000\":row[4], \"pop2008\":row[5]}\n",
    "    values_list.append(data)"
   ]
  },
  {
   "cell_type": "markdown",
   "metadata": {},
   "source": [
    "### Load data from a list into the Table"
   ]
  },
  {
   "cell_type": "code",
   "execution_count": 29,
   "metadata": {},
   "outputs": [
    {
     "name": "stdout",
     "output_type": "stream",
     "text": [
      "8772\n"
     ]
    }
   ],
   "source": [
    "from sqlalchemy import insert\n",
    "connection = engine.connect()\n",
    "stmt = insert(census)\n",
    "results = connection.execute(stmt, values_list)\n",
    "print(results.rowcount)"
   ]
  },
  {
   "cell_type": "markdown",
   "metadata": {},
   "source": [
    "## Querying the database"
   ]
  },
  {
   "cell_type": "code",
   "execution_count": 43,
   "metadata": {},
   "outputs": [
    {
     "name": "stdout",
     "output_type": "stream",
     "text": [
      "F 37\n",
      "M 34\n"
     ]
    }
   ],
   "source": [
    "from sqlalchemy import select, func\n",
    "\n",
    "stmt = select([(func.sum(census.columns.age * census.columns.pop2000) / \n",
    "              func.sum(census.columns.pop2000)).label(\"average_age\"), census.columns.sex])\n",
    "stmt = stmt.group_by(census.columns.sex)\n",
    "results= connection.execute(stmt).fetchall()\n",
    "for record in results:\n",
    "    print(record.sex, record.average_age)"
   ]
  },
  {
   "cell_type": "markdown",
   "metadata": {},
   "source": [
    "### Determine the percentage of population by gender and state\n"
   ]
  },
  {
   "cell_type": "code",
   "execution_count": 50,
   "metadata": {},
   "outputs": [
    {
     "name": "stdout",
     "output_type": "stream",
     "text": [
      "District of Columbia 53.129626141738385\n",
      "Rhode Island 52.07343391902215\n",
      "Maryland 51.93575549972231\n",
      "Mississippi 51.92229481794672\n",
      "Massachusetts 51.843023571316785\n",
      "New York 51.83453865150073\n",
      "Alabama 51.832407770179465\n",
      "Louisiana 51.75351596554121\n",
      "Pennsylvania 51.74043473051053\n",
      "South Carolina 51.73072129765755\n",
      "Connecticut 51.66816507130644\n",
      "Virginia 51.657252447241795\n",
      "Delaware 51.61109733558627\n",
      "New Jersey 51.51713956125773\n",
      "Maine 51.50570813418951\n",
      "North Carolina 51.482262322084594\n",
      "Missouri 51.46888602639692\n",
      "Ohio 51.46550350015544\n",
      "Tennessee 51.430689699449275\n",
      "West Virginia 51.40042318092286\n",
      "Florida 51.36488001165242\n",
      "Kentucky 51.32687036927168\n",
      "Arkansas 51.26992846221834\n",
      "Hawaii 51.118011836915514\n",
      "Georgia 51.11408350339436\n",
      "Oklahoma 51.11362457075227\n",
      "Illinois 51.11224234802867\n",
      "New Mexico 51.0471720798335\n",
      "Vermont 51.018573209949466\n",
      "Michigan 50.97246518318712\n",
      "Indiana 50.95480313297678\n",
      "Iowa 50.950398342534264\n",
      "Nebraska 50.8584549336086\n",
      "New Hampshire 50.858019844961746\n",
      "Kansas 50.821864107754735\n",
      "Wisconsin 50.61486452653393\n",
      "South Dakota 50.52583581373275\n",
      "Washington 50.518565087218334\n",
      "Texas 50.515721664207966\n",
      "North Dakota 50.50069363231332\n",
      "Minnesota 50.49332944301148\n",
      "Oregon 50.4294670361772\n",
      "California 50.35233214901979\n",
      "Montana 50.32202690728538\n",
      "Arizona 50.22361303057914\n",
      "Idaho 49.98972623903102\n",
      "Utah 49.97295275106927\n",
      "Wyoming 49.94595542648306\n",
      "Colorado 49.84767060299562\n",
      "Nevada 49.36736361384359\n",
      "Alaska 49.301497893484594\n"
     ]
    }
   ],
   "source": [
    "from sqlalchemy import case, cast, Float, desc\n",
    "\n",
    "stmt = select([census.columns.state, (func.sum(case([(\n",
    "    census.columns.sex == \"F\", census.columns.pop2000)], else_=0)) / \n",
    "                                     cast(func.sum(\n",
    "                                     census.columns.pop2000), Float) *\n",
    "                                     100).label(\"percent_female\")])\n",
    "stmt = stmt.group_by(census.columns.state)\n",
    "stmt = stmt.order_by(desc(\"percent_female\"))\n",
    "results = connection.execute(stmt).fetchall()\n",
    "for result in results:\n",
    "    print(result.state, result.percent_female)"
   ]
  },
  {
   "cell_type": "markdown",
   "metadata": {},
   "source": [
    "### Determine the difference by state from the 2000 and 2008 censuses"
   ]
  },
  {
   "cell_type": "code",
   "execution_count": 133,
   "metadata": {},
   "outputs": [
    {
     "name": "stdout",
     "output_type": "stream",
     "text": [
      "Texas: 3383317\n",
      "California: 2779560\n",
      "Florida: 2281569\n",
      "Georgia: 1460732\n",
      "Arizona: 1336836\n",
      "North Carolina: 1143025\n",
      "Virginia: 693112\n",
      "Washington: 638917\n",
      "Colorado: 612070\n",
      "Nevada: 577131\n"
     ]
    }
   ],
   "source": [
    "# since it was logically wrong i fixed the issue here.\n",
    "\n",
    "stmt = select([census.columns.state, (func.sum(census.columns.pop2008) -\n",
    "                                     func.sum(census.columns.pop2000)).label(\"pop_change\")])\n",
    "stmt = stmt.group_by(census.columns.state)\n",
    "stmt = stmt.order_by(desc(\"pop_change\"))\n",
    "stmt = stmt.limit(10)\n",
    "results = connection.execute(stmt).fetchall()\n",
    "for result in results:\n",
    "    print('{}: {}'.format(result.state, result.pop_change))"
   ]
  },
  {
   "cell_type": "code",
   "execution_count": null,
   "metadata": {},
   "outputs": [],
   "source": []
  }
 ],
 "metadata": {
  "kernelspec": {
   "display_name": "Python 3",
   "language": "python",
   "name": "python3"
  },
  "language_info": {
   "codemirror_mode": {
    "name": "ipython",
    "version": 3
   },
   "file_extension": ".py",
   "mimetype": "text/x-python",
   "name": "python",
   "nbconvert_exporter": "python",
   "pygments_lexer": "ipython3",
   "version": "3.8.3"
  }
 },
 "nbformat": 4,
 "nbformat_minor": 4
}
