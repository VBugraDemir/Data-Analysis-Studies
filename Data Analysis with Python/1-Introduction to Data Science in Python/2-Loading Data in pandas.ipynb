{
 "cells": [
  {
   "cell_type": "markdown",
   "metadata": {},
   "source": [
    "# Loading Data in pandas"
   ]
  },
  {
   "cell_type": "markdown",
   "metadata": {},
   "source": [
    "CSV version of data can be downloaded from an Excel spreadsheet, a SQL database or a Google Sheet."
   ]
  },
  {
   "cell_type": "markdown",
   "metadata": {},
   "source": [
    "### Loading a DataFrame"
   ]
  },
  {
   "cell_type": "code",
   "execution_count": 113,
   "metadata": {},
   "outputs": [
    {
     "name": "stdout",
     "output_type": "stream",
     "text": [
      "            suspect         location             date         item  price\n",
      "0    Kirstine Smith   Groceries R Us   January 6 2018     broccoli   1.25\n",
      "1      Gertrude Cox  Petroleum Plaza   January 6 2018  fizzy drink   1.90\n",
      "2  Fred Frequentist   Groceries R Us   January 6 2018     broccoli   1.25\n",
      "3      Gertrude Cox   Groceries R Us  January 12 2018     broccoli   1.25\n",
      "4    Kirstine Smith    Clothing Club   January 9 2018        shirt  14.25\n"
     ]
    }
   ],
   "source": [
    "import pandas as pd\n",
    "credit_records = pd.read_csv(\"credit_records.csv\", index_col=0)\n",
    "print(credit_records.head())"
   ]
  },
  {
   "cell_type": "markdown",
   "metadata": {},
   "source": [
    "### Inspecting a DataFrame"
   ]
  },
  {
   "cell_type": "code",
   "execution_count": 60,
   "metadata": {},
   "outputs": [
    {
     "name": "stdout",
     "output_type": "stream",
     "text": [
      "<class 'pandas.core.frame.DataFrame'>\n",
      "Int64Index: 104 entries, 0 to 103\n",
      "Data columns (total 5 columns):\n",
      " #   Column    Non-Null Count  Dtype  \n",
      "---  ------    --------------  -----  \n",
      " 0   suspect   104 non-null    object \n",
      " 1   location  104 non-null    object \n",
      " 2   date      104 non-null    object \n",
      " 3   item      104 non-null    object \n",
      " 4   price     104 non-null    float64\n",
      "dtypes: float64(1), object(4)\n",
      "memory usage: 4.9+ KB\n",
      "None\n"
     ]
    }
   ],
   "source": [
    "print(credit_records.info())"
   ]
  },
  {
   "cell_type": "markdown",
   "metadata": {},
   "source": [
    "# Selecting columns"
   ]
  },
  {
   "cell_type": "code",
   "execution_count": 61,
   "metadata": {},
   "outputs": [
    {
     "data": {
      "text/plain": [
       "908.9000000000001"
      ]
     },
     "execution_count": 61,
     "metadata": {},
     "output_type": "execute_result"
    }
   ],
   "source": [
    "credit_records.price.sum()"
   ]
  },
  {
   "cell_type": "markdown",
   "metadata": {},
   "source": [
    "### Two methods for selecting columns"
   ]
  },
  {
   "cell_type": "code",
   "execution_count": 78,
   "metadata": {},
   "outputs": [
    {
     "name": "stdout",
     "output_type": "stream",
     "text": [
      "0         broccoli\n",
      "1      fizzy drink\n",
      "2         broccoli\n",
      "3         broccoli\n",
      "4            shirt\n",
      "          ...     \n",
      "99           shirt\n",
      "100          pants\n",
      "101          dress\n",
      "102         burger\n",
      "103      cucumbers\n",
      "Name: item, Length: 104, dtype: object\n",
      "0         broccoli\n",
      "1      fizzy drink\n",
      "2         broccoli\n",
      "3         broccoli\n",
      "4            shirt\n",
      "          ...     \n",
      "99           shirt\n",
      "100          pants\n",
      "101          dress\n",
      "102         burger\n",
      "103      cucumbers\n",
      "Name: item, Length: 104, dtype: object\n"
     ]
    }
   ],
   "source": [
    "items = credit_records[\"item\"]\n",
    "print(items)\n",
    "\n",
    "items = credit_records.item\n",
    "print(items)"
   ]
  },
  {
   "cell_type": "markdown",
   "metadata": {},
   "source": [
    "### More column selection mistakes"
   ]
  },
  {
   "cell_type": "code",
   "execution_count": 82,
   "metadata": {},
   "outputs": [
    {
     "name": "stdout",
     "output_type": "stream",
     "text": [
      "<class 'pandas.core.frame.DataFrame'>\n",
      "Int64Index: 6 entries, 0 to 5\n",
      "Data columns (total 5 columns):\n",
      " #   Column      Non-Null Count  Dtype \n",
      "---  ------      --------------  ----- \n",
      " 0   Dog Name    6 non-null      object\n",
      " 1   Owner Name  5 non-null      object\n",
      " 2   Dog Breed   6 non-null      object\n",
      " 3   Status      6 non-null      object\n",
      " 4   Age         6 non-null      int64 \n",
      "dtypes: int64(1), object(4)\n",
      "memory usage: 288.0+ bytes\n",
      "None\n",
      "0      Bayes\n",
      "1    Sigmoid\n",
      "2     Sparky\n",
      "3    Theorem\n",
      "4        Ned\n",
      "5      Benny\n",
      "Name: Dog Name, dtype: object\n",
      "0    Still Missing\n",
      "1    Still Missing\n",
      "2            Found\n",
      "3            Found\n",
      "4    Still Missing\n",
      "5            Found\n",
      "Name: Status, dtype: object\n"
     ]
    }
   ],
   "source": [
    "mpr = pd.read_csv(\"mpr.csv\", index_col=0)\n",
    "print(mpr.info())\n",
    "\n",
    "name = mpr[\"Dog Name\"]\n",
    "\n",
    "is_missing = mpr[\"Status\"]\n",
    "\n",
    "print(name)\n",
    "print(is_missing)"
   ]
  },
  {
   "cell_type": "markdown",
   "metadata": {},
   "source": [
    "## Selecting rows with logic"
   ]
  },
  {
   "cell_type": "markdown",
   "metadata": {},
   "source": [
    "### Logical testing"
   ]
  },
  {
   "cell_type": "code",
   "execution_count": 83,
   "metadata": {},
   "outputs": [
    {
     "name": "stdout",
     "output_type": "stream",
     "text": [
      "False\n",
      "True\n",
      "True\n"
     ]
    }
   ],
   "source": [
    "height_inches = 65\n",
    "plate1 = \"FRQ123\"\n",
    "fur_color = \"blonde\"\n",
    "\n",
    "print(height_inches > 70)\n",
    "print(plate1 == \"FRQ123\")\n",
    "print(fur_color != \"brown\")"
   ]
  },
  {
   "cell_type": "markdown",
   "metadata": {},
   "source": [
    "### Selecting missing puppies"
   ]
  },
  {
   "cell_type": "code",
   "execution_count": 84,
   "metadata": {},
   "outputs": [
    {
     "data": {
      "text/html": [
       "<div>\n",
       "<style scoped>\n",
       "    .dataframe tbody tr th:only-of-type {\n",
       "        vertical-align: middle;\n",
       "    }\n",
       "\n",
       "    .dataframe tbody tr th {\n",
       "        vertical-align: top;\n",
       "    }\n",
       "\n",
       "    .dataframe thead th {\n",
       "        text-align: right;\n",
       "    }\n",
       "</style>\n",
       "<table border=\"1\" class=\"dataframe\">\n",
       "  <thead>\n",
       "    <tr style=\"text-align: right;\">\n",
       "      <th></th>\n",
       "      <th>Dog Name</th>\n",
       "      <th>Owner Name</th>\n",
       "      <th>Dog Breed</th>\n",
       "      <th>Status</th>\n",
       "      <th>Age</th>\n",
       "    </tr>\n",
       "  </thead>\n",
       "  <tbody>\n",
       "    <tr>\n",
       "      <th>0</th>\n",
       "      <td>Bayes</td>\n",
       "      <td>DataCamp</td>\n",
       "      <td>Golden Retriever</td>\n",
       "      <td>Still Missing</td>\n",
       "      <td>1</td>\n",
       "    </tr>\n",
       "    <tr>\n",
       "      <th>1</th>\n",
       "      <td>Sigmoid</td>\n",
       "      <td>NaN</td>\n",
       "      <td>Dachshund</td>\n",
       "      <td>Still Missing</td>\n",
       "      <td>2</td>\n",
       "    </tr>\n",
       "    <tr>\n",
       "      <th>2</th>\n",
       "      <td>Sparky</td>\n",
       "      <td>Dr. Apache</td>\n",
       "      <td>Border Collie</td>\n",
       "      <td>Found</td>\n",
       "      <td>3</td>\n",
       "    </tr>\n",
       "    <tr>\n",
       "      <th>3</th>\n",
       "      <td>Theorem</td>\n",
       "      <td>Joseph-Louis Lagrange</td>\n",
       "      <td>French Bulldog</td>\n",
       "      <td>Found</td>\n",
       "      <td>4</td>\n",
       "    </tr>\n",
       "    <tr>\n",
       "      <th>4</th>\n",
       "      <td>Ned</td>\n",
       "      <td>Tim Oliphant</td>\n",
       "      <td>Shih Tzu</td>\n",
       "      <td>Still Missing</td>\n",
       "      <td>2</td>\n",
       "    </tr>\n",
       "    <tr>\n",
       "      <th>5</th>\n",
       "      <td>Benny</td>\n",
       "      <td>Hillary Green-Lerman</td>\n",
       "      <td>Poodle</td>\n",
       "      <td>Found</td>\n",
       "      <td>3</td>\n",
       "    </tr>\n",
       "  </tbody>\n",
       "</table>\n",
       "</div>"
      ],
      "text/plain": [
       "  Dog Name             Owner Name         Dog Breed         Status  Age\n",
       "0    Bayes               DataCamp  Golden Retriever  Still Missing    1\n",
       "1  Sigmoid                    NaN         Dachshund  Still Missing    2\n",
       "2   Sparky             Dr. Apache     Border Collie          Found    3\n",
       "3  Theorem  Joseph-Louis Lagrange    French Bulldog          Found    4\n",
       "4      Ned           Tim Oliphant          Shih Tzu  Still Missing    2\n",
       "5    Benny   Hillary Green-Lerman            Poodle          Found    3"
      ]
     },
     "execution_count": 84,
     "metadata": {},
     "output_type": "execute_result"
    }
   ],
   "source": [
    "mpr\n"
   ]
  },
  {
   "cell_type": "code",
   "execution_count": 88,
   "metadata": {},
   "outputs": [
    {
     "name": "stdout",
     "output_type": "stream",
     "text": [
      "  Dog Name             Owner Name       Dog Breed Status  Age\n",
      "2   Sparky             Dr. Apache   Border Collie  Found    3\n",
      "3  Theorem  Joseph-Louis Lagrange  French Bulldog  Found    4\n",
      "5    Benny   Hillary Green-Lerman          Poodle  Found    3\n",
      "\n",
      "   Dog Name    Owner Name         Dog Breed         Status  Age\n",
      "0    Bayes      DataCamp  Golden Retriever  Still Missing    1\n",
      "1  Sigmoid           NaN         Dachshund  Still Missing    2\n",
      "4      Ned  Tim Oliphant          Shih Tzu  Still Missing    2\n",
      "\n",
      "   Dog Name             Owner Name         Dog Breed         Status  Age\n",
      "0    Bayes               DataCamp  Golden Retriever  Still Missing    1\n",
      "1  Sigmoid                    NaN         Dachshund  Still Missing    2\n",
      "2   Sparky             Dr. Apache     Border Collie          Found    3\n",
      "3  Theorem  Joseph-Louis Lagrange    French Bulldog          Found    4\n",
      "4      Ned           Tim Oliphant          Shih Tzu  Still Missing    2\n"
     ]
    }
   ],
   "source": [
    "greater_than_2 = mpr[mpr.Age > 2]\n",
    "print(greater_than_2)\n",
    "\n",
    "still_missing = mpr[mpr.Status == \"Still Missing\"]\n",
    "print(\"\\n\",still_missing)\n",
    "\n",
    "not_poodle = mpr[mpr[\"Dog Breed\"] != \"Poodle\"]\n",
    "print(\"\\n\",not_poodle)"
   ]
  },
  {
   "cell_type": "markdown",
   "metadata": {},
   "source": [
    "### Narrowing the list of suspects"
   ]
  },
  {
   "cell_type": "code",
   "execution_count": 162,
   "metadata": {
    "scrolled": true
   },
   "outputs": [
    {
     "name": "stdout",
     "output_type": "stream",
     "text": [
      "              suspect      location             date          item  price\n",
      "2    Fred Frequentist  Pet Paradise  January 14 2018    dog treats   8.75\n",
      "100  Fred Frequentist  Pet Paradise  January 14 2018    dog collar  12.25\n",
      "1        Gertrude Cox  Pet Paradise  January 13 2018  dog chew toy   5.95\n",
      "3        Gertrude Cox  Pet Paradise  January 13 2018    dog treats   8.75\n"
     ]
    }
   ],
   "source": [
    "purchase = credit_records[credit_records.location == \"Pet Paradise\"]\n",
    "print(purchase.sort_values(\"suspect\"))"
   ]
  },
  {
   "cell_type": "code",
   "execution_count": null,
   "metadata": {},
   "outputs": [],
   "source": []
  }
 ],
 "metadata": {
  "kernelspec": {
   "display_name": "Python 3",
   "language": "python",
   "name": "python3"
  },
  "language_info": {
   "codemirror_mode": {
    "name": "ipython",
    "version": 3
   },
   "file_extension": ".py",
   "mimetype": "text/x-python",
   "name": "python",
   "nbconvert_exporter": "python",
   "pygments_lexer": "ipython3",
   "version": "3.8.3"
  }
 },
 "nbformat": 4,
 "nbformat_minor": 4
}
