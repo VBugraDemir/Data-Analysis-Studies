{
 "cells": [
  {
   "cell_type": "markdown",
   "metadata": {},
   "source": [
    "# Getting Started in Python"
   ]
  },
  {
   "cell_type": "markdown",
   "metadata": {},
   "source": [
    "## Dive into Python"
   ]
  },
  {
   "cell_type": "markdown",
   "metadata": {},
   "source": [
    "### Importing Python modules"
   ]
  },
  {
   "cell_type": "code",
   "execution_count": 1,
   "metadata": {},
   "outputs": [],
   "source": [
    "import statsmodels as sm\n",
    "import seaborn as sns"
   ]
  },
  {
   "cell_type": "markdown",
   "metadata": {},
   "source": [
    "## Creating variables"
   ]
  },
  {
   "cell_type": "markdown",
   "metadata": {},
   "source": [
    "### Creating a float"
   ]
  },
  {
   "cell_type": "code",
   "execution_count": 2,
   "metadata": {},
   "outputs": [
    {
     "name": "stdout",
     "output_type": "stream",
     "text": [
      "4.0\n"
     ]
    }
   ],
   "source": [
    "bayes_age = 4.0\n",
    "print(bayes_age)"
   ]
  },
  {
   "cell_type": "markdown",
   "metadata": {},
   "source": [
    "### Creating strings"
   ]
  },
  {
   "cell_type": "code",
   "execution_count": 3,
   "metadata": {},
   "outputs": [
    {
     "name": "stdout",
     "output_type": "stream",
     "text": [
      "Mr. Squeaky\n",
      "DataCamp\n"
     ]
    }
   ],
   "source": [
    "favorite_toy = \"Mr. Squeaky\"\n",
    "owner = \"DataCamp\"\n",
    "\n",
    "print(favorite_toy)\n",
    "print(owner)"
   ]
  },
  {
   "cell_type": "markdown",
   "metadata": {},
   "source": [
    "## Fun with functions"
   ]
  },
  {
   "cell_type": "markdown",
   "metadata": {},
   "source": [
    "### Load a DataFrame"
   ]
  },
  {
   "cell_type": "code",
   "execution_count": 8,
   "metadata": {},
   "outputs": [
    {
     "name": "stdout",
     "output_type": "stream",
     "text": [
      "    letter_index letter  frequency\n",
      "0              1      A       7.38\n",
      "1              2      B       1.09\n",
      "2              3      C       2.46\n",
      "3              4      D       4.10\n",
      "4              5      E      12.84\n",
      "5              6      F       1.37\n",
      "6              7      G       1.09\n",
      "7              8      H       3.55\n",
      "8              9      I       7.65\n",
      "9             10      J       0.00\n",
      "10            11      K       3.01\n",
      "11            12      L       3.28\n",
      "12            13      M       2.46\n",
      "13            14      N       7.38\n",
      "14            15      O       6.83\n",
      "15            16      P       7.65\n",
      "16            17      Q       0.00\n",
      "17            18      R       4.92\n",
      "18            19      S       4.10\n",
      "19            20      T       6.28\n",
      "20            21      U       4.37\n",
      "21            22      V       1.09\n",
      "22            23      W       2.46\n",
      "23            24      X       0.00\n",
      "24            25      Y       4.64\n",
      "25            26      Z       0.00\n"
     ]
    }
   ],
   "source": [
    "import pandas as pd\n",
    "ransom = pd.read_csv(\"ransom.csv\", index_col=0)\n",
    "print(ransom)"
   ]
  },
  {
   "cell_type": "markdown",
   "metadata": {},
   "source": [
    "### Correcting a function error"
   ]
  },
  {
   "cell_type": "code",
   "execution_count": 11,
   "metadata": {},
   "outputs": [
    {
     "data": {
      "image/png": "[encoded data removed]",
      "text/plain": [
       "<Figure size 432x288 with 1 Axes>"
      ]
     },
     "metadata": {
      "needs_background": "light"
     },
     "output_type": "display_data"
    }
   ],
   "source": [
    "import matplotlib.pyplot as plt\n",
    "plt.plot(\"letter\", \"frequency\", data=ransom)\n",
    "plt.show()"
   ]
  },
  {
   "cell_type": "code",
   "execution_count": 15,
   "metadata": {},
   "outputs": [
    {
     "name": "stdout",
     "output_type": "stream",
     "text": [
      "\n",
      "      Fred Frequentist\n",
      "      John W. Tukey\n",
      "      Ronald Aylmer Fisher\n",
      "      Karl Pearson\n",
      "      Gertrude Cox\n",
      "      Kirstine Smith\n",
      "      \n",
      "\n",
      "      Fred Frequentist\n",
      "      Ronald Aylmer Fisher\n",
      "      Gertrude Cox\n",
      "      Kirstine Smith\n",
      "      \n"
     ]
    },
    {
     "data": {
      "text/plain": [
       "True"
      ]
     },
     "execution_count": 15,
     "metadata": {},
     "output_type": "execute_result"
    }
   ],
   "source": [
    "def lookup_plate(plate_str, color=None):\n",
    "  if type(plate_str) != str:\n",
    "    print(\"Error! Please input a string!\")\n",
    "    return False\n",
    "  elif len(plate_str) != 7:\n",
    "    print(\"Error! License plate must have 7 characters.  Use a * for missing characters.\")\n",
    "    return False\n",
    "  elif plate_str == 'FRQ****':\n",
    "    if color is None:\n",
    "      print('''\n",
    "      Fred Frequentist\n",
    "      John W. Tukey\n",
    "      Ronald Aylmer Fisher\n",
    "      Karl Pearson\n",
    "      Gertrude Cox\n",
    "      Kirstine Smith\n",
    "      ''')\n",
    "      return True\n",
    "    elif color == 'Green':\n",
    "      print('''\n",
    "      Fred Frequentist\n",
    "      Ronald Aylmer Fisher\n",
    "      Gertrude Cox\n",
    "      Kirstine Smith\n",
    "      ''')\n",
    "      return True\n",
    "    else:\n",
    "      print('Error! No cars of that color found!')\n",
    "      return False\n",
    "  elif plate_str == 'EXAMPLE':\n",
    "    print('''\n",
    "    Christopher Eccleston\n",
    "    Matt Smith\n",
    "    David Tenant\n",
    "    Peter Capaldi\n",
    "    Jodie Whittaker\n",
    "    ''')\n",
    "    return True\n",
    "  else:\n",
    "    print(\"Error! Plate not found!\")\n",
    "    return False\n",
    "\n",
    "plate = \"FRQ****\"\n",
    "lookup_plate(plate)\n",
    "\n",
    "lookup_plate(plate, color=\"Green\")"
   ]
  },
  {
   "cell_type": "code",
   "execution_count": null,
   "metadata": {},
   "outputs": [],
   "source": []
  }
 ],
 "metadata": {
  "kernelspec": {
   "display_name": "Python 3",
   "language": "python",
   "name": "python3"
  },
  "language_info": {
   "codemirror_mode": {
    "name": "ipython",
    "version": 3
   },
   "file_extension": ".py",
   "mimetype": "text/x-python",
   "name": "python",
   "nbconvert_exporter": "python",
   "pygments_lexer": "ipython3",
   "version": "3.8.3"
  }
 },
 "nbformat": 4,
 "nbformat_minor": 4
}
