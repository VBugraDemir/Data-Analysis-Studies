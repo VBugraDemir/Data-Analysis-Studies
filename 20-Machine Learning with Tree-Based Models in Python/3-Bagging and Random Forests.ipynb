{
 "cells": [
  {
   "cell_type": "markdown",
   "metadata": {},
   "source": [
    "# Bagging and Random Forests"
   ]
  },
  {
   "cell_type": "markdown",
   "metadata": {},
   "source": [
    "## Bagging"
   ]
  },
  {
   "cell_type": "markdown",
   "metadata": {},
   "source": [
    "Bootstrap aggregation. It is an ensemble method but different than voting classifier. Bagging uses one algorithm with different subsets of the data. Has the effect of reducing the varience of individual models."
   ]
  },
  {
   "cell_type": "code",
   "execution_count": 66,
   "metadata": {},
   "outputs": [
    {
     "name": "stdout",
     "output_type": "stream",
     "text": [
      "Accuracy of Bagging Classifier: 0.930\n",
      "Accuracy of Decision Tree Classifier: 0.889\n"
     ]
    }
   ],
   "source": [
    "import pandas as pd\n",
    "from sklearn.preprocessing import LabelEncoder\n",
    "from sklearn.ensemble import BaggingClassifier\n",
    "from sklearn.tree import DecisionTreeClassifier\n",
    "from sklearn.metrics import accuracy_score\n",
    "from sklearn.model_selection import train_test_split\n",
    "\n",
    "cancer = pd.read_csv(\"cancer.csv\")\n",
    "X = cancer.drop([\"id\", \"Unnamed: 32\", \"diagnosis\"], axis=1)\n",
    "y = cancer[\"diagnosis\"]\n",
    "le = LabelEncoder()\n",
    "y = le.fit_transform(y)\n",
    "y = pd.Series(y)\n",
    "\n",
    "X_train, X_test, y_train, y_test = train_test_split(X, y, test_size=0.3,\n",
    "                                                   stratify=y, random_state=1)\n",
    "dt = DecisionTreeClassifier(max_depth=4, min_samples_leaf=0.16, random_state=1)\n",
    "bc = BaggingClassifier(base_estimator=dt, n_estimators=300, n_jobs=-1)\n",
    "bc.fit(X_train, y_train)\n",
    "y_pred=bc.predict(X_test)\n",
    "accuracy=accuracy_score(y_test, y_pred)\n",
    "print(\"Accuracy of Bagging Classifier: {:.3f}\".format(accuracy))\n",
    "\n",
    "dt = DecisionTreeClassifier(max_depth=4, min_samples_leaf=0.16, random_state=1)\n",
    "dt.fit(X_train, y_train)\n",
    "y_pred=dt.predict(X_test)\n",
    "accuracy=accuracy_score(y_test, y_pred)\n",
    "print(\"Accuracy of Decision Tree Classifier: {:.3f}\".format(accuracy))"
   ]
  },
  {
   "cell_type": "markdown",
   "metadata": {},
   "source": [
    "Results show that bagging outperforms the base estimator."
   ]
  },
  {
   "cell_type": "markdown",
   "metadata": {},
   "source": [
    "### Define the bagging classifier"
   ]
  },
  {
   "cell_type": "code",
   "execution_count": 61,
   "metadata": {},
   "outputs": [],
   "source": [
    "liver = pd.read_csv(\"indian_liver_patient.csv\")\n",
    "liver = liver.dropna()\n",
    "X = liver.drop([\"Dataset\"], axis=1)\n",
    "X = pd.get_dummies(X, drop_first=True)\n",
    "y = liver[\"Dataset\"].replace(2,0)\n",
    "\n",
    "\n",
    "dt = DecisionTreeClassifier(random_state=1)\n",
    "bc = BaggingClassifier(base_estimator=dt, n_estimators=50, random_state=1)"
   ]
  },
  {
   "cell_type": "markdown",
   "metadata": {},
   "source": [
    "### Evaluate Bagging performance"
   ]
  },
  {
   "cell_type": "code",
   "execution_count": 63,
   "metadata": {},
   "outputs": [
    {
     "name": "stdout",
     "output_type": "stream",
     "text": [
      "Test set accuracy of bc: 0.67\n",
      "Test set accuracy of dt: 0.63\n"
     ]
    }
   ],
   "source": [
    "X_train, X_test, y_train, y_test = train_test_split(X, y, test_size=0.2,\n",
    "                                                   stratify=y, random_state=1)\n",
    "bc.fit(X_train, y_train)\n",
    "y_pred = bc.predict(X_test)\n",
    "acc_test = accuracy_score(y_test, y_pred)\n",
    "print('Test set accuracy of bc: {:.2f}'.format(acc_test)) \n",
    "\n",
    "dt.fit(X_train, y_train)\n",
    "y_pred = dt.predict(X_test)\n",
    "acc_test = accuracy_score(y_test, y_pred)\n",
    "print('Test set accuracy of dt: {:.2f}'.format(acc_test)) "
   ]
  },
  {
   "cell_type": "markdown",
   "metadata": {},
   "source": [
    "## Out of Bag Evaluation"
   ]
  },
  {
   "cell_type": "markdown",
   "metadata": {},
   "source": [
    "On average for each model 63% of the training instances are sampled. The remaining 37% constitute the OOB instances. Since they are not seen by a model during training, these can be used to estimate the performance without the need for cross-validation.\n",
    "\n",
    "OOB score corresponds to the accuracy for classifiers and the r-squared score for regressors."
   ]
  },
  {
   "cell_type": "code",
   "execution_count": 68,
   "metadata": {},
   "outputs": [
    {
     "name": "stdout",
     "output_type": "stream",
     "text": [
      "Test set accuracy: 0.930\n",
      "OOB accuracy: 0.920\n"
     ]
    }
   ],
   "source": [
    "X = cancer.drop([\"id\", \"Unnamed: 32\", \"diagnosis\"], axis=1)\n",
    "y = cancer[\"diagnosis\"]\n",
    "le = LabelEncoder()\n",
    "y = le.fit_transform(y)\n",
    "# y = pd.Series(y)\n",
    "\n",
    "X_train, X_test, y_train, y_test = train_test_split(X, y, test_size=0.3,\n",
    "                                                   stratify=y, random_state=1)\n",
    "dt = DecisionTreeClassifier(max_depth=4, min_samples_leaf=0.16, random_state=1)\n",
    "bc = BaggingClassifier(base_estimator=dt, n_estimators=300, oob_score=True, n_jobs=-1)\n",
    "bc.fit(X_train, y_train)\n",
    "y_pred=bc.predict(X_test)\n",
    "test_accuracy=accuracy_score(y_test, y_pred)\n",
    "oob_accuracy = bc.oob_score_\n",
    "print(\"Test set accuracy: {:.3f}\".format(test_accuracy))\n",
    "print(\"OOB accuracy: {:.3f}\".format(oob_accuracy))"
   ]
  },
  {
   "cell_type": "markdown",
   "metadata": {},
   "source": [
    "### Prepare the ground\n"
   ]
  },
  {
   "cell_type": "code",
   "execution_count": 76,
   "metadata": {},
   "outputs": [],
   "source": [
    "liver = pd.read_csv(\"indian_liver_patient.csv\")\n",
    "liver = liver.dropna()\n",
    "X = liver.drop([\"Dataset\"], axis=1)\n",
    "X = pd.get_dummies(X, drop_first=True)\n",
    "y = liver[\"Dataset\"].replace(2,0)\n",
    "\n",
    "dt = DecisionTreeClassifier(min_samples_leaf=8, random_state=1)\n",
    "bc = BaggingClassifier(base_estimator=dt, n_estimators=50, oob_score=True,\n",
    "                      random_state=1)\n",
    "X_train, X_test, y_train, y_test = train_test_split(X, y, test_size=0.2,\n",
    "                                                   stratify=y, random_state=1)"
   ]
  },
  {
   "cell_type": "markdown",
   "metadata": {},
   "source": [
    "### OOB Score vs Test Set Score"
   ]
  },
  {
   "cell_type": "code",
   "execution_count": 77,
   "metadata": {},
   "outputs": [
    {
     "name": "stdout",
     "output_type": "stream",
     "text": [
      "Test set accuracy: 0.698, OOB accuracy: 0.702\n"
     ]
    }
   ],
   "source": [
    "bc.fit(X_train, y_train)\n",
    "y_pred = bc.predict(X_test)\n",
    "acc_test = accuracy_score(y_test, y_pred)\n",
    "acc_oob = bc.oob_score_\n",
    "print('Test set accuracy: {:.3f}, OOB accuracy: {:.3f}'.format(acc_test, acc_oob))"
   ]
  },
  {
   "cell_type": "markdown",
   "metadata": {},
   "source": [
    "## Random Forests (RF)\n"
   ]
  },
  {
   "cell_type": "markdown",
   "metadata": {},
   "source": [
    "The base estimator is Desicion Tree. Each estimator is trained on a different bootstrap sample having the same size as the training set. RF introduces further randomization than bagging when training each of the base estimators. d features are sampled at each node without replacment -> further diversity.\n",
    "\n",
    "For classification the final prediction is made by majority voting. For regression average of the labels. Lower variance. (both like in the bagging.)"
   ]
  },
  {
   "cell_type": "code",
   "execution_count": 123,
   "metadata": {},
   "outputs": [
    {
     "name": "stdout",
     "output_type": "stream",
     "text": [
      "Test set RMSE of rf: 3.98\n",
      "Test set RMSE of dt: 4.43\n"
     ]
    },
    {
     "data": {
      "image/png": "[encoded data removed]",
      "text/plain": [
       "<Figure size 432x288 with 1 Axes>"
      ]
     },
     "metadata": {
      "needs_background": "light"
     },
     "output_type": "display_data"
    }
   ],
   "source": [
    "from sklearn.ensemble import RandomForestRegressor\n",
    "from sklearn.metrics import mean_squared_error as MSE\n",
    "cars = pd.read_csv(\"mpg.csv\")\n",
    "df_origin = pd.get_dummies(cars)\n",
    "X = df_origin.drop(\"mpg\", axis=1)\n",
    "y = df_origin[\"mpg\"]\n",
    "\n",
    "X_train, X_test, y_train, y_test = train_test_split(X, y, test_size=0.3, random_state=1)\n",
    "rf = RandomForestRegressor(n_estimators=400, min_samples_leaf=0.12, random_state=1)\n",
    "rf.fit(X_train, y_train)\n",
    "y_pred = rf.predict(X_test)\n",
    "rmse_test = MSE(y_test, y_pred) ** 0.5\n",
    "print(\"Test set RMSE of rf: {:.2f}\".format(rmse_test))\n",
    "\n",
    "importances_rf = pd.Series(rf.feature_importances_, index=X.columns)\n",
    "sorted_importances_rf = importances_rf.sort_values()\n",
    "sorted_importances_rf.plot(kind=\"barh\", color=\"lightgreen\")\n",
    "\n",
    "from sklearn.tree import DecisionTreeRegressor\n",
    "dt = DecisionTreeRegressor(min_samples_leaf=0.12, random_state=1)\n",
    "dt.fit(X_train, y_train)\n",
    "y_pred = dt.predict(X_test)\n",
    "rmse_test = MSE(y_test, y_pred) ** 0.5\n",
    "print(\"Test set RMSE of dt: {:.2f}\".format(rmse_test))"
   ]
  },
  {
   "cell_type": "markdown",
   "metadata": {},
   "source": [
    "Tree-based methods enable measuring the importance of each feature in prediction. Displ, size, weight and hp are the most predictive features."
   ]
  },
  {
   "cell_type": "markdown",
   "metadata": {},
   "source": [
    "### Train an RF regressor"
   ]
  },
  {
   "cell_type": "code",
   "execution_count": 124,
   "metadata": {},
   "outputs": [
    {
     "data": {
      "text/plain": [
       "RandomForestRegressor(n_estimators=25, random_state=2)"
      ]
     },
     "execution_count": 124,
     "metadata": {},
     "output_type": "execute_result"
    }
   ],
   "source": [
    "bike = pd.read_csv(\"bike.csv\")\n",
    "X = bike.drop(\"cnt\", axis=1)\n",
    "y = bike[\"cnt\"]\n",
    "X_train, X_test, y_train, y_test = train_test_split(X, y, test_size=0.2, random_state=1)\n",
    "\n",
    "rf = RandomForestRegressor(n_estimators=25, random_state=2)\n",
    "rf.fit(X_train, y_train)"
   ]
  },
  {
   "cell_type": "markdown",
   "metadata": {},
   "source": [
    "### Evaluate the RF regressor"
   ]
  },
  {
   "cell_type": "code",
   "execution_count": 125,
   "metadata": {},
   "outputs": [
    {
     "name": "stdout",
     "output_type": "stream",
     "text": [
      "Test set RMSE of rf: 51.84\n",
      "Test set RMSE of dt: 126.57\n"
     ]
    }
   ],
   "source": [
    "y_pred = rf.predict(X_test)\n",
    "rmse_test = MSE(y_test, y_pred) ** 0.5\n",
    "print('Test set RMSE of rf: {:.2f}'.format(rmse_test))\n",
    "\n",
    "dt = DecisionTreeRegressor(min_samples_leaf=0.12, random_state=1)\n",
    "dt.fit(X_train, y_train)\n",
    "y_pred = dt.predict(X_test)\n",
    "rmse_test = MSE(y_test, y_pred) ** 0.5\n",
    "print(\"Test set RMSE of dt: {:.2f}\".format(rmse_test))"
   ]
  },
  {
   "cell_type": "markdown",
   "metadata": {},
   "source": [
    "### Visualizing features importances"
   ]
  },
  {
   "cell_type": "markdown",
   "metadata": {},
   "source": [
    "Determine which features were the most predictive according to the random forests regressor rf"
   ]
  },
  {
   "cell_type": "code",
   "execution_count": 130,
   "metadata": {},
   "outputs": [
    {
     "data": {
      "text/plain": [
       "<matplotlib.axes._subplots.AxesSubplot at 0x741d5b5100>"
      ]
     },
     "execution_count": 130,
     "metadata": {},
     "output_type": "execute_result"
    },
    {
     "data": {
      "image/png": "[encoded data removed]",
      "text/plain": [
       "<Figure size 432x288 with 1 Axes>"
      ]
     },
     "metadata": {
      "needs_background": "light"
     },
     "output_type": "display_data"
    }
   ],
   "source": [
    "importances = pd.Series(data = rf.feature_importances_, index=X_train.columns)\n",
    "importances_sorted = importances.sort_values()\n",
    "importances_sorted.plot(kind=\"barh\", color=\"lightgreen\", title='Features Importances')\n"
   ]
  },
  {
   "cell_type": "markdown",
   "metadata": {},
   "source": [
    "Apparently, hr and workingday are the most important features according to rf. The importances of these two features add up to more than 90%."
   ]
  },
  {
   "cell_type": "code",
   "execution_count": null,
   "metadata": {},
   "outputs": [],
   "source": []
  }
 ],
 "metadata": {
  "kernelspec": {
   "display_name": "Python 3",
   "language": "python",
   "name": "python3"
  },
  "language_info": {
   "codemirror_mode": {
    "name": "ipython",
    "version": 3
   },
   "file_extension": ".py",
   "mimetype": "text/x-python",
   "name": "python",
   "nbconvert_exporter": "python",
   "pygments_lexer": "ipython3",
   "version": "3.8.3"
  }
 },
 "nbformat": 4,
 "nbformat_minor": 4
}
