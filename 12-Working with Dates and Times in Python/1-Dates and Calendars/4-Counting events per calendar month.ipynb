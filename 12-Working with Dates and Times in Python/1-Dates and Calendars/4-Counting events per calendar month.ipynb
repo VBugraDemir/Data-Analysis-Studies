{
 "cells": [
  {
   "cell_type": "code",
   "execution_count": 5,
   "metadata": {},
   "outputs": [],
   "source": [
    "from datetime import date\n",
    "import pickle"
   ]
  },
  {
   "cell_type": "code",
   "execution_count": 9,
   "metadata": {},
   "outputs": [],
   "source": [
    "p_file = open(\"florida_hurricane_dates.pkl\", \"rb\")\n",
    "florida_hurricane_dates = pickle.load(p_file)\n",
    "p_file.close()"
   ]
  },
  {
   "cell_type": "code",
   "execution_count": 2,
   "metadata": {},
   "outputs": [],
   "source": [
    "hurricanes_each_month = {1:0, 2:0, 3:0, 4:0, 5:0, 6:0, 7:0, 8:0, 9:0, 10:0, 11:0, 12:0}"
   ]
  },
  {
   "cell_type": "code",
   "execution_count": 10,
   "metadata": {},
   "outputs": [
    {
     "data": {
      "text/plain": [
       "{1: 0,\n",
       " 2: 1,\n",
       " 3: 0,\n",
       " 4: 1,\n",
       " 5: 8,\n",
       " 6: 32,\n",
       " 7: 21,\n",
       " 8: 49,\n",
       " 9: 70,\n",
       " 10: 43,\n",
       " 11: 9,\n",
       " 12: 1}"
      ]
     },
     "execution_count": 10,
     "metadata": {},
     "output_type": "execute_result"
    }
   ],
   "source": [
    "for hurricane in florida_hurricane_dates:\n",
    "    month = hurricane.month\n",
    "    hurricanes_each_month[month] +=1\n",
    "hurricanes_each_month"
   ]
  }
 ],
 "metadata": {
  "kernelspec": {
   "display_name": "Python 3",
   "language": "python",
   "name": "python3"
  },
  "language_info": {
   "codemirror_mode": {
    "name": "ipython",
    "version": 3
   },
   "file_extension": ".py",
   "mimetype": "text/x-python",
   "name": "python",
   "nbconvert_exporter": "python",
   "pygments_lexer": "ipython3",
   "version": "3.8.3"
  }
 },
 "nbformat": 4,
 "nbformat_minor": 4
}
