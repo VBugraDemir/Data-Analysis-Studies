{
 "cells": [
  {
   "cell_type": "markdown",
   "metadata": {},
   "source": [
    "# Combining Dates and Times\n"
   ]
  },
  {
   "cell_type": "markdown",
   "metadata": {},
   "source": [
    "## Dates and times\n"
   ]
  },
  {
   "cell_type": "markdown",
   "metadata": {},
   "source": [
    "### Creating datetimes by hand"
   ]
  },
  {
   "cell_type": "code",
   "execution_count": 24,
   "metadata": {},
   "outputs": [],
   "source": [
    "from datetime import datetime"
   ]
  },
  {
   "cell_type": "code",
   "execution_count": 25,
   "metadata": {},
   "outputs": [
    {
     "name": "stdout",
     "output_type": "stream",
     "text": [
      "2017-10-01T15:26:26\n"
     ]
    }
   ],
   "source": [
    "dt = datetime(2017, 10, 1, 15, 26, 26)\n",
    "print(dt.isoformat())"
   ]
  },
  {
   "cell_type": "code",
   "execution_count": 26,
   "metadata": {},
   "outputs": [
    {
     "name": "stdout",
     "output_type": "stream",
     "text": [
      "2017-12-31T15:19:13\n"
     ]
    }
   ],
   "source": [
    "dt = datetime(2017, 12, 31, 15, 19, 13)\n",
    "print(dt.isoformat())"
   ]
  },
  {
   "cell_type": "code",
   "execution_count": 27,
   "metadata": {},
   "outputs": [
    {
     "name": "stdout",
     "output_type": "stream",
     "text": [
      "1917-12-31 15:19:13\n"
     ]
    }
   ],
   "source": [
    "dt = datetime(2017, 12, 31, 15, 19, 13)\n",
    "dt_old = dt.replace(year=1917)\n",
    "print(dt_old)"
   ]
  },
  {
   "cell_type": "markdown",
   "metadata": {},
   "source": [
    "### Counting events before and after noon"
   ]
  },
  {
   "cell_type": "code",
   "execution_count": 15,
   "metadata": {},
   "outputs": [],
   "source": [
    "import pickle"
   ]
  },
  {
   "cell_type": "code",
   "execution_count": 21,
   "metadata": {},
   "outputs": [],
   "source": [
    "f = open(\"onebike_datetimes.pkl\", \"rb\")\n",
    "onebike_datetime = pickle.load(f)\n",
    "f.close()"
   ]
  },
  {
   "cell_type": "code",
   "execution_count": 23,
   "metadata": {},
   "outputs": [
    {
     "name": "stdout",
     "output_type": "stream",
     "text": [
      "{'AM': 94, 'PM': 196}\n"
     ]
    }
   ],
   "source": [
    "trip_counts = {\"AM\":0, \"PM\":0}\n",
    "for trip in onebike_datetime:\n",
    "    if trip[\"start\"].hour < 12:\n",
    "        trip_counts[\"AM\"] += 1\n",
    "    else:\n",
    "        trip_counts[\"PM\"] += 1\n",
    "print(trip_counts)"
   ]
  },
  {
   "cell_type": "markdown",
   "metadata": {},
   "source": [
    "## Printing and parsing datetimes"
   ]
  },
  {
   "cell_type": "markdown",
   "metadata": {},
   "source": [
    "### Turning strings into datetimes"
   ]
  },
  {
   "cell_type": "code",
   "execution_count": 29,
   "metadata": {},
   "outputs": [
    {
     "name": "stdout",
     "output_type": "stream",
     "text": [
      "2017-02-03 00:00:01\n"
     ]
    }
   ],
   "source": [
    "# From string to datetime strptime() is used.\n",
    "\n",
    "s = \"2017-02-03 00:00:01\"\n",
    "fmt = \"%Y-%m-%d %H:%M:%S\"\n",
    "d = datetime.strptime(s, fmt)\n",
    "print(d)"
   ]
  },
  {
   "cell_type": "code",
   "execution_count": 31,
   "metadata": {},
   "outputs": [
    {
     "name": "stdout",
     "output_type": "stream",
     "text": [
      "2030-10-15 00:00:00\n"
     ]
    }
   ],
   "source": [
    "s = \"2030-10-15\"\n",
    "fmt = \"%Y-%m-%d\"\n",
    "d = datetime.strptime(s, fmt)\n",
    "print(d)"
   ]
  },
  {
   "cell_type": "code",
   "execution_count": 30,
   "metadata": {},
   "outputs": [
    {
     "name": "stdout",
     "output_type": "stream",
     "text": [
      "1986-12-15 08:00:00\n"
     ]
    }
   ],
   "source": [
    "s = \"12/15/1986 08:00:0\"\n",
    "fmt = \"%m/%d/%Y %H:%M:%S\"\n",
    "d = datetime.strptime(s, fmt)\n",
    "print(d)"
   ]
  },
  {
   "cell_type": "markdown",
   "metadata": {},
   "source": [
    "### Parsing pairs of strings as datetimes"
   ]
  },
  {
   "cell_type": "code",
   "execution_count": 40,
   "metadata": {},
   "outputs": [
    {
     "data": {
      "text/plain": [
       "[{'end': datetime.datetime(2017, 10, 1, 15, 26, 26),\n",
       "  'start': datetime.datetime(2017, 10, 1, 15, 23, 25)},\n",
       " {'end': datetime.datetime(2017, 10, 1, 17, 49, 59),\n",
       "  'start': datetime.datetime(2017, 10, 1, 15, 42, 57)},\n",
       " {'end': datetime.datetime(2017, 10, 2, 6, 42, 53),\n",
       "  'start': datetime.datetime(2017, 10, 2, 6, 37, 10)}]"
      ]
     },
     "execution_count": 40,
     "metadata": {},
     "output_type": "execute_result"
    }
   ],
   "source": [
    "f1 = open(\"onebike_datetime_strings\", \"rb\")\n",
    "onebike_datetime_strings = pickle.load(f1)\n",
    "f1.close()\n",
    "onebike_datetime[0:3]"
   ]
  },
  {
   "cell_type": "code",
   "execution_count": 60,
   "metadata": {},
   "outputs": [],
   "source": [
    "fmt = \"%Y-%m-%d %H:%M:%S\"\n",
    "onebike_datetimes = []\n",
    "for (start, end) in onebike_datetime_strings:\n",
    "    trip = {\"start\":datetime.strptime(start, fmt),\n",
    "           \"end\":datetime.strptime(end, fmt)}\n",
    "    onebike_datetimes.append(trip)"
   ]
  },
  {
   "cell_type": "code",
   "execution_count": 61,
   "metadata": {},
   "outputs": [
    {
     "data": {
      "text/plain": [
       "[{'start': datetime.datetime(2017, 10, 1, 15, 23, 25),\n",
       "  'end': datetime.datetime(2017, 10, 1, 15, 26, 26)},\n",
       " {'start': datetime.datetime(2017, 10, 1, 15, 42, 57),\n",
       "  'end': datetime.datetime(2017, 10, 1, 17, 49, 59)},\n",
       " {'start': datetime.datetime(2017, 10, 2, 6, 37, 10),\n",
       "  'end': datetime.datetime(2017, 10, 2, 6, 42, 53)}]"
      ]
     },
     "execution_count": 61,
     "metadata": {},
     "output_type": "execute_result"
    }
   ],
   "source": [
    "onebike_datetimes[0:3]"
   ]
  },
  {
   "cell_type": "markdown",
   "metadata": {},
   "source": [
    "### Recreating ISO format with strftime()"
   ]
  },
  {
   "cell_type": "code",
   "execution_count": 49,
   "metadata": {},
   "outputs": [
    {
     "name": "stdout",
     "output_type": "stream",
     "text": [
      "2017-10-01T15:23:25\n",
      "2017-10-01T15:23:25\n"
     ]
    }
   ],
   "source": [
    "# From datetime to string strftime() is used.\n",
    "first_start = onebike_datetime[0][\"start\"]\n",
    "fmt = \"%Y-%m-%dT%H:%M:%S\"\n",
    "print(first_start.isoformat())\n",
    "print(first_start.strftime(fmt))"
   ]
  },
  {
   "cell_type": "markdown",
   "metadata": {},
   "source": [
    "### Unix timestamps"
   ]
  },
  {
   "cell_type": "code",
   "execution_count": 50,
   "metadata": {},
   "outputs": [
    {
     "name": "stdout",
     "output_type": "stream",
     "text": [
      "[datetime.datetime(2017, 12, 30, 23, 19, 13), datetime.datetime(2017, 12, 30, 23, 9, 3)]\n"
     ]
    }
   ],
   "source": [
    "timestamps = [1514665153, 1514664543]\n",
    "dts = []\n",
    "for ts in timestamps:\n",
    "    dts.append(datetime.fromtimestamp(ts))\n",
    "print(dts)"
   ]
  },
  {
   "cell_type": "markdown",
   "metadata": {},
   "source": [
    "## Working with durations"
   ]
  },
  {
   "cell_type": "markdown",
   "metadata": {},
   "source": [
    "### Turning pairs of datetimes into durations"
   ]
  },
  {
   "cell_type": "code",
   "execution_count": 66,
   "metadata": {},
   "outputs": [
    {
     "data": {
      "text/plain": [
       "[181.0, 7622.0, 343.0, 1278.0, 1277.0, 1366.0, 815.0, 545.0, 491.0, 639.0]"
      ]
     },
     "execution_count": 66,
     "metadata": {},
     "output_type": "execute_result"
    }
   ],
   "source": [
    "onebike_durations = []\n",
    "for trip in onebike_datetimes:\n",
    "    trip_duration = trip[\"end\"] - trip[\"start\"]\n",
    "    trip_length_seconds = trip_duration.total_seconds()\n",
    "    onebike_durations.append(trip_length_seconds)\n",
    "onebike_durations[0:10]"
   ]
  },
  {
   "cell_type": "markdown",
   "metadata": {},
   "source": [
    "### Average trip time"
   ]
  },
  {
   "cell_type": "code",
   "execution_count": 67,
   "metadata": {},
   "outputs": [
    {
     "name": "stdout",
     "output_type": "stream",
     "text": [
      "sum 341890.0\n",
      "len 290\n",
      "1178.9310344827586\n"
     ]
    }
   ],
   "source": [
    "total_elapsed_time = sum(onebike_durations)\n",
    "print(\"sum\", total_elapsed_time)\n",
    "\n",
    "number_of_trips = len(onebike_durations)\n",
    "print(\"len\", number_of_trips)\n",
    "\n",
    "print(total_elapsed_time / number_of_trips)"
   ]
  },
  {
   "cell_type": "markdown",
   "metadata": {},
   "source": [
    "### The long and the short of why time is hard"
   ]
  },
  {
   "cell_type": "code",
   "execution_count": 69,
   "metadata": {},
   "outputs": [
    {
     "name": "stdout",
     "output_type": "stream",
     "text": [
      "The shortest trip was -3346.0 seconds\n",
      "The longest trip was 76913.0 seconds\n"
     ]
    }
   ],
   "source": [
    "shortest_trip = min(onebike_durations)\n",
    "longest_trip= max(onebike_durations)\n",
    "print(\"The shortest trip was \" + str(shortest_trip) + \" seconds\")\n",
    "print(\"The longest trip was \" + str(longest_trip) + \" seconds\")"
   ]
  }
 ],
 "metadata": {
  "kernelspec": {
   "display_name": "Python 3",
   "language": "python",
   "name": "python3"
  },
  "language_info": {
   "codemirror_mode": {
    "name": "ipython",
    "version": 3
   },
   "file_extension": ".py",
   "mimetype": "text/x-python",
   "name": "python",
   "nbconvert_exporter": "python",
   "pygments_lexer": "ipython3",
   "version": "3.8.3"
  }
 },
 "nbformat": 4,
 "nbformat_minor": 4
}
