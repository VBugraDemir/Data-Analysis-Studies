{
 "cells": [
  {
   "cell_type": "markdown",
   "metadata": {},
   "source": [
    "# Decorators"
   ]
  },
  {
   "cell_type": "markdown",
   "metadata": {},
   "source": [
    "## Functions are objects"
   ]
  },
  {
   "cell_type": "markdown",
   "metadata": {},
   "source": [
    "### Building a command line data app"
   ]
  },
  {
   "cell_type": "code",
   "execution_count": 10,
   "metadata": {},
   "outputs": [],
   "source": [
    "import pandas as pd\n",
    "import numpy as np"
   ]
  },
  {
   "cell_type": "code",
   "execution_count": 16,
   "metadata": {},
   "outputs": [
    {
     "name": "stdout",
     "output_type": "stream",
     "text": [
      "   height  weight\n",
      "0    72.1     198\n",
      "1    69.8     204\n",
      "2    63.2     164\n",
      "3    64.7     238\n",
      "The function: minimum\n"
     ]
    },
    {
     "data": {
      "text/plain": [
       "height     63.2\n",
       "weight    164.0\n",
       "dtype: float64"
      ]
     },
     "execution_count": 16,
     "metadata": {},
     "output_type": "execute_result"
    }
   ],
   "source": [
    "dicts = {\"height\":[72.1, 69.8, 63.2, 64.7], \"weight\":[198, 204, 164, 238]}\n",
    "data = pd.DataFrame(dicts)\n",
    "function_map = {\n",
    "  'mean': np.mean,\n",
    "  'std': np.std,\n",
    "  'minimum': np.min,\n",
    "  'maximum': np.max\n",
    "}\n",
    "print(df)\n",
    "func_name = input(\"The function: \")\n",
    "function_map[func_name](data)"
   ]
  },
  {
   "cell_type": "markdown",
   "metadata": {},
   "source": [
    "### Reviewing your co-worker's code"
   ]
  },
  {
   "cell_type": "code",
   "execution_count": 18,
   "metadata": {},
   "outputs": [],
   "source": [
    "def has_docstring(func):\n",
    "  \"\"\"Check to see if the function \n",
    "  `func` has a docstring.\n",
    "\n",
    "  Args:\n",
    "    func (callable): A function.\n",
    "\n",
    "  Returns:\n",
    "    bool\n",
    "  \"\"\"\n",
    "  return func.__doc__ is not None\n",
    "# Returns True or false based on having or not having docstrings"
   ]
  },
  {
   "cell_type": "markdown",
   "metadata": {},
   "source": [
    "### Returning functions for a math game"
   ]
  },
  {
   "cell_type": "code",
   "execution_count": 20,
   "metadata": {},
   "outputs": [
    {
     "name": "stdout",
     "output_type": "stream",
     "text": [
      "5 + 2 = 7\n",
      "5 - 2 = 3\n"
     ]
    }
   ],
   "source": [
    "def create_math_function(func_name):\n",
    "    if func_name == \"add\":\n",
    "        def add(a, b):\n",
    "            return a + b\n",
    "        return add\n",
    "    elif func_name == \"subtract\":\n",
    "        def subtract(a, b):\n",
    "            return a - b\n",
    "        return subtract\n",
    "    else:\n",
    "        print(\"I don't know that one\")\n",
    "add = create_math_function(\"add\")\n",
    "print(\"5 + 2 = {}\".format(add(5, 2)))\n",
    "\n",
    "subtract = create_math_function(\"subtract\")\n",
    "print(\"5 - 2 = {}\".format(subtract(5, 2)))"
   ]
  },
  {
   "cell_type": "markdown",
   "metadata": {},
   "source": [
    "## Scope"
   ]
  },
  {
   "cell_type": "markdown",
   "metadata": {},
   "source": [
    "### Modifying variables outside local scope"
   ]
  },
  {
   "cell_type": "code",
   "execution_count": 22,
   "metadata": {},
   "outputs": [
    {
     "name": "stdout",
     "output_type": "stream",
     "text": [
      "You've called my_function() 1 times!\n",
      "You've called my_function() 2 times!\n",
      "You've called my_function() 3 times!\n",
      "You've called my_function() 4 times!\n",
      "You've called my_function() 5 times!\n",
      "You've called my_function() 6 times!\n",
      "You've called my_function() 7 times!\n",
      "You've called my_function() 8 times!\n",
      "You've called my_function() 9 times!\n",
      "You've called my_function() 10 times!\n",
      "You've called my_function() 11 times!\n",
      "You've called my_function() 12 times!\n",
      "You've called my_function() 13 times!\n",
      "You've called my_function() 14 times!\n",
      "You've called my_function() 15 times!\n",
      "You've called my_function() 16 times!\n",
      "You've called my_function() 17 times!\n",
      "You've called my_function() 18 times!\n",
      "You've called my_function() 19 times!\n",
      "You've called my_function() 20 times!\n"
     ]
    }
   ],
   "source": [
    "call_count = 0\n",
    "def my_function():\n",
    "    global call_count\n",
    "    call_count += 1\n",
    "    print(\"You've called my_function() {} times!\".format(call_count))\n",
    "for _ in range(20):\n",
    "    my_function()"
   ]
  },
  {
   "cell_type": "code",
   "execution_count": 28,
   "metadata": {},
   "outputs": [
    {
     "name": "stdout",
     "output_type": "stream",
     "text": [
      "It was a bright day in April, and the clocks were striking thirteen.\n",
      "Call me Ishmael.\n",
      "Time is not a line but a dimension, like the dimensions of space.\n",
      "\n"
     ]
    }
   ],
   "source": [
    "def read_files():\n",
    "    file_contents = None\n",
    "    def save_contents(filename):\n",
    "        nonlocal file_contents\n",
    "        if file_contents is None:\n",
    "            file_contents = []\n",
    "        with open(filename) as fin:\n",
    "            file_contents.append(fin.read())\n",
    "    for filename in [\"1984.txt\", \"MobyDick.txt\", \"CatsEye.txt\"]:\n",
    "        save_contents(filename)\n",
    "    return file_contents\n",
    "print(\"\\n\".join(read_files()))"
   ]
  },
  {
   "cell_type": "code",
   "execution_count": 31,
   "metadata": {},
   "outputs": [
    {
     "name": "stdout",
     "output_type": "stream",
     "text": [
      "Work done? True\n"
     ]
    }
   ],
   "source": [
    "from numpy import random\n",
    "def wait_until_done():\n",
    "    def check_is_done():\n",
    "        global done\n",
    "        if random.random() < 0.1:\n",
    "            done = True\n",
    "    while not done:\n",
    "        check_is_done()\n",
    "done = False\n",
    "wait_until_done()\n",
    "print(\"Work done? {}\".format(done))"
   ]
  },
  {
   "cell_type": "markdown",
   "metadata": {},
   "source": [
    "## Closures"
   ]
  },
  {
   "cell_type": "markdown",
   "metadata": {},
   "source": [
    "### Checking for closure "
   ]
  },
  {
   "cell_type": "code",
   "execution_count": 43,
   "metadata": {},
   "outputs": [
    {
     "name": "stdout",
     "output_type": "stream",
     "text": [
      "True\n",
      "True\n",
      "True\n"
     ]
    }
   ],
   "source": [
    "def return_a_func(arg1, arg2):\n",
    "    def new_func():\n",
    "        print(\"arg1 was {}\".format(arg1))\n",
    "        print(\"arg2 was {}\".format(arg2))\n",
    "    return new_func\n",
    "my_func = return_a_func(2,17)\n",
    "print(my_func.__closure__ is not None)\n",
    "print(len(my_func.__closure__) == 2)\n",
    "closure_values = [my_func.__closure__[i].cell_contents for i in range(2)]\n",
    "print(closure_values == [2,17])"
   ]
  },
  {
   "cell_type": "markdown",
   "metadata": {},
   "source": [
    "### Closures keep your values safe"
   ]
  },
  {
   "cell_type": "code",
   "execution_count": 49,
   "metadata": {},
   "outputs": [
    {
     "name": "stdout",
     "output_type": "stream",
     "text": [
      "You are running my_special_function()\n",
      "Hello\n",
      "You are running my_special_function()\n"
     ]
    }
   ],
   "source": [
    "def my_special_function():\n",
    "    print(\"You are running my_special_function()\")\n",
    "\n",
    "def get_new_func(func):\n",
    "    def call_func():\n",
    "        func()\n",
    "    return call_func\n",
    "\n",
    "new_func = get_new_func(my_special_function)\n",
    "\n",
    "def my_special_function():\n",
    "    print(\"Hello\")\n",
    "new_func()\n",
    "\n",
    "del my_special_function\n",
    "new_func()\n",
    "\n",
    "my_special_function = get_new_func(my_special_function)\n",
    "\n",
    "my_special_function()"
   ]
  },
  {
   "cell_type": "code",
   "execution_count": 50,
   "metadata": {},
   "outputs": [
    {
     "name": "stdout",
     "output_type": "stream",
     "text": [
      "You are running my_special_function()\n"
     ]
    }
   ],
   "source": [
    "def my_special_function():\n",
    "    print(\"You are running my_special_function()\")\n",
    "\n",
    "def get_new_func(func):\n",
    "    def call_func():\n",
    "        func()\n",
    "    return call_func\n",
    "my_special_function = get_new_func(my_special_function)\n",
    "\n",
    "my_special_function()"
   ]
  },
  {
   "cell_type": "markdown",
   "metadata": {},
   "source": [
    "## Decorators"
   ]
  },
  {
   "cell_type": "code",
   "execution_count": 52,
   "metadata": {},
   "outputs": [],
   "source": [
    "# Decorators are just functions that take a function as an argument\n",
    "# and return modified version of that function."
   ]
  },
  {
   "cell_type": "markdown",
   "metadata": {},
   "source": [
    "### Using decorator syntax"
   ]
  },
  {
   "cell_type": "code",
   "execution_count": 68,
   "metadata": {},
   "outputs": [
    {
     "name": "stdout",
     "output_type": "stream",
     "text": [
      "my_function was called with a=1,b=2,c=3\n",
      "6\n"
     ]
    }
   ],
   "source": [
    "def print_args(func):\n",
    "    def wrapper(*args):\n",
    "        print(\"my_function was called with a={},b={},c={}\".format(*args))\n",
    "        return func(*args)\n",
    "    return wrapper\n",
    "def my_function(a, b, c):\n",
    "  print(a + b + c)\n",
    "my_function = print_args(my_function)\n",
    "my_function(1, 2, 3)"
   ]
  },
  {
   "cell_type": "code",
   "execution_count": 65,
   "metadata": {},
   "outputs": [
    {
     "name": "stdout",
     "output_type": "stream",
     "text": [
      "my_function was called with a=1,b=2,c=3\n",
      "6\n"
     ]
    }
   ],
   "source": [
    "@print_args\n",
    "def my_function(a, b, c):\n",
    "    print(a + b + c)\n",
    "my_function(1, 2, 3)"
   ]
  },
  {
   "cell_type": "markdown",
   "metadata": {},
   "source": [
    "### Defining a decorator"
   ]
  },
  {
   "cell_type": "code",
   "execution_count": 3,
   "metadata": {},
   "outputs": [
    {
     "name": "stdout",
     "output_type": "stream",
     "text": [
      "Before multiply\n",
      "After multiply\n"
     ]
    },
    {
     "data": {
      "text/plain": [
       "50"
      ]
     },
     "execution_count": 3,
     "metadata": {},
     "output_type": "execute_result"
    }
   ],
   "source": [
    "def print_before_and_after(func):\n",
    "    def wrapper(*args):\n",
    "        print(\"Before {}\".format(func.__name__))\n",
    "        result = func(*args)\n",
    "        print(\"After {}\".format(func.__name__))\n",
    "        return result\n",
    "    return wrapper\n",
    "\n",
    "@print_before_and_after\n",
    "def multiply(a, b):\n",
    "    return a * b\n",
    "multiply(5, 10)"
   ]
  }
 ],
 "metadata": {
  "kernelspec": {
   "display_name": "Python 3",
   "language": "python",
   "name": "python3"
  },
  "language_info": {
   "codemirror_mode": {
    "name": "ipython",
    "version": 3
   },
   "file_extension": ".py",
   "mimetype": "text/x-python",
   "name": "python",
   "nbconvert_exporter": "python",
   "pygments_lexer": "ipython3",
   "version": "3.8.3"
  }
 },
 "nbformat": 4,
 "nbformat_minor": 4
}
