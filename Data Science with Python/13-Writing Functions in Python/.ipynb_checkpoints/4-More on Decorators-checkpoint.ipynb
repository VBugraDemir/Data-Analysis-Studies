{
 "cells": [
  {
   "cell_type": "markdown",
   "metadata": {},
   "source": [
    "# More on Decorators"
   ]
  },
  {
   "cell_type": "code",
   "execution_count": 41,
   "metadata": {},
   "outputs": [
    {
     "name": "stdout",
     "output_type": "stream",
     "text": [
      "Sleeping...\n",
      "5.000113248825073\n"
     ]
    },
    {
     "data": {
      "text/plain": [
       "10"
      ]
     },
     "execution_count": 41,
     "metadata": {},
     "output_type": "execute_result"
    }
   ],
   "source": [
    "import time\n",
    "def slow_function(a,b):\n",
    "    print(\"Sleeping...\")\n",
    "    s = time.time()\n",
    "    time.sleep(5)\n",
    "    e = time.time()\n",
    "    print(e-s)\n",
    "    return a+b\n",
    "slow_function(5,5)"
   ]
  },
  {
   "cell_type": "markdown",
   "metadata": {},
   "source": [
    "## Real-world examples"
   ]
  },
  {
   "cell_type": "code",
   "execution_count": null,
   "metadata": {},
   "outputs": [],
   "source": [
    "# When to use decorators? When you want to add some bit of code to multiple functions."
   ]
  },
  {
   "cell_type": "markdown",
   "metadata": {},
   "source": [
    "### Print the return type"
   ]
  },
  {
   "cell_type": "code",
   "execution_count": 8,
   "metadata": {},
   "outputs": [
    {
     "name": "stdout",
     "output_type": "stream",
     "text": [
      "foo() retutned type <class 'int'>\n",
      "42\n",
      "foo() retutned type <class 'list'>\n",
      "[1, 2, 3]\n",
      "foo() retutned type <class 'dict'>\n",
      "{'a': 42}\n"
     ]
    }
   ],
   "source": [
    "def print_return_type(func):\n",
    "    def wrapper(*args, **kwargs):\n",
    "        result = func(*args, **kwargs)\n",
    "        print(\"{}() retutned type {}\".format(func.__name__, type(result)))\n",
    "        return result\n",
    "    return wrapper\n",
    "\n",
    "@print_return_type\n",
    "def foo(value):\n",
    "    return value\n",
    "print(foo(42))\n",
    "print(foo([1, 2, 3]))\n",
    "print(foo({\"a\":42}))"
   ]
  },
  {
   "cell_type": "markdown",
   "metadata": {},
   "source": [
    "### Counter"
   ]
  },
  {
   "cell_type": "code",
   "execution_count": 20,
   "metadata": {},
   "outputs": [
    {
     "name": "stdout",
     "output_type": "stream",
     "text": [
      "foo() was called 2 times.\n"
     ]
    }
   ],
   "source": [
    "def counter(func):\n",
    "    def wrapper(*args, **kwargs):\n",
    "        wrapper.count +=1\n",
    "        return wrapper.count\n",
    "    wrapper.count = 0\n",
    "    return wrapper\n",
    "@counter\n",
    "def foo():\n",
    "    print(\"calling foo()\")\n",
    "@counter\n",
    "def boo():\n",
    "    print(\"calling boo()\")\n",
    "foo()\n",
    "foo()\n",
    "\n",
    "print(\"foo() was called {} times.\".format(boo.count))"
   ]
  },
  {
   "cell_type": "markdown",
   "metadata": {},
   "source": [
    "## Decorators and metadata "
   ]
  },
  {
   "cell_type": "code",
   "execution_count": 26,
   "metadata": {},
   "outputs": [
    {
     "name": "stdout",
     "output_type": "stream",
     "text": [
      "Hello\n",
      "30\n",
      "None\n",
      "\n",
      "\n",
      "Hello\n",
      "30\n",
      "Print 'hello' and then call the decorated function.\n",
      "\n",
      "\n",
      "Hello\n",
      "30\n",
      "Adds two numbers and prints the sum\n"
     ]
    }
   ],
   "source": [
    "def add_hello(func):\n",
    "    def wrapper(*args, **kwargs):\n",
    "        print(\"Hello\")\n",
    "        return func(*args, **kwargs)\n",
    "    return wrapper\n",
    "\n",
    "@add_hello\n",
    "def print_sum(a,b):\n",
    "    \"\"\"Adds two numbers and prints the sum\"\"\"\n",
    "    print(a+b)\n",
    "print_sum(10, 20)\n",
    "print(print_sum.__doc__)\n",
    "print(\"\\n\")\n",
    "\n",
    "\n",
    "def add_hello(func):\n",
    "    def wrapper(*args, **kwargs):\n",
    "        \"\"\"Print 'hello' and then call the decorated function.\"\"\"\n",
    "        print(\"Hello\")\n",
    "        return func(*args, **kwargs)\n",
    "    return wrapper\n",
    "\n",
    "@add_hello\n",
    "def print_sum(a,b):\n",
    "    \"\"\"Adds two numbers and prints the sum\"\"\"\n",
    "    print(a+b)\n",
    "print_sum(10, 20)\n",
    "print(print_sum.__doc__)\n",
    "print(\"\\n\")\n",
    "\n",
    "\n",
    "from functools import wraps\n",
    "def add_hello(func):\n",
    "    @wraps(func)\n",
    "    def wrapper(*args, **kwargs):\n",
    "        \"\"\"Print 'hello' and then call the decorated function.\"\"\"\n",
    "        print(\"Hello\")\n",
    "        return func(*args, **kwargs)\n",
    "    return wrapper\n",
    "\n",
    "@add_hello\n",
    "def print_sum(a,b):\n",
    "    \"\"\"Adds two numbers and prints the sum\"\"\"\n",
    "    print(a+b)\n",
    "print_sum(10, 20)\n",
    "print(print_sum.__doc__)"
   ]
  },
  {
   "cell_type": "markdown",
   "metadata": {},
   "source": [
    "### Measuring decorator overhead"
   ]
  },
  {
   "cell_type": "code",
   "execution_count": 50,
   "metadata": {},
   "outputs": [
    {
     "name": "stdout",
     "output_type": "stream",
     "text": [
      "Decorated time: 1.50106s\n",
      "Undecorated time: 0.00000s\n"
     ]
    }
   ],
   "source": [
    "def check_everything(func):\n",
    "  @wraps(func)\n",
    "  def wrapper(*args, **kwargs):\n",
    "    time.sleep(1.5)\n",
    "    result = func(*args, **kwargs)\n",
    "    return result\n",
    "  return wrapper\n",
    "\n",
    "@check_everything\n",
    "def duplicate(my_list):\n",
    "    return my_list + my_list\n",
    "\n",
    "t_start = time.time()\n",
    "duplicated_list = duplicate(list(range(50)))\n",
    "t_end = time.time()\n",
    "decorated_time = t_end - t_start\n",
    "\n",
    "t_start = time.time()\n",
    "duplicated_list = duplicate.__wrapped__(list(range(50)))\n",
    "t_end = time.time()\n",
    "undecorated = t_end - t_start\n",
    "print(\"Decorated time: {:.5f}s\".format(decorated_time))\n",
    "print(\"Undecorated time: {:.5f}s\".format(undecorated))"
   ]
  },
  {
   "cell_type": "markdown",
   "metadata": {},
   "source": [
    "## Decorators that take arguments"
   ]
  },
  {
   "cell_type": "markdown",
   "metadata": {},
   "source": [
    "### Run_n_times() "
   ]
  },
  {
   "cell_type": "code",
   "execution_count": 58,
   "metadata": {},
   "outputs": [
    {
     "name": "stdout",
     "output_type": "stream",
     "text": [
      "35\n",
      "35\n",
      "35\n",
      "35\n",
      "35\n",
      "35\n",
      "35\n",
      "35\n",
      "35\n",
      "35\n",
      "104\n",
      "104\n",
      "104\n",
      "104\n",
      "104\n"
     ]
    }
   ],
   "source": [
    "def run_n_times(n):\n",
    "  def decorator(func):\n",
    "    def wrapper(*args, **kwargs):\n",
    "      for i in range(n):\n",
    "        func(*args, **kwargs)\n",
    "    return wrapper\n",
    "  return decorator\n",
    "\n",
    "@run_n_times(10)\n",
    "def print_sum(a, b):\n",
    "    print (a+b)\n",
    "\n",
    "print_sum(15,20)\n",
    "\n",
    "run_5_times = run_n_times(5)\n",
    "@run_5_times\n",
    "def print_sum(a, b):\n",
    "    print(a+b)\n",
    "print_sum(4, 100)\n"
   ]
  },
  {
   "cell_type": "markdown",
   "metadata": {},
   "source": [
    "### HTML Generator"
   ]
  },
  {
   "cell_type": "code",
   "execution_count": 71,
   "metadata": {},
   "outputs": [
    {
     "name": "stdout",
     "output_type": "stream",
     "text": [
      "<b>Hello Alice!</b>\n",
      "\n",
      "\n",
      "<i>Goodbye Alice.</i>\n",
      "\n",
      "\n",
      "<div>\n",
      "<b>Hello Alice!</b>\n",
      "<i>Goodbye Alice.</i>\n",
      "</div>\n"
     ]
    }
   ],
   "source": [
    "def html(open_tag, close_tag):\n",
    "    def decorator(func):\n",
    "        @wraps(func)\n",
    "        def wrapper(*args, **kwargs):\n",
    "            msg = func(*args, **kwargs)\n",
    "            return \"{}{}{}\".format(open_tag, msg, close_tag)\n",
    "        return wrapper\n",
    "    return decorator\n",
    "\n",
    "@html(\"<b>\", \"</b>\")\n",
    "def hello(name):\n",
    "    return \"Hello {}!\".format(name)\n",
    "print(hello(\"Alice\"))\n",
    "print(\"\\n\")\n",
    "\n",
    "@html(\"<i>\", \"</i>\")\n",
    "def goodbye(name):\n",
    "    return \"Goodbye {}.\".format(name)\n",
    "print(goodbye(\"Alice\"))\n",
    "print(\"\\n\")\n",
    "\n",
    "@html(\"<div>\",\"</div>\")\n",
    "def hello_goodbye(name):\n",
    "    return \"\\n{}\\n{}\\n\".format(hello(name), goodbye(name))\n",
    "print(hello_goodbye(\"Alice\"))"
   ]
  },
  {
   "cell_type": "markdown",
   "metadata": {},
   "source": [
    "## Timeout(): a real world example"
   ]
  },
  {
   "cell_type": "markdown",
   "metadata": {},
   "source": [
    "### Tag your functions"
   ]
  },
  {
   "cell_type": "code",
   "execution_count": 74,
   "metadata": {},
   "outputs": [
    {
     "name": "stdout",
     "output_type": "stream",
     "text": [
      "('test', 'this is a tag')\n"
     ]
    }
   ],
   "source": [
    "def tag(*tags):\n",
    "    def decorator(func):\n",
    "        @wraps(func)\n",
    "        def wrapper(*args, **kwargs):\n",
    "            return func(*args, **kwargs)\n",
    "        wrapper.tags = tags\n",
    "        return wrapper\n",
    "    return decorator\n",
    "\n",
    "@tag(\"test\", \"this is a tag\")\n",
    "def foo():\n",
    "    pass\n",
    "print(foo.tags)"
   ]
  },
  {
   "cell_type": "markdown",
   "metadata": {},
   "source": [
    "### Check the return type"
   ]
  },
  {
   "cell_type": "code",
   "execution_count": 80,
   "metadata": {},
   "outputs": [
    {
     "name": "stdout",
     "output_type": "stream",
     "text": [
      "foo() did not return a dict!!\n",
      "foo() did not return a dict!!\n"
     ]
    }
   ],
   "source": [
    "def returns_dict(func):\n",
    "    def wrapper(*args, **kwargs):\n",
    "        result = func(*args, **kwargs)\n",
    "        assert(type(result) == dict)\n",
    "        return result\n",
    "    return wrapper\n",
    "\n",
    "@returns_dict\n",
    "def foo(value):\n",
    "    return value\n",
    "\n",
    "try:\n",
    "    print(foo([1, 2, 3]))\n",
    "except AssertionError:\n",
    "    print(\"foo() did not return a dict!!\")\n",
    "    \n",
    "def returns(return_type):\n",
    "    def decorator(func):\n",
    "        def wrapper(*args, **kwargs):\n",
    "            result = func(*args, **kwargs)\n",
    "            assert(type(result) == return_type)\n",
    "        return wrapper\n",
    "    return decorator\n",
    "\n",
    "@returns(dict)\n",
    "def foo(value):\n",
    "    return value\n",
    "\n",
    "try:\n",
    "    print(foo([1,2,3]))\n",
    "except AssertionError:\n",
    "    print(\"foo() did not return a dict!!\")"
   ]
  },
  {
   "cell_type": "code",
   "execution_count": null,
   "metadata": {},
   "outputs": [],
   "source": []
  }
 ],
 "metadata": {
  "kernelspec": {
   "display_name": "Python 3",
   "language": "python",
   "name": "python3"
  },
  "language_info": {
   "codemirror_mode": {
    "name": "ipython",
    "version": 3
   },
   "file_extension": ".py",
   "mimetype": "text/x-python",
   "name": "python",
   "nbconvert_exporter": "python",
   "pygments_lexer": "ipython3",
   "version": "3.8.3"
  }
 },
 "nbformat": 4,
 "nbformat_minor": 4
}
