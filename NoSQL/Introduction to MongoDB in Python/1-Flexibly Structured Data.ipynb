{
 "cells": [
  {
   "cell_type": "markdown",
   "metadata": {},
   "source": [
    "# Flexibly Structured Data"
   ]
  },
  {
   "cell_type": "markdown",
   "metadata": {},
   "source": [
    "## Intro to MongoDB and the Nobel Prize dataset"
   ]
  },
  {
   "cell_type": "markdown",
   "metadata": {},
   "source": [
    "MongoDB is a tool that helps you explore data without requiring it to have a strict, known structure. You can handle diverse data together and unify analytics.\n",
    "\n",
    "Most application programming interfaces (APIs) on the web today expose a certain data format. JavaScript is the language of web browsers. JSON (JavaScript Object Notation) is a common way that web services and clint code pass data. It is also the basis of MongoDB's data format.\n",
    "\n",
    "JSON has two collection structures; Objects and Array.\n",
    "\n",
    "Objects map string keys to values and order of values is not important. For array order is important. JSON objects are like Python dictionaries. Arrays are like Python lists. Null maps to None in Python.\n",
    "\n",
    "A database maps names to collections. Collections can be accessed by name the same way values in Python ditionaries can be accessed. A collection is like a list of dictionaries called \"documents\" by MongoDB. When a dictionary is a value within a document, that's a subdocument. MongoDB also supports some types native to Python like dates and regular expressions. \n",
    "\n",
    "To access databases and collections you can use '[ ]' or you can use dot notation. \n",
    "\n",
    "To count documents use the \"count_documents\" collection method and you can filter by what you want to count. \n",
    "\n",
    "To inspect one document use \".find_one()\"."
   ]
  },
  {
   "cell_type": "code",
   "execution_count": null,
   "metadata": {},
   "outputs": [],
   "source": [
    "# run mongod.exe // https://www.youtube.com/watch?v=D0U8vD8m1I0"
   ]
  },
  {
   "cell_type": "code",
   "execution_count": 4,
   "metadata": {},
   "outputs": [
    {
     "name": "stdout",
     "output_type": "stream",
     "text": [
      "MongoClient(host=['localhost:27017'], document_class=dict, tz_aware=False, connect=True)\n"
     ]
    }
   ],
   "source": [
    "import requests\n",
    "from pymongo import MongoClient\n",
    "\n",
    "client = MongoClient()\n",
    "print(client)\n",
    "db = client[\"nobel\"]\n",
    "\n",
    "for collection_name in [\"prizes\", \"laureates\"]:\n",
    "    response = requests.get(\"http://api.nobelprize.org/v1/{}.json\".format(collection_name[:-1]))\n",
    "    documents = response.json()[collection_name]\n",
    "    db[collection_name].insert_many(documents)"
   ]
  },
  {
   "cell_type": "markdown",
   "metadata": {},
   "source": [
    "### Count documents in a collection\n"
   ]
  },
  {
   "cell_type": "code",
   "execution_count": 20,
   "metadata": {},
   "outputs": [
    {
     "name": "stdout",
     "output_type": "stream",
     "text": [
      "652\n",
      "955\n"
     ]
    }
   ],
   "source": [
    "print(db.prizes.count_documents({}))\n",
    "# client.nobel.prizes.count_documents({})\n",
    "\n",
    "print(db.laureates.count_documents({}))"
   ]
  },
  {
   "cell_type": "markdown",
   "metadata": {},
   "source": [
    "### Listing databases and collections"
   ]
  },
  {
   "cell_type": "code",
   "execution_count": 32,
   "metadata": {},
   "outputs": [
    {
     "name": "stdout",
     "output_type": "stream",
     "text": [
      "['admin', 'config', 'local', 'nobel']\n",
      "['laureates', 'prizes']\n"
     ]
    }
   ],
   "source": [
    "db_names = client.list_database_names()\n",
    "print(db_names)\n",
    "\n",
    "nobel_col_names = client.nobel.list_collection_names()\n",
    "print(nobel_col_names)"
   ]
  },
  {
   "cell_type": "code",
   "execution_count": 30,
   "metadata": {},
   "outputs": [
    {
     "data": {
      "text/plain": [
       "['laureates', 'prizes']"
      ]
     },
     "execution_count": 30,
     "metadata": {},
     "output_type": "execute_result"
    }
   ],
   "source": [
    "client.nobel.list_collection_names()"
   ]
  },
  {
   "cell_type": "markdown",
   "metadata": {},
   "source": [
    "### List fields of a document"
   ]
  },
  {
   "cell_type": "markdown",
   "metadata": {},
   "source": [
    "The .find_one() method of a collection can be used to retrieve a single document. "
   ]
  },
  {
   "cell_type": "code",
   "execution_count": 37,
   "metadata": {},
   "outputs": [],
   "source": [
    "db = client.nobel"
   ]
  },
  {
   "cell_type": "code",
   "execution_count": 42,
   "metadata": {},
   "outputs": [
    {
     "name": "stdout",
     "output_type": "stream",
     "text": [
      "{'_id': ObjectId('614dc00ea86e98712247ad2f'), 'year': '2020', 'category': 'chemistry', 'laureates': [{'id': '991', 'firstname': 'Emmanuelle', 'surname': 'Charpentier', 'motivation': '\"for the development of a method for genome editing\"', 'share': '2'}, {'id': '992', 'firstname': 'Jennifer A.', 'surname': 'Doudna', 'motivation': '\"for the development of a method for genome editing\"', 'share': '2'}]}\n",
      "{'_id': ObjectId('614dc045a86e98712247afbb'), 'id': '1', 'firstname': 'Wilhelm Conrad', 'surname': 'Röntgen', 'born': '1845-03-27', 'died': '1923-02-10', 'bornCountry': 'Prussia (now Germany)', 'bornCountryCode': 'DE', 'bornCity': 'Lennep (now Remscheid)', 'diedCountry': 'Germany', 'diedCountryCode': 'DE', 'diedCity': 'Munich', 'gender': 'male', 'prizes': [{'year': '1901', 'category': 'physics', 'share': '1', 'motivation': '\"in recognition of the extraordinary services he has rendered by the discovery of the remarkable rays subsequently named after him\"', 'affiliations': [{'name': 'Munich University', 'city': 'Munich', 'country': 'Germany'}]}]}\n",
      "<class 'dict'>\n",
      "['_id', 'year', 'category', 'laureates']\n",
      "['_id', 'id', 'firstname', 'surname', 'born', 'died', 'bornCountry', 'bornCountryCode', 'bornCity', 'diedCountry', 'diedCountryCode', 'diedCity', 'gender', 'prizes']\n"
     ]
    }
   ],
   "source": [
    "prize = db.prizes.find_one()\n",
    "laureate = db.laureates.find_one()\n",
    "\n",
    "print(prize)\n",
    "print(laureate)\n",
    "print(type(laureate))\n",
    "\n",
    "prize_fields = list(prize.keys())\n",
    "laureate_fields = list(laureate.keys())\n",
    "\n",
    "print(prize_fields)\n",
    "print(laureate_fields)"
   ]
  },
  {
   "cell_type": "markdown",
   "metadata": {},
   "source": [
    "## Finding documents\n"
   ]
  },
  {
   "cell_type": "code",
   "execution_count": 115,
   "metadata": {},
   "outputs": [
    {
     "name": "stdout",
     "output_type": "stream",
     "text": [
      "gender = female: 57\n",
      "diedCountry = France: 51\n",
      "bornCity = Warsaw: 2\n",
      "gender= female, diedCountry = France, bornCity = Warsaw : 1\n",
      "diedCountry = France or USA: 278\n",
      "diedCountry not France: 904\n",
      "diedCountry gt Belgium lt USA: 489\n"
     ]
    }
   ],
   "source": [
    "print(\"gender = female:\", db.laureates.count_documents({'gender': 'female'}))\n",
    "\n",
    "print(\"diedCountry = France:\",db.laureates.count_documents({'diedCountry': 'France'}))\n",
    "\n",
    "print(\"bornCity = Warsaw:\",db.laureates.count_documents({'bornCity': 'Warsaw'}))\n",
    "\n",
    "filter_doc = {'gender': 'female', 'diedCountry': 'France','bornCity': 'Warsaw'} # Marie Curie\n",
    "\n",
    "print(\"gender= female, diedCountry = France, bornCity = Warsaw :\", db.laureates.count_documents(filter_doc))\n",
    "\n",
    "# Use $in: <list> for values in a range\n",
    "\n",
    "print(\"diedCountry = France or USA:\", db.laureates.count_documents({\"diedCountry\": {\"$in\": [\"France\", \"USA\"]}})) # either France or USA \n",
    "# Operator in mongoDB have dollar sign prefix.\n",
    "\n",
    "# Use $ne for not equal\n",
    "print(\"diedCountry not France:\",db.laureates.count_documents({\"diedCountry\": {\"$ne\": \"France\"}})) \n",
    "\n",
    "# for comparison >: $gt, >=: $gte, <: $lt, <=: $lte\n",
    "\n",
    "print(\"diedCountry gt Belgium lt USA:\",db.laureates.count_documents({\"diedCountry\": {\"$gt\": \"Belgium\", \"$lte\": \"USA\"}}))\n",
    "# it is ordered lexicographically"
   ]
  },
  {
   "cell_type": "markdown",
   "metadata": {},
   "source": [
    "### \"born\" approximation"
   ]
  },
  {
   "cell_type": "code",
   "execution_count": 131,
   "metadata": {},
   "outputs": [
    {
     "name": "stdout",
     "output_type": "stream",
     "text": [
      "1\n",
      "1\n"
     ]
    }
   ],
   "source": [
    "print(db.laureates.count_documents({\"born\": {\"$lt\": \"1800\"}}))\n",
    "print(db.laureates.count_documents({\"born\": {\"$lt\": \"1700\"}}))"
   ]
  },
  {
   "cell_type": "markdown",
   "metadata": {},
   "source": [
    "### Composing filters"
   ]
  },
  {
   "cell_type": "markdown",
   "metadata": {},
   "source": [
    "It is often useful to incrementally build up a filter document in order to see the effect of adding constraints one at a time."
   ]
  },
  {
   "cell_type": "code",
   "execution_count": 136,
   "metadata": {},
   "outputs": [
    {
     "name": "stdout",
     "output_type": "stream",
     "text": [
      "227\n",
      "5\n",
      "1\n"
     ]
    }
   ],
   "source": [
    "criteria = {\"diedCountry\": \"USA\"}\n",
    "count = db.laureates.count_documents(criteria)\n",
    "print(count)\n",
    "\n",
    "criteria = {\"diedCountry\": \"USA\",\n",
    "           \"bornCountry\": \"Germany\"}\n",
    "count = db.laureates.count_documents(criteria)\n",
    "print(count)\n",
    "\n",
    "criteria = {\"diedCountry\": \"USA\",\n",
    "           \"bornCountry\": \"Germany\",\n",
    "           \"firstname\": \"Albert\"}\n",
    "count = db.laureates.count_documents(criteria)\n",
    "print(count)"
   ]
  },
  {
   "cell_type": "markdown",
   "metadata": {},
   "source": [
    "### We've got options"
   ]
  },
  {
   "cell_type": "code",
   "execution_count": 139,
   "metadata": {},
   "outputs": [
    {
     "name": "stdout",
     "output_type": "stream",
     "text": [
      "302\n",
      "73\n"
     ]
    }
   ],
   "source": [
    "criteria = {\"bornCountry\": {\"$in\": [\"Canada\", \"Mexico\", \"USA\"]}}\n",
    "count = db.laureates.count_documents(criteria)\n",
    "print(count)\n",
    "\n",
    "criteria = {\"diedCountry\": \"USA\", \"bornCountry\":{\"$ne\":\"USA\"}} #  so you don't have to list all other options to $in.\n",
    "count = db.laureates.count_documents(criteria) \n",
    "print(count)"
   ]
  },
  {
   "cell_type": "markdown",
   "metadata": {},
   "source": [
    "## Dot notation: reach into substructure"
   ]
  },
  {
   "cell_type": "code",
   "execution_count": 165,
   "metadata": {},
   "outputs": [
    {
     "name": "stdout",
     "output_type": "stream",
     "text": [
      "{'_id': ObjectId('614dc045a86e98712247b0d7'), 'id': '290', 'firstname': 'Walter', 'surname': 'Kohn', 'born': '1923-03-09', 'died': '2016-04-19', 'bornCountry': 'Austria', 'bornCountryCode': 'AT', 'bornCity': 'Vienna', 'diedCountry': 'USA', 'diedCountryCode': 'US', 'diedCity': 'Santa Barbara, CA', 'gender': 'male', 'prizes': [{'year': '1998', 'category': 'chemistry', 'share': '2', 'motivation': '\"for his development of the density-functional theory\"', 'affiliations': [{'name': 'University of California', 'city': 'Santa Barbara, CA', 'country': 'USA'}]}]}\n",
      "University of California 37\n",
      "Berkeley, CA 21\n",
      "bornCountry False 25\n",
      "prizes True 955\n",
      "Non empty array: 955\n",
      "More than one: 6\n"
     ]
    }
   ],
   "source": [
    "# Dot notation is how MongoDB allows us to query document substructure. \n",
    "\n",
    "print(db.laureates.find_one({\"firstname\": \"Walter\", \"surname\": \"Kohn\"}))\n",
    "\n",
    "# MongoDB allows you to query document substructure using dot notation.\n",
    "print(\"University of California\", db.laureates.count_documents({\"prizes.affiliations.name\":\"University of California\"}))\n",
    "\n",
    "print(\"Berkeley, CA\", db.laureates.count_documents({\"prizes.affiliations.city\": \"Berkeley, CA\"}))\n",
    "\n",
    "# Not all the fields in the documents should be present. \n",
    "# You can use $exists operator to check this out.\n",
    "\n",
    "print(\"bornCountry False\", db.laureates.count_documents({\"bornCountry\":{\"$exists\": False}}))\n",
    "print(\"prizes True\", db.laureates.count_documents({\"prizes\":{\"$exists\": True}}))\n",
    "\n",
    "# We can see that all the documents have the prizes field. But this field could be empty \n",
    "# arrays for some. To check that use prize.0\n",
    "print(\"Non empty array:\",db.laureates.count_documents({\"prizes.0\": {\"$exists\":True}}))\n",
    "\n",
    "# Some of the prizes can contain more than one prize\n",
    "print(\"More than one:\",db.laureates.count_documents({\"prizes.1\": {\"$exists\":True}}))"
   ]
  },
  {
   "cell_type": "markdown",
   "metadata": {},
   "source": [
    "### Choosing tools\n"
   ]
  },
  {
   "cell_type": "code",
   "execution_count": 191,
   "metadata": {},
   "outputs": [
    {
     "data": {
      "text/plain": [
       "11"
      ]
     },
     "execution_count": 191,
     "metadata": {},
     "output_type": "execute_result"
    }
   ],
   "source": [
    "# prize winners from Austia with no affiliation to their country\n",
    "db.laureates.count_documents({\"bornCountry\": \"Austria\", \"prizes.affiliations.country\": {\"$ne\":\"Austria\"}})"
   ]
  },
  {
   "cell_type": "markdown",
   "metadata": {},
   "source": [
    "### Starting our ascent"
   ]
  },
  {
   "cell_type": "code",
   "execution_count": 192,
   "metadata": {},
   "outputs": [
    {
     "name": "stdout",
     "output_type": "stream",
     "text": [
      "11\n"
     ]
    }
   ],
   "source": [
    "criteria = {\"bornCountry\": \"Austria\", \"prizes.affiliations.country\": {\"$ne\": \"Austria\"}}\n",
    "count = db.laureates.count_documents(criteria)\n",
    "print(count)"
   ]
  },
  {
   "cell_type": "markdown",
   "metadata": {},
   "source": [
    "### Our 'born' approximation, and a special laureate"
   ]
  },
  {
   "cell_type": "code",
   "execution_count": 195,
   "metadata": {},
   "outputs": [
    {
     "name": "stdout",
     "output_type": "stream",
     "text": [
      "{'_id': ObjectId('614dc045a86e98712247b196'), 'id': '482', 'firstname': 'International Committee of the Red Cross', 'born': '1863-00-00', 'died': '0000-00-00', 'gender': 'org', 'prizes': [{'year': '1917', 'category': 'peace', 'share': '1', 'motivation': '\"for the efforts to take care of wounded soldiers and prisoners of war and their families\"', 'affiliations': [[]]}, {'year': '1944', 'category': 'peace', 'share': '1', 'motivation': '\"for the great work it has performed during the war on behalf of humanity\"', 'affiliations': [[]]}, {'year': '1963', 'category': 'peace', 'share': '2', 'motivation': '\"for promoting the principles of the Geneva Convention and cooperation with the UN\"', 'affiliations': [[]]}]}\n"
     ]
    }
   ],
   "source": [
    "criteria = {\"prizes.2\": {\"$exists\": True}}\n",
    "doc = db.laureates.find_one(criteria)\n",
    "print(doc)"
   ]
  }
 ],
 "metadata": {
  "kernelspec": {
   "display_name": "Python 3",
   "language": "python",
   "name": "python3"
  }
 },
 "nbformat": 4,
 "nbformat_minor": 4
}
