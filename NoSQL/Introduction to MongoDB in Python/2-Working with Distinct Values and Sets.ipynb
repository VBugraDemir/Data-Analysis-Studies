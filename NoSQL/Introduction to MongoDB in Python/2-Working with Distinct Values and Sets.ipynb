{
 "cells": [
  {
   "cell_type": "markdown",
   "metadata": {},
   "source": [
    "# Working with Distinct Values and Sets"
   ]
  },
  {
   "cell_type": "markdown",
   "metadata": {},
   "source": [
    "## Survey Distinct Values"
   ]
  },
  {
   "cell_type": "markdown",
   "metadata": {},
   "source": [
    "Using the distinct() method, you can collect the set of values assigned to a field accross all documents. It is a convenience method for a common aggregation like count_documents(). An aggregation processes data across a collection and produces a computed result."
   ]
  },
  {
   "cell_type": "code",
   "execution_count": 2,
   "metadata": {},
   "outputs": [
    {
     "name": "stdout",
     "output_type": "stream",
     "text": [
      "MongoClient(host=['localhost:27017'], document_class=dict, tz_aware=False, connect=True)\n"
     ]
    }
   ],
   "source": [
    "import requests\n",
    "from pymongo import MongoClient\n",
    "\n",
    "client = MongoClient()\n",
    "print(client)\n",
    "db = client[\"nobel\"]\n",
    "\n",
    "for collection_name in [\"prizes\", \"laureates\"]:\n",
    "    response = requests.get(\"http://api.nobelprize.org/v1/{}.json\".format(collection_name[:-1]))\n",
    "    documents = response.json()[collection_name]\n",
    "    db[collection_name].insert_many(documents)"
   ]
  },
  {
   "cell_type": "markdown",
   "metadata": {},
   "source": [
    "### Categorical data validation"
   ]
  },
  {
   "cell_type": "code",
   "execution_count": 8,
   "metadata": {},
   "outputs": [
    {
     "name": "stdout",
     "output_type": "stream",
     "text": [
      "['chemistry', 'economics', 'literature', 'peace', 'physics', 'medicine']\n",
      "['physics', 'chemistry', 'peace', 'medicine', 'literature', 'economics']\n"
     ]
    }
   ],
   "source": [
    "print(db.prizes.distinct(\"category\"))\n",
    "print(db.laureates.distinct(\"prizes.category\"))\n",
    "\n",
    "assert set(db.prizes.distinct(\"category\")) == set(db.laureates.distinct(\"prizes.category\"))"
   ]
  },
  {
   "cell_type": "markdown",
   "metadata": {},
   "source": [
    "### Never from there, but sometimes there at last"
   ]
  },
  {
   "cell_type": "code",
   "execution_count": 9,
   "metadata": {},
   "outputs": [
    {
     "name": "stdout",
     "output_type": "stream",
     "text": [
      "{'Israel', 'Barbados', 'Greece', 'Tunisia', 'Philippines', 'Puerto Rico', 'Northern Rhodesia (now Zambia)', 'Yugoslavia (now Serbia)', 'Singapore', 'East Germany (now Germany)', 'Jamaica', 'Gabon'}\n"
     ]
    }
   ],
   "source": [
    "countries = set(db.laureates.distinct(\"diedCountry\")) - set(db.laureates.distinct(\"bornCountry\"))\n",
    "print(countries)"
   ]
  },
  {
   "cell_type": "markdown",
   "metadata": {},
   "source": [
    "### Countries of affiliation"
   ]
  },
  {
   "cell_type": "code",
   "execution_count": 13,
   "metadata": {},
   "outputs": [
    {
     "name": "stdout",
     "output_type": "stream",
     "text": [
      "29\n"
     ]
    }
   ],
   "source": [
    "count = len(db.laureates.distinct(\"prizes.affiliations.country\"))\n",
    "print(count)"
   ]
  },
  {
   "cell_type": "markdown",
   "metadata": {},
   "source": [
    "## Distinct Values Given Filters\n"
   ]
  },
  {
   "cell_type": "code",
   "execution_count": 18,
   "metadata": {},
   "outputs": [
    {
     "name": "stdout",
     "output_type": "stream",
     "text": [
      "['physics', 'chemistry', 'medicine']\n",
      "['chemistry', 'physics', 'peace']\n"
     ]
    }
   ],
   "source": [
    "# Distinct method takes an optional filter argument.\n",
    "\n",
    "print(db.prizes.distinct(\"category\", {\"laureates.share\":\"4\"}))\n",
    "\n",
    "print(db.laureates.distinct(\"prizes.category\", {\"prizes.1\":{\"$exists\": True}})) # prize cat. that won more than one prize.\n"
   ]
  },
  {
   "cell_type": "markdown",
   "metadata": {},
   "source": [
    "### Born here, went there"
   ]
  },
  {
   "cell_type": "code",
   "execution_count": 19,
   "metadata": {},
   "outputs": [
    {
     "data": {
      "text/plain": [
       "['USA', 'Denmark', 'Australia', 'United Kingdom']"
      ]
     },
     "execution_count": 19,
     "metadata": {},
     "output_type": "execute_result"
    }
   ],
   "source": [
    "db.laureates.distinct(\"prizes.affiliations.country\", {\"bornCountry\": \"USA\"})"
   ]
  },
  {
   "cell_type": "markdown",
   "metadata": {},
   "source": [
    "### Triple plays (mostly) all around\n"
   ]
  },
  {
   "cell_type": "code",
   "execution_count": 32,
   "metadata": {},
   "outputs": [],
   "source": [
    "criteria = {\"laureates.2\": {\"$exists\": True}}\n",
    "triple_play_categories = set(db.prizes.distinct(\"category\", criteria))\n",
    "assert set(db.prizes.distinct(\"category\")) - triple_play_categories == {\"literature\"}"
   ]
  },
  {
   "cell_type": "markdown",
   "metadata": {},
   "source": [
    "## Filter Arrays using Distinct Values"
   ]
  },
  {
   "cell_type": "code",
   "execution_count": 52,
   "metadata": {},
   "outputs": [
    {
     "name": "stdout",
     "output_type": "stream",
     "text": [
      "Physics: 430\n",
      "Not pysics: 1480\n",
      "Phy, Chem and Med: 1242\n",
      "Not Phy, Chem and Med: 668\n"
     ]
    }
   ],
   "source": [
    "# For arrays, the filter matches if any member of the array matches.\n",
    "\n",
    "print(\"Physics:\", db.laureates.count_documents({\"prizes.category\" : \"physics\"}))\n",
    "\n",
    "print(\"Not pysics:\", db.laureates.count_documents({\"prizes.category\" : {\"$ne\": \"physics\"}}))\n",
    "\n",
    "print(\"Phy, Chem and Med:\", db.laureates.count_documents({\"prizes.category\" : {\"$in\": [\"physics\", \"chemistry\", \"medicine\"]}}))\n",
    "\n",
    "print(\"Not Phy, Chem and Med:\", db.laureates.count_documents({\"prizes.category\" : {\"$nin\": [\"physics\", \"chemistry\", \"medicine\"]}}))"
   ]
  },
  {
   "cell_type": "markdown",
   "metadata": {},
   "source": [
    "### Sharing in physics after World War II\n"
   ]
  },
  {
   "cell_type": "code",
   "execution_count": 76,
   "metadata": {},
   "outputs": [
    {
     "data": {
      "text/plain": [
       "0.12751677852348994"
      ]
     },
     "execution_count": 76,
     "metadata": {},
     "output_type": "execute_result"
    }
   ],
   "source": [
    "(db.laureates.count_documents({\"prizes\":{\"$elemMatch\":{\"category\": \"physics\",\n",
    "                                                     \"share\": {\"$ne\": \"1\"},\n",
    "                                                     \"year\": {\"$lt\": \"1945\"}}}})) / (db.laureates.count_documents({\"prizes\":{\"$elemMatch\":{\"category\": \"physics\",\n",
    "                                                     \"share\": {\"$ne\": \"1\"},\n",
    "                                                     \"year\": {\"$gt\": \"1945\"}}}}))"
   ]
  },
  {
   "cell_type": "markdown",
   "metadata": {},
   "source": [
    "### Meanwhile, in other categories...\n"
   ]
  },
  {
   "cell_type": "code",
   "execution_count": 80,
   "metadata": {},
   "outputs": [
    {
     "name": "stdout",
     "output_type": "stream",
     "text": [
      "1.348623853211009\n"
     ]
    }
   ],
   "source": [
    "unshared = {\"prizes\": {\"$elemMatch\": {\"category\": {\"$nin\" : [\"physics\", \"chemistry\", \"medicine\"]},\n",
    "                                     \"share\": \"1\", \"year\": {\"$gte\": \"1945\"}}}}\n",
    "\n",
    "shared = {\"prizes\": {\"$elemMatch\": {\"category\": {\"$nin\" : [\"physics\", \"chemistry\", \"medicine\"]},\n",
    "                                     \"share\": {\"$ne\": \"1\"}, \"year\": {\"$gte\": \"1945\"}}}}\n",
    "ratio = db.laureates.count_documents(unshared) / db.laureates.count_documents(shared)\n",
    "print(ratio)"
   ]
  },
  {
   "cell_type": "markdown",
   "metadata": {},
   "source": [
    "### Organizations and prizes over time\n"
   ]
  },
  {
   "cell_type": "code",
   "execution_count": 85,
   "metadata": {},
   "outputs": [
    {
     "name": "stdout",
     "output_type": "stream",
     "text": [
      "0.8461538461538461\n"
     ]
    }
   ],
   "source": [
    "before = {\"gender\": \"org\", \"prizes.year\": {\"$lt\": \"1945\"}}\n",
    "\n",
    "after = {\"gender\": \"org\", \"prizes.year\": {\"$gte\": \"1945\"}}\n",
    "\n",
    "n_before = db.laureates.count_documents(before)\n",
    "n_after = db.laureates.count_documents(after)\n",
    "\n",
    "ratio = n_after / (n_after + n_before)\n",
    "print(ratio)"
   ]
  },
  {
   "cell_type": "markdown",
   "metadata": {},
   "source": [
    "### Distinct As You Like It"
   ]
  },
  {
   "cell_type": "code",
   "execution_count": 96,
   "metadata": {
    "scrolled": true
   },
   "outputs": [],
   "source": [
    "# use regex to find substings. You can use the regex operator with the options \n",
    "# operator. The \"i\" option ensures case-insensitive matching.\n",
    "\n",
    "assert set(db.laureates.distinct(\"bornCountry\", {\"bornCountry\":{\"$regex\": \"Poland\"}})) ==set(db.laureates.distinct(\"bornCountry\", {\"bornCountry\":{\"$regex\": \"poland\", \"$options\": \"i\"}}))\n",
    "\n",
    "# to match the beggining of a field's value, use the caret \"^\" character in the\n",
    "# beggining of the string. To escape a character use \"\\\". To match the end of a\n",
    "# field's value use \"$\"."
   ]
  },
  {
   "cell_type": "code",
   "execution_count": 101,
   "metadata": {},
   "outputs": [
    {
     "data": {
      "text/plain": [
       "['German-occupied Poland (now Poland)',\n",
       " 'Poland (now Ukraine)',\n",
       " 'Poland (now Lithuania)',\n",
       " 'Poland (now Belarus)']"
      ]
     },
     "execution_count": 101,
     "metadata": {},
     "output_type": "execute_result"
    }
   ],
   "source": [
    "db.laureates.distinct(\"bornCountry\", {\"bornCountry\":{\"$regex\": \"Poland \\(\"}})"
   ]
  },
  {
   "cell_type": "markdown",
   "metadata": {},
   "source": [
    "### Glenn, George, and others in the G.B. crew"
   ]
  },
  {
   "cell_type": "code",
   "execution_count": 106,
   "metadata": {},
   "outputs": [
    {
     "name": "stdout",
     "output_type": "stream",
     "text": [
      "20\n",
      "20\n"
     ]
    }
   ],
   "source": [
    "from bson.regex import Regex\n",
    "print(db.laureates.count_documents({\"firstname\": {\"$regex\": \"^G\"}, \"surname\":{\"$regex\": \"^S\"}}))\n",
    "\n",
    "print(db.laureates.count_documents({\"firstname\": Regex(\"^G\"), \"surname\": Regex(\"^S\")}))"
   ]
  },
  {
   "cell_type": "markdown",
   "metadata": {},
   "source": [
    "### Germany, then and now"
   ]
  },
  {
   "cell_type": "code",
   "execution_count": 112,
   "metadata": {},
   "outputs": [
    {
     "name": "stdout",
     "output_type": "stream",
     "text": [
      "{'Bavaria (now Germany)', 'Germany', 'Prussia (now Germany)', 'Schleswig (now Germany)', 'Germany (now France)', 'Germany (now Russia)', 'Mecklenburg (now Germany)', 'Germany (now Poland)', 'Hesse-Kassel (now Germany)', 'West Germany (now Germany)', 'East Friesland (now Germany)', 'Württemberg (now Germany)'}\n",
      "\n",
      "{'Germany (now France)', 'Germany', 'Germany (now Poland)', 'Germany (now Russia)'}\n",
      "\n",
      "{'Germany (now Russia)', 'Germany (now Poland)', 'Germany (now France)'}\n",
      "\n",
      "{'Bavaria (now Germany)', 'Prussia (now Germany)', 'Schleswig (now Germany)', 'Mecklenburg (now Germany)', 'Hesse-Kassel (now Germany)', 'West Germany (now Germany)', 'East Friesland (now Germany)', 'Württemberg (now Germany)'}\n"
     ]
    }
   ],
   "source": [
    "criteria = {\"bornCountry\": Regex(\"Germany\")}\n",
    "print(set(db.laureates.distinct(\"bornCountry\", criteria)))\n",
    "print()\n",
    "criteria = {\"bornCountry\": Regex(\"^Germany\")}\n",
    "print(set(db.laureates.distinct(\"bornCountry\", criteria)))\n",
    "print()\n",
    "criteria = {\"bornCountry\": Regex(\"^Germany \" + \"\\(\" + \"now\")}\n",
    "print(set(db.laureates.distinct(\"bornCountry\", criteria)))\n",
    "print()\n",
    "criteria = {\"bornCountry\": Regex(\"now\" + \" Germany\\)\" + \"$\")}\n",
    "print(set(db.laureates.distinct(\"bornCountry\", criteria)))"
   ]
  },
  {
   "cell_type": "markdown",
   "metadata": {},
   "source": [
    "### The prized transistor\n"
   ]
  },
  {
   "cell_type": "code",
   "execution_count": 117,
   "metadata": {},
   "outputs": [
    {
     "name": "stdout",
     "output_type": "stream",
     "text": [
      "[('William B.', 'Shockley'), ('John', 'Bardeen'), ('Walter H.', 'Brattain'), ('William B.', 'Shockley'), ('John', 'Bardeen'), ('Walter H.', 'Brattain')]\n"
     ]
    }
   ],
   "source": [
    "criteria = {\"prizes.motivation\": Regex(\"transistor\")}\n",
    "\n",
    "first, last = \"firstname\", \"surname\"\n",
    "\n",
    "print([(laureates[first], laureates[last]) for laureates in db.laureates.find(criteria)])"
   ]
  }
 ],
 "metadata": {
  "kernelspec": {
   "display_name": "Python 3",
   "language": "python",
   "name": "python3"
  },
  "language_info": {
   "codemirror_mode": {
    "name": "ipython",
    "version": 3
   },
   "file_extension": ".py",
   "mimetype": "text/x-python",
   "name": "python",
   "nbconvert_exporter": "python",
   "pygments_lexer": "ipython3",
   "version": "3.8.3"
  }
 },
 "nbformat": 4,
 "nbformat_minor": 4
}
